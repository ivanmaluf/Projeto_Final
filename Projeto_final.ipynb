{
 "cells": [
  {
   "cell_type": "code",
   "execution_count": 333,
   "metadata": {
    "ExecuteTime": {
     "end_time": "2020-12-16T20:59:04.313429Z",
     "start_time": "2020-12-16T20:59:04.091357Z"
    }
   },
   "outputs": [],
   "source": [
    "import pandas as pd\n",
    "import seaborn as sns\n",
    "import numpy as np\n",
    "import matplotlib.pyplot as plt\n",
    "from sklearn.linear_model import LogisticRegression\n",
    "from sklearn.model_selection import train_test_split\n",
    "from sklearn import datasets\n",
    "from sklearn.metrics import precision_score, recall_score, roc_auc_score, plot_roc_curve,accuracy_score,plot_confusion_matrix,confusion_matrix\n",
    "from sklearn.preprocessing import StandardScaler\n",
    "from sklearn.preprocessing import OrdinalEncoder, OneHotEncoder\n",
    "from sklearn.tree import DecisionTreeClassifier\n",
    "from lightgbm import LGBMClassifier\n"
   ]
  },
  {
   "cell_type": "markdown",
   "metadata": {},
   "source": [
    "# Can you predict whether a patient should be treated of his/her mental illness or not according to the values obtained in the dataset?"
   ]
  },
  {
   "cell_type": "markdown",
   "metadata": {},
   "source": [
    "## Read data"
   ]
  },
  {
   "cell_type": "code",
   "execution_count": 334,
   "metadata": {
    "ExecuteTime": {
     "end_time": "2020-12-16T20:59:14.427309Z",
     "start_time": "2020-12-16T20:59:14.325511Z"
    }
   },
   "outputs": [],
   "source": [
    "survey=pd.read_csv('data/survey.csv')"
   ]
  },
  {
   "cell_type": "code",
   "execution_count": 335,
   "metadata": {
    "ExecuteTime": {
     "end_time": "2020-12-16T20:59:24.904536Z",
     "start_time": "2020-12-16T20:59:24.798709Z"
    }
   },
   "outputs": [
    {
     "data": {
      "text/html": [
       "<div>\n",
       "<style scoped>\n",
       "    .dataframe tbody tr th:only-of-type {\n",
       "        vertical-align: middle;\n",
       "    }\n",
       "\n",
       "    .dataframe tbody tr th {\n",
       "        vertical-align: top;\n",
       "    }\n",
       "\n",
       "    .dataframe thead th {\n",
       "        text-align: right;\n",
       "    }\n",
       "</style>\n",
       "<table border=\"1\" class=\"dataframe\">\n",
       "  <thead>\n",
       "    <tr style=\"text-align: right;\">\n",
       "      <th></th>\n",
       "      <th>Timestamp</th>\n",
       "      <th>Age</th>\n",
       "      <th>Gender</th>\n",
       "      <th>Country</th>\n",
       "      <th>state</th>\n",
       "      <th>self_employed</th>\n",
       "      <th>family_history</th>\n",
       "      <th>treatment</th>\n",
       "      <th>work_interfere</th>\n",
       "      <th>no_employees</th>\n",
       "      <th>remote_work</th>\n",
       "      <th>tech_company</th>\n",
       "      <th>benefits</th>\n",
       "      <th>care_options</th>\n",
       "      <th>wellness_program</th>\n",
       "      <th>seek_help</th>\n",
       "      <th>anonymity</th>\n",
       "      <th>leave</th>\n",
       "      <th>mental_health_consequence</th>\n",
       "      <th>phys_health_consequence</th>\n",
       "      <th>coworkers</th>\n",
       "      <th>supervisor</th>\n",
       "      <th>mental_health_interview</th>\n",
       "      <th>phys_health_interview</th>\n",
       "      <th>mental_vs_physical</th>\n",
       "      <th>obs_consequence</th>\n",
       "      <th>comments</th>\n",
       "    </tr>\n",
       "  </thead>\n",
       "  <tbody>\n",
       "    <tr>\n",
       "      <th>0</th>\n",
       "      <td>2014-08-27 11:29:31</td>\n",
       "      <td>37</td>\n",
       "      <td>Female</td>\n",
       "      <td>United States</td>\n",
       "      <td>IL</td>\n",
       "      <td>NaN</td>\n",
       "      <td>No</td>\n",
       "      <td>Yes</td>\n",
       "      <td>Often</td>\n",
       "      <td>6-25</td>\n",
       "      <td>No</td>\n",
       "      <td>Yes</td>\n",
       "      <td>Yes</td>\n",
       "      <td>Not sure</td>\n",
       "      <td>No</td>\n",
       "      <td>Yes</td>\n",
       "      <td>Yes</td>\n",
       "      <td>Somewhat easy</td>\n",
       "      <td>No</td>\n",
       "      <td>No</td>\n",
       "      <td>Some of them</td>\n",
       "      <td>Yes</td>\n",
       "      <td>No</td>\n",
       "      <td>Maybe</td>\n",
       "      <td>Yes</td>\n",
       "      <td>No</td>\n",
       "      <td>NaN</td>\n",
       "    </tr>\n",
       "    <tr>\n",
       "      <th>1</th>\n",
       "      <td>2014-08-27 11:29:37</td>\n",
       "      <td>44</td>\n",
       "      <td>M</td>\n",
       "      <td>United States</td>\n",
       "      <td>IN</td>\n",
       "      <td>NaN</td>\n",
       "      <td>No</td>\n",
       "      <td>No</td>\n",
       "      <td>Rarely</td>\n",
       "      <td>More than 1000</td>\n",
       "      <td>No</td>\n",
       "      <td>No</td>\n",
       "      <td>Don't know</td>\n",
       "      <td>No</td>\n",
       "      <td>Don't know</td>\n",
       "      <td>Don't know</td>\n",
       "      <td>Don't know</td>\n",
       "      <td>Don't know</td>\n",
       "      <td>Maybe</td>\n",
       "      <td>No</td>\n",
       "      <td>No</td>\n",
       "      <td>No</td>\n",
       "      <td>No</td>\n",
       "      <td>No</td>\n",
       "      <td>Don't know</td>\n",
       "      <td>No</td>\n",
       "      <td>NaN</td>\n",
       "    </tr>\n",
       "    <tr>\n",
       "      <th>2</th>\n",
       "      <td>2014-08-27 11:29:44</td>\n",
       "      <td>32</td>\n",
       "      <td>Male</td>\n",
       "      <td>Canada</td>\n",
       "      <td>NaN</td>\n",
       "      <td>NaN</td>\n",
       "      <td>No</td>\n",
       "      <td>No</td>\n",
       "      <td>Rarely</td>\n",
       "      <td>6-25</td>\n",
       "      <td>No</td>\n",
       "      <td>Yes</td>\n",
       "      <td>No</td>\n",
       "      <td>No</td>\n",
       "      <td>No</td>\n",
       "      <td>No</td>\n",
       "      <td>Don't know</td>\n",
       "      <td>Somewhat difficult</td>\n",
       "      <td>No</td>\n",
       "      <td>No</td>\n",
       "      <td>Yes</td>\n",
       "      <td>Yes</td>\n",
       "      <td>Yes</td>\n",
       "      <td>Yes</td>\n",
       "      <td>No</td>\n",
       "      <td>No</td>\n",
       "      <td>NaN</td>\n",
       "    </tr>\n",
       "    <tr>\n",
       "      <th>3</th>\n",
       "      <td>2014-08-27 11:29:46</td>\n",
       "      <td>31</td>\n",
       "      <td>Male</td>\n",
       "      <td>United Kingdom</td>\n",
       "      <td>NaN</td>\n",
       "      <td>NaN</td>\n",
       "      <td>Yes</td>\n",
       "      <td>Yes</td>\n",
       "      <td>Often</td>\n",
       "      <td>26-100</td>\n",
       "      <td>No</td>\n",
       "      <td>Yes</td>\n",
       "      <td>No</td>\n",
       "      <td>Yes</td>\n",
       "      <td>No</td>\n",
       "      <td>No</td>\n",
       "      <td>No</td>\n",
       "      <td>Somewhat difficult</td>\n",
       "      <td>Yes</td>\n",
       "      <td>Yes</td>\n",
       "      <td>Some of them</td>\n",
       "      <td>No</td>\n",
       "      <td>Maybe</td>\n",
       "      <td>Maybe</td>\n",
       "      <td>No</td>\n",
       "      <td>Yes</td>\n",
       "      <td>NaN</td>\n",
       "    </tr>\n",
       "    <tr>\n",
       "      <th>4</th>\n",
       "      <td>2014-08-27 11:30:22</td>\n",
       "      <td>31</td>\n",
       "      <td>Male</td>\n",
       "      <td>United States</td>\n",
       "      <td>TX</td>\n",
       "      <td>NaN</td>\n",
       "      <td>No</td>\n",
       "      <td>No</td>\n",
       "      <td>Never</td>\n",
       "      <td>100-500</td>\n",
       "      <td>Yes</td>\n",
       "      <td>Yes</td>\n",
       "      <td>Yes</td>\n",
       "      <td>No</td>\n",
       "      <td>Don't know</td>\n",
       "      <td>Don't know</td>\n",
       "      <td>Don't know</td>\n",
       "      <td>Don't know</td>\n",
       "      <td>No</td>\n",
       "      <td>No</td>\n",
       "      <td>Some of them</td>\n",
       "      <td>Yes</td>\n",
       "      <td>Yes</td>\n",
       "      <td>Yes</td>\n",
       "      <td>Don't know</td>\n",
       "      <td>No</td>\n",
       "      <td>NaN</td>\n",
       "    </tr>\n",
       "  </tbody>\n",
       "</table>\n",
       "</div>"
      ],
      "text/plain": [
       "             Timestamp  Age  Gender         Country state self_employed  \\\n",
       "0  2014-08-27 11:29:31   37  Female   United States    IL           NaN   \n",
       "1  2014-08-27 11:29:37   44       M   United States    IN           NaN   \n",
       "2  2014-08-27 11:29:44   32    Male          Canada   NaN           NaN   \n",
       "3  2014-08-27 11:29:46   31    Male  United Kingdom   NaN           NaN   \n",
       "4  2014-08-27 11:30:22   31    Male   United States    TX           NaN   \n",
       "\n",
       "  family_history treatment work_interfere    no_employees remote_work  \\\n",
       "0             No       Yes          Often            6-25          No   \n",
       "1             No        No         Rarely  More than 1000          No   \n",
       "2             No        No         Rarely            6-25          No   \n",
       "3            Yes       Yes          Often          26-100          No   \n",
       "4             No        No          Never         100-500         Yes   \n",
       "\n",
       "  tech_company    benefits care_options wellness_program   seek_help  \\\n",
       "0          Yes         Yes     Not sure               No         Yes   \n",
       "1           No  Don't know           No       Don't know  Don't know   \n",
       "2          Yes          No           No               No          No   \n",
       "3          Yes          No          Yes               No          No   \n",
       "4          Yes         Yes           No       Don't know  Don't know   \n",
       "\n",
       "    anonymity               leave mental_health_consequence  \\\n",
       "0         Yes       Somewhat easy                        No   \n",
       "1  Don't know          Don't know                     Maybe   \n",
       "2  Don't know  Somewhat difficult                        No   \n",
       "3          No  Somewhat difficult                       Yes   \n",
       "4  Don't know          Don't know                        No   \n",
       "\n",
       "  phys_health_consequence     coworkers supervisor mental_health_interview  \\\n",
       "0                      No  Some of them        Yes                      No   \n",
       "1                      No            No         No                      No   \n",
       "2                      No           Yes        Yes                     Yes   \n",
       "3                     Yes  Some of them         No                   Maybe   \n",
       "4                      No  Some of them        Yes                     Yes   \n",
       "\n",
       "  phys_health_interview mental_vs_physical obs_consequence comments  \n",
       "0                 Maybe                Yes              No      NaN  \n",
       "1                    No         Don't know              No      NaN  \n",
       "2                   Yes                 No              No      NaN  \n",
       "3                 Maybe                 No             Yes      NaN  \n",
       "4                   Yes         Don't know              No      NaN  "
      ]
     },
     "execution_count": 335,
     "metadata": {},
     "output_type": "execute_result"
    }
   ],
   "source": [
    "survey.head()"
   ]
  },
  {
   "cell_type": "code",
   "execution_count": 336,
   "metadata": {
    "ExecuteTime": {
     "end_time": "2020-12-16T20:59:36.447826Z",
     "start_time": "2020-12-16T20:59:36.398072Z"
    }
   },
   "outputs": [
    {
     "data": {
      "text/plain": [
       "(1259, 27)"
      ]
     },
     "execution_count": 336,
     "metadata": {},
     "output_type": "execute_result"
    }
   ],
   "source": [
    "survey.shape"
   ]
  },
  {
   "cell_type": "code",
   "execution_count": 337,
   "metadata": {
    "ExecuteTime": {
     "end_time": "2020-12-16T20:59:47.371934Z",
     "start_time": "2020-12-16T20:59:47.299337Z"
    }
   },
   "outputs": [
    {
     "data": {
      "text/plain": [
       "Yes    637\n",
       "No     622\n",
       "Name: treatment, dtype: int64"
      ]
     },
     "execution_count": 337,
     "metadata": {},
     "output_type": "execute_result"
    }
   ],
   "source": [
    "survey['treatment'].value_counts()"
   ]
  },
  {
   "cell_type": "code",
   "execution_count": 338,
   "metadata": {
    "ExecuteTime": {
     "end_time": "2020-12-16T20:59:57.823941Z",
     "start_time": "2020-12-16T20:59:57.750640Z"
    }
   },
   "outputs": [
    {
     "data": {
      "text/html": [
       "<div>\n",
       "<style scoped>\n",
       "    .dataframe tbody tr th:only-of-type {\n",
       "        vertical-align: middle;\n",
       "    }\n",
       "\n",
       "    .dataframe tbody tr th {\n",
       "        vertical-align: top;\n",
       "    }\n",
       "\n",
       "    .dataframe thead th {\n",
       "        text-align: right;\n",
       "    }\n",
       "</style>\n",
       "<table border=\"1\" class=\"dataframe\">\n",
       "  <thead>\n",
       "    <tr style=\"text-align: right;\">\n",
       "      <th></th>\n",
       "      <th>Timestamp</th>\n",
       "      <th>Age</th>\n",
       "      <th>Gender</th>\n",
       "      <th>Country</th>\n",
       "      <th>state</th>\n",
       "      <th>self_employed</th>\n",
       "      <th>family_history</th>\n",
       "      <th>treatment</th>\n",
       "      <th>work_interfere</th>\n",
       "      <th>no_employees</th>\n",
       "      <th>remote_work</th>\n",
       "      <th>tech_company</th>\n",
       "      <th>benefits</th>\n",
       "      <th>care_options</th>\n",
       "      <th>wellness_program</th>\n",
       "      <th>seek_help</th>\n",
       "      <th>anonymity</th>\n",
       "      <th>leave</th>\n",
       "      <th>mental_health_consequence</th>\n",
       "      <th>phys_health_consequence</th>\n",
       "      <th>coworkers</th>\n",
       "      <th>supervisor</th>\n",
       "      <th>mental_health_interview</th>\n",
       "      <th>phys_health_interview</th>\n",
       "      <th>mental_vs_physical</th>\n",
       "      <th>obs_consequence</th>\n",
       "      <th>comments</th>\n",
       "    </tr>\n",
       "  </thead>\n",
       "  <tbody>\n",
       "    <tr>\n",
       "      <th>0</th>\n",
       "      <td>2014-08-27 11:29:31</td>\n",
       "      <td>37</td>\n",
       "      <td>Female</td>\n",
       "      <td>United States</td>\n",
       "      <td>IL</td>\n",
       "      <td>NaN</td>\n",
       "      <td>No</td>\n",
       "      <td>Yes</td>\n",
       "      <td>Often</td>\n",
       "      <td>6-25</td>\n",
       "      <td>No</td>\n",
       "      <td>Yes</td>\n",
       "      <td>Yes</td>\n",
       "      <td>Not sure</td>\n",
       "      <td>No</td>\n",
       "      <td>Yes</td>\n",
       "      <td>Yes</td>\n",
       "      <td>Somewhat easy</td>\n",
       "      <td>No</td>\n",
       "      <td>No</td>\n",
       "      <td>Some of them</td>\n",
       "      <td>Yes</td>\n",
       "      <td>No</td>\n",
       "      <td>Maybe</td>\n",
       "      <td>Yes</td>\n",
       "      <td>No</td>\n",
       "      <td>NaN</td>\n",
       "    </tr>\n",
       "    <tr>\n",
       "      <th>1</th>\n",
       "      <td>2014-08-27 11:29:37</td>\n",
       "      <td>44</td>\n",
       "      <td>M</td>\n",
       "      <td>United States</td>\n",
       "      <td>IN</td>\n",
       "      <td>NaN</td>\n",
       "      <td>No</td>\n",
       "      <td>No</td>\n",
       "      <td>Rarely</td>\n",
       "      <td>More than 1000</td>\n",
       "      <td>No</td>\n",
       "      <td>No</td>\n",
       "      <td>Don't know</td>\n",
       "      <td>No</td>\n",
       "      <td>Don't know</td>\n",
       "      <td>Don't know</td>\n",
       "      <td>Don't know</td>\n",
       "      <td>Don't know</td>\n",
       "      <td>Maybe</td>\n",
       "      <td>No</td>\n",
       "      <td>No</td>\n",
       "      <td>No</td>\n",
       "      <td>No</td>\n",
       "      <td>No</td>\n",
       "      <td>Don't know</td>\n",
       "      <td>No</td>\n",
       "      <td>NaN</td>\n",
       "    </tr>\n",
       "    <tr>\n",
       "      <th>2</th>\n",
       "      <td>2014-08-27 11:29:44</td>\n",
       "      <td>32</td>\n",
       "      <td>Male</td>\n",
       "      <td>Canada</td>\n",
       "      <td>NaN</td>\n",
       "      <td>NaN</td>\n",
       "      <td>No</td>\n",
       "      <td>No</td>\n",
       "      <td>Rarely</td>\n",
       "      <td>6-25</td>\n",
       "      <td>No</td>\n",
       "      <td>Yes</td>\n",
       "      <td>No</td>\n",
       "      <td>No</td>\n",
       "      <td>No</td>\n",
       "      <td>No</td>\n",
       "      <td>Don't know</td>\n",
       "      <td>Somewhat difficult</td>\n",
       "      <td>No</td>\n",
       "      <td>No</td>\n",
       "      <td>Yes</td>\n",
       "      <td>Yes</td>\n",
       "      <td>Yes</td>\n",
       "      <td>Yes</td>\n",
       "      <td>No</td>\n",
       "      <td>No</td>\n",
       "      <td>NaN</td>\n",
       "    </tr>\n",
       "    <tr>\n",
       "      <th>3</th>\n",
       "      <td>2014-08-27 11:29:46</td>\n",
       "      <td>31</td>\n",
       "      <td>Male</td>\n",
       "      <td>United Kingdom</td>\n",
       "      <td>NaN</td>\n",
       "      <td>NaN</td>\n",
       "      <td>Yes</td>\n",
       "      <td>Yes</td>\n",
       "      <td>Often</td>\n",
       "      <td>26-100</td>\n",
       "      <td>No</td>\n",
       "      <td>Yes</td>\n",
       "      <td>No</td>\n",
       "      <td>Yes</td>\n",
       "      <td>No</td>\n",
       "      <td>No</td>\n",
       "      <td>No</td>\n",
       "      <td>Somewhat difficult</td>\n",
       "      <td>Yes</td>\n",
       "      <td>Yes</td>\n",
       "      <td>Some of them</td>\n",
       "      <td>No</td>\n",
       "      <td>Maybe</td>\n",
       "      <td>Maybe</td>\n",
       "      <td>No</td>\n",
       "      <td>Yes</td>\n",
       "      <td>NaN</td>\n",
       "    </tr>\n",
       "    <tr>\n",
       "      <th>4</th>\n",
       "      <td>2014-08-27 11:30:22</td>\n",
       "      <td>31</td>\n",
       "      <td>Male</td>\n",
       "      <td>United States</td>\n",
       "      <td>TX</td>\n",
       "      <td>NaN</td>\n",
       "      <td>No</td>\n",
       "      <td>No</td>\n",
       "      <td>Never</td>\n",
       "      <td>100-500</td>\n",
       "      <td>Yes</td>\n",
       "      <td>Yes</td>\n",
       "      <td>Yes</td>\n",
       "      <td>No</td>\n",
       "      <td>Don't know</td>\n",
       "      <td>Don't know</td>\n",
       "      <td>Don't know</td>\n",
       "      <td>Don't know</td>\n",
       "      <td>No</td>\n",
       "      <td>No</td>\n",
       "      <td>Some of them</td>\n",
       "      <td>Yes</td>\n",
       "      <td>Yes</td>\n",
       "      <td>Yes</td>\n",
       "      <td>Don't know</td>\n",
       "      <td>No</td>\n",
       "      <td>NaN</td>\n",
       "    </tr>\n",
       "  </tbody>\n",
       "</table>\n",
       "</div>"
      ],
      "text/plain": [
       "             Timestamp  Age  Gender         Country state self_employed  \\\n",
       "0  2014-08-27 11:29:31   37  Female   United States    IL           NaN   \n",
       "1  2014-08-27 11:29:37   44       M   United States    IN           NaN   \n",
       "2  2014-08-27 11:29:44   32    Male          Canada   NaN           NaN   \n",
       "3  2014-08-27 11:29:46   31    Male  United Kingdom   NaN           NaN   \n",
       "4  2014-08-27 11:30:22   31    Male   United States    TX           NaN   \n",
       "\n",
       "  family_history treatment work_interfere    no_employees remote_work  \\\n",
       "0             No       Yes          Often            6-25          No   \n",
       "1             No        No         Rarely  More than 1000          No   \n",
       "2             No        No         Rarely            6-25          No   \n",
       "3            Yes       Yes          Often          26-100          No   \n",
       "4             No        No          Never         100-500         Yes   \n",
       "\n",
       "  tech_company    benefits care_options wellness_program   seek_help  \\\n",
       "0          Yes         Yes     Not sure               No         Yes   \n",
       "1           No  Don't know           No       Don't know  Don't know   \n",
       "2          Yes          No           No               No          No   \n",
       "3          Yes          No          Yes               No          No   \n",
       "4          Yes         Yes           No       Don't know  Don't know   \n",
       "\n",
       "    anonymity               leave mental_health_consequence  \\\n",
       "0         Yes       Somewhat easy                        No   \n",
       "1  Don't know          Don't know                     Maybe   \n",
       "2  Don't know  Somewhat difficult                        No   \n",
       "3          No  Somewhat difficult                       Yes   \n",
       "4  Don't know          Don't know                        No   \n",
       "\n",
       "  phys_health_consequence     coworkers supervisor mental_health_interview  \\\n",
       "0                      No  Some of them        Yes                      No   \n",
       "1                      No            No         No                      No   \n",
       "2                      No           Yes        Yes                     Yes   \n",
       "3                     Yes  Some of them         No                   Maybe   \n",
       "4                      No  Some of them        Yes                     Yes   \n",
       "\n",
       "  phys_health_interview mental_vs_physical obs_consequence comments  \n",
       "0                 Maybe                Yes              No      NaN  \n",
       "1                    No         Don't know              No      NaN  \n",
       "2                   Yes                 No              No      NaN  \n",
       "3                 Maybe                 No             Yes      NaN  \n",
       "4                   Yes         Don't know              No      NaN  "
      ]
     },
     "execution_count": 338,
     "metadata": {},
     "output_type": "execute_result"
    }
   ],
   "source": [
    "survey.head()"
   ]
  },
  {
   "cell_type": "code",
   "execution_count": 339,
   "metadata": {
    "ExecuteTime": {
     "end_time": "2020-12-16T21:00:06.300586Z",
     "start_time": "2020-12-16T21:00:06.275613Z"
    }
   },
   "outputs": [],
   "source": [
    "pd.options.display.max_columns=50 "
   ]
  },
  {
   "cell_type": "markdown",
   "metadata": {},
   "source": [
    "## Data Cleaning"
   ]
  },
  {
   "cell_type": "code",
   "execution_count": 340,
   "metadata": {
    "ExecuteTime": {
     "end_time": "2020-12-16T21:00:13.033500Z",
     "start_time": "2020-12-16T21:00:13.017441Z"
    }
   },
   "outputs": [],
   "source": [
    "df=survey"
   ]
  },
  {
   "cell_type": "code",
   "execution_count": 341,
   "metadata": {
    "ExecuteTime": {
     "end_time": "2020-12-16T21:00:21.129005Z",
     "start_time": "2020-12-16T21:00:20.997625Z"
    }
   },
   "outputs": [
    {
     "data": {
      "text/html": [
       "<div>\n",
       "<style scoped>\n",
       "    .dataframe tbody tr th:only-of-type {\n",
       "        vertical-align: middle;\n",
       "    }\n",
       "\n",
       "    .dataframe tbody tr th {\n",
       "        vertical-align: top;\n",
       "    }\n",
       "\n",
       "    .dataframe thead th {\n",
       "        text-align: right;\n",
       "    }\n",
       "</style>\n",
       "<table border=\"1\" class=\"dataframe\">\n",
       "  <thead>\n",
       "    <tr style=\"text-align: right;\">\n",
       "      <th></th>\n",
       "      <th>Timestamp</th>\n",
       "      <th>Age</th>\n",
       "      <th>Gender</th>\n",
       "      <th>Country</th>\n",
       "      <th>state</th>\n",
       "      <th>self_employed</th>\n",
       "      <th>family_history</th>\n",
       "      <th>treatment</th>\n",
       "      <th>work_interfere</th>\n",
       "      <th>no_employees</th>\n",
       "      <th>remote_work</th>\n",
       "      <th>tech_company</th>\n",
       "      <th>benefits</th>\n",
       "      <th>care_options</th>\n",
       "      <th>wellness_program</th>\n",
       "      <th>seek_help</th>\n",
       "      <th>anonymity</th>\n",
       "      <th>leave</th>\n",
       "      <th>mental_health_consequence</th>\n",
       "      <th>phys_health_consequence</th>\n",
       "      <th>coworkers</th>\n",
       "      <th>supervisor</th>\n",
       "      <th>mental_health_interview</th>\n",
       "      <th>phys_health_interview</th>\n",
       "      <th>mental_vs_physical</th>\n",
       "      <th>obs_consequence</th>\n",
       "      <th>comments</th>\n",
       "    </tr>\n",
       "  </thead>\n",
       "  <tbody>\n",
       "    <tr>\n",
       "      <th>0</th>\n",
       "      <td>2014-08-27 11:29:31</td>\n",
       "      <td>37</td>\n",
       "      <td>Female</td>\n",
       "      <td>United States</td>\n",
       "      <td>IL</td>\n",
       "      <td>NaN</td>\n",
       "      <td>No</td>\n",
       "      <td>Yes</td>\n",
       "      <td>Often</td>\n",
       "      <td>6-25</td>\n",
       "      <td>No</td>\n",
       "      <td>Yes</td>\n",
       "      <td>Yes</td>\n",
       "      <td>Not sure</td>\n",
       "      <td>No</td>\n",
       "      <td>Yes</td>\n",
       "      <td>Yes</td>\n",
       "      <td>Somewhat easy</td>\n",
       "      <td>No</td>\n",
       "      <td>No</td>\n",
       "      <td>Some of them</td>\n",
       "      <td>Yes</td>\n",
       "      <td>No</td>\n",
       "      <td>Maybe</td>\n",
       "      <td>Yes</td>\n",
       "      <td>No</td>\n",
       "      <td>NaN</td>\n",
       "    </tr>\n",
       "    <tr>\n",
       "      <th>1</th>\n",
       "      <td>2014-08-27 11:29:37</td>\n",
       "      <td>44</td>\n",
       "      <td>M</td>\n",
       "      <td>United States</td>\n",
       "      <td>IN</td>\n",
       "      <td>NaN</td>\n",
       "      <td>No</td>\n",
       "      <td>No</td>\n",
       "      <td>Rarely</td>\n",
       "      <td>More than 1000</td>\n",
       "      <td>No</td>\n",
       "      <td>No</td>\n",
       "      <td>Don't know</td>\n",
       "      <td>No</td>\n",
       "      <td>Don't know</td>\n",
       "      <td>Don't know</td>\n",
       "      <td>Don't know</td>\n",
       "      <td>Don't know</td>\n",
       "      <td>Maybe</td>\n",
       "      <td>No</td>\n",
       "      <td>No</td>\n",
       "      <td>No</td>\n",
       "      <td>No</td>\n",
       "      <td>No</td>\n",
       "      <td>Don't know</td>\n",
       "      <td>No</td>\n",
       "      <td>NaN</td>\n",
       "    </tr>\n",
       "    <tr>\n",
       "      <th>2</th>\n",
       "      <td>2014-08-27 11:29:44</td>\n",
       "      <td>32</td>\n",
       "      <td>Male</td>\n",
       "      <td>Canada</td>\n",
       "      <td>NaN</td>\n",
       "      <td>NaN</td>\n",
       "      <td>No</td>\n",
       "      <td>No</td>\n",
       "      <td>Rarely</td>\n",
       "      <td>6-25</td>\n",
       "      <td>No</td>\n",
       "      <td>Yes</td>\n",
       "      <td>No</td>\n",
       "      <td>No</td>\n",
       "      <td>No</td>\n",
       "      <td>No</td>\n",
       "      <td>Don't know</td>\n",
       "      <td>Somewhat difficult</td>\n",
       "      <td>No</td>\n",
       "      <td>No</td>\n",
       "      <td>Yes</td>\n",
       "      <td>Yes</td>\n",
       "      <td>Yes</td>\n",
       "      <td>Yes</td>\n",
       "      <td>No</td>\n",
       "      <td>No</td>\n",
       "      <td>NaN</td>\n",
       "    </tr>\n",
       "    <tr>\n",
       "      <th>3</th>\n",
       "      <td>2014-08-27 11:29:46</td>\n",
       "      <td>31</td>\n",
       "      <td>Male</td>\n",
       "      <td>United Kingdom</td>\n",
       "      <td>NaN</td>\n",
       "      <td>NaN</td>\n",
       "      <td>Yes</td>\n",
       "      <td>Yes</td>\n",
       "      <td>Often</td>\n",
       "      <td>26-100</td>\n",
       "      <td>No</td>\n",
       "      <td>Yes</td>\n",
       "      <td>No</td>\n",
       "      <td>Yes</td>\n",
       "      <td>No</td>\n",
       "      <td>No</td>\n",
       "      <td>No</td>\n",
       "      <td>Somewhat difficult</td>\n",
       "      <td>Yes</td>\n",
       "      <td>Yes</td>\n",
       "      <td>Some of them</td>\n",
       "      <td>No</td>\n",
       "      <td>Maybe</td>\n",
       "      <td>Maybe</td>\n",
       "      <td>No</td>\n",
       "      <td>Yes</td>\n",
       "      <td>NaN</td>\n",
       "    </tr>\n",
       "    <tr>\n",
       "      <th>4</th>\n",
       "      <td>2014-08-27 11:30:22</td>\n",
       "      <td>31</td>\n",
       "      <td>Male</td>\n",
       "      <td>United States</td>\n",
       "      <td>TX</td>\n",
       "      <td>NaN</td>\n",
       "      <td>No</td>\n",
       "      <td>No</td>\n",
       "      <td>Never</td>\n",
       "      <td>100-500</td>\n",
       "      <td>Yes</td>\n",
       "      <td>Yes</td>\n",
       "      <td>Yes</td>\n",
       "      <td>No</td>\n",
       "      <td>Don't know</td>\n",
       "      <td>Don't know</td>\n",
       "      <td>Don't know</td>\n",
       "      <td>Don't know</td>\n",
       "      <td>No</td>\n",
       "      <td>No</td>\n",
       "      <td>Some of them</td>\n",
       "      <td>Yes</td>\n",
       "      <td>Yes</td>\n",
       "      <td>Yes</td>\n",
       "      <td>Don't know</td>\n",
       "      <td>No</td>\n",
       "      <td>NaN</td>\n",
       "    </tr>\n",
       "    <tr>\n",
       "      <th>...</th>\n",
       "      <td>...</td>\n",
       "      <td>...</td>\n",
       "      <td>...</td>\n",
       "      <td>...</td>\n",
       "      <td>...</td>\n",
       "      <td>...</td>\n",
       "      <td>...</td>\n",
       "      <td>...</td>\n",
       "      <td>...</td>\n",
       "      <td>...</td>\n",
       "      <td>...</td>\n",
       "      <td>...</td>\n",
       "      <td>...</td>\n",
       "      <td>...</td>\n",
       "      <td>...</td>\n",
       "      <td>...</td>\n",
       "      <td>...</td>\n",
       "      <td>...</td>\n",
       "      <td>...</td>\n",
       "      <td>...</td>\n",
       "      <td>...</td>\n",
       "      <td>...</td>\n",
       "      <td>...</td>\n",
       "      <td>...</td>\n",
       "      <td>...</td>\n",
       "      <td>...</td>\n",
       "      <td>...</td>\n",
       "    </tr>\n",
       "    <tr>\n",
       "      <th>1254</th>\n",
       "      <td>2015-09-12 11:17:21</td>\n",
       "      <td>26</td>\n",
       "      <td>male</td>\n",
       "      <td>United Kingdom</td>\n",
       "      <td>NaN</td>\n",
       "      <td>No</td>\n",
       "      <td>No</td>\n",
       "      <td>Yes</td>\n",
       "      <td>NaN</td>\n",
       "      <td>26-100</td>\n",
       "      <td>No</td>\n",
       "      <td>Yes</td>\n",
       "      <td>No</td>\n",
       "      <td>No</td>\n",
       "      <td>No</td>\n",
       "      <td>No</td>\n",
       "      <td>Don't know</td>\n",
       "      <td>Somewhat easy</td>\n",
       "      <td>No</td>\n",
       "      <td>No</td>\n",
       "      <td>Some of them</td>\n",
       "      <td>Some of them</td>\n",
       "      <td>No</td>\n",
       "      <td>No</td>\n",
       "      <td>Don't know</td>\n",
       "      <td>No</td>\n",
       "      <td>NaN</td>\n",
       "    </tr>\n",
       "    <tr>\n",
       "      <th>1255</th>\n",
       "      <td>2015-09-26 01:07:35</td>\n",
       "      <td>32</td>\n",
       "      <td>Male</td>\n",
       "      <td>United States</td>\n",
       "      <td>IL</td>\n",
       "      <td>No</td>\n",
       "      <td>Yes</td>\n",
       "      <td>Yes</td>\n",
       "      <td>Often</td>\n",
       "      <td>26-100</td>\n",
       "      <td>Yes</td>\n",
       "      <td>Yes</td>\n",
       "      <td>Yes</td>\n",
       "      <td>Yes</td>\n",
       "      <td>No</td>\n",
       "      <td>No</td>\n",
       "      <td>Yes</td>\n",
       "      <td>Somewhat difficult</td>\n",
       "      <td>No</td>\n",
       "      <td>No</td>\n",
       "      <td>Some of them</td>\n",
       "      <td>Yes</td>\n",
       "      <td>No</td>\n",
       "      <td>No</td>\n",
       "      <td>Yes</td>\n",
       "      <td>No</td>\n",
       "      <td>NaN</td>\n",
       "    </tr>\n",
       "    <tr>\n",
       "      <th>1256</th>\n",
       "      <td>2015-11-07 12:36:58</td>\n",
       "      <td>34</td>\n",
       "      <td>male</td>\n",
       "      <td>United States</td>\n",
       "      <td>CA</td>\n",
       "      <td>No</td>\n",
       "      <td>Yes</td>\n",
       "      <td>Yes</td>\n",
       "      <td>Sometimes</td>\n",
       "      <td>More than 1000</td>\n",
       "      <td>No</td>\n",
       "      <td>Yes</td>\n",
       "      <td>Yes</td>\n",
       "      <td>Yes</td>\n",
       "      <td>No</td>\n",
       "      <td>No</td>\n",
       "      <td>Don't know</td>\n",
       "      <td>Somewhat difficult</td>\n",
       "      <td>Yes</td>\n",
       "      <td>Yes</td>\n",
       "      <td>No</td>\n",
       "      <td>No</td>\n",
       "      <td>No</td>\n",
       "      <td>No</td>\n",
       "      <td>No</td>\n",
       "      <td>No</td>\n",
       "      <td>NaN</td>\n",
       "    </tr>\n",
       "    <tr>\n",
       "      <th>1257</th>\n",
       "      <td>2015-11-30 21:25:06</td>\n",
       "      <td>46</td>\n",
       "      <td>f</td>\n",
       "      <td>United States</td>\n",
       "      <td>NC</td>\n",
       "      <td>No</td>\n",
       "      <td>No</td>\n",
       "      <td>No</td>\n",
       "      <td>NaN</td>\n",
       "      <td>100-500</td>\n",
       "      <td>Yes</td>\n",
       "      <td>Yes</td>\n",
       "      <td>No</td>\n",
       "      <td>Yes</td>\n",
       "      <td>No</td>\n",
       "      <td>No</td>\n",
       "      <td>Don't know</td>\n",
       "      <td>Don't know</td>\n",
       "      <td>Yes</td>\n",
       "      <td>No</td>\n",
       "      <td>No</td>\n",
       "      <td>No</td>\n",
       "      <td>No</td>\n",
       "      <td>No</td>\n",
       "      <td>No</td>\n",
       "      <td>No</td>\n",
       "      <td>NaN</td>\n",
       "    </tr>\n",
       "    <tr>\n",
       "      <th>1258</th>\n",
       "      <td>2016-02-01 23:04:31</td>\n",
       "      <td>25</td>\n",
       "      <td>Male</td>\n",
       "      <td>United States</td>\n",
       "      <td>IL</td>\n",
       "      <td>No</td>\n",
       "      <td>Yes</td>\n",
       "      <td>Yes</td>\n",
       "      <td>Sometimes</td>\n",
       "      <td>26-100</td>\n",
       "      <td>No</td>\n",
       "      <td>No</td>\n",
       "      <td>Yes</td>\n",
       "      <td>Yes</td>\n",
       "      <td>No</td>\n",
       "      <td>No</td>\n",
       "      <td>Yes</td>\n",
       "      <td>Don't know</td>\n",
       "      <td>Maybe</td>\n",
       "      <td>No</td>\n",
       "      <td>Some of them</td>\n",
       "      <td>No</td>\n",
       "      <td>No</td>\n",
       "      <td>No</td>\n",
       "      <td>Don't know</td>\n",
       "      <td>No</td>\n",
       "      <td>NaN</td>\n",
       "    </tr>\n",
       "  </tbody>\n",
       "</table>\n",
       "<p>1259 rows × 27 columns</p>\n",
       "</div>"
      ],
      "text/plain": [
       "                Timestamp  Age  Gender         Country state self_employed  \\\n",
       "0     2014-08-27 11:29:31   37  Female   United States    IL           NaN   \n",
       "1     2014-08-27 11:29:37   44       M   United States    IN           NaN   \n",
       "2     2014-08-27 11:29:44   32    Male          Canada   NaN           NaN   \n",
       "3     2014-08-27 11:29:46   31    Male  United Kingdom   NaN           NaN   \n",
       "4     2014-08-27 11:30:22   31    Male   United States    TX           NaN   \n",
       "...                   ...  ...     ...             ...   ...           ...   \n",
       "1254  2015-09-12 11:17:21   26    male  United Kingdom   NaN            No   \n",
       "1255  2015-09-26 01:07:35   32    Male   United States    IL            No   \n",
       "1256  2015-11-07 12:36:58   34    male   United States    CA            No   \n",
       "1257  2015-11-30 21:25:06   46       f   United States    NC            No   \n",
       "1258  2016-02-01 23:04:31   25    Male   United States    IL            No   \n",
       "\n",
       "     family_history treatment work_interfere    no_employees remote_work  \\\n",
       "0                No       Yes          Often            6-25          No   \n",
       "1                No        No         Rarely  More than 1000          No   \n",
       "2                No        No         Rarely            6-25          No   \n",
       "3               Yes       Yes          Often          26-100          No   \n",
       "4                No        No          Never         100-500         Yes   \n",
       "...             ...       ...            ...             ...         ...   \n",
       "1254             No       Yes            NaN          26-100          No   \n",
       "1255            Yes       Yes          Often          26-100         Yes   \n",
       "1256            Yes       Yes      Sometimes  More than 1000          No   \n",
       "1257             No        No            NaN         100-500         Yes   \n",
       "1258            Yes       Yes      Sometimes          26-100          No   \n",
       "\n",
       "     tech_company    benefits care_options wellness_program   seek_help  \\\n",
       "0             Yes         Yes     Not sure               No         Yes   \n",
       "1              No  Don't know           No       Don't know  Don't know   \n",
       "2             Yes          No           No               No          No   \n",
       "3             Yes          No          Yes               No          No   \n",
       "4             Yes         Yes           No       Don't know  Don't know   \n",
       "...           ...         ...          ...              ...         ...   \n",
       "1254          Yes          No           No               No          No   \n",
       "1255          Yes         Yes          Yes               No          No   \n",
       "1256          Yes         Yes          Yes               No          No   \n",
       "1257          Yes          No          Yes               No          No   \n",
       "1258           No         Yes          Yes               No          No   \n",
       "\n",
       "       anonymity               leave mental_health_consequence  \\\n",
       "0            Yes       Somewhat easy                        No   \n",
       "1     Don't know          Don't know                     Maybe   \n",
       "2     Don't know  Somewhat difficult                        No   \n",
       "3             No  Somewhat difficult                       Yes   \n",
       "4     Don't know          Don't know                        No   \n",
       "...          ...                 ...                       ...   \n",
       "1254  Don't know       Somewhat easy                        No   \n",
       "1255         Yes  Somewhat difficult                        No   \n",
       "1256  Don't know  Somewhat difficult                       Yes   \n",
       "1257  Don't know          Don't know                       Yes   \n",
       "1258         Yes          Don't know                     Maybe   \n",
       "\n",
       "     phys_health_consequence     coworkers    supervisor  \\\n",
       "0                         No  Some of them           Yes   \n",
       "1                         No            No            No   \n",
       "2                         No           Yes           Yes   \n",
       "3                        Yes  Some of them            No   \n",
       "4                         No  Some of them           Yes   \n",
       "...                      ...           ...           ...   \n",
       "1254                      No  Some of them  Some of them   \n",
       "1255                      No  Some of them           Yes   \n",
       "1256                     Yes            No            No   \n",
       "1257                      No            No            No   \n",
       "1258                      No  Some of them            No   \n",
       "\n",
       "     mental_health_interview phys_health_interview mental_vs_physical  \\\n",
       "0                         No                 Maybe                Yes   \n",
       "1                         No                    No         Don't know   \n",
       "2                        Yes                   Yes                 No   \n",
       "3                      Maybe                 Maybe                 No   \n",
       "4                        Yes                   Yes         Don't know   \n",
       "...                      ...                   ...                ...   \n",
       "1254                      No                    No         Don't know   \n",
       "1255                      No                    No                Yes   \n",
       "1256                      No                    No                 No   \n",
       "1257                      No                    No                 No   \n",
       "1258                      No                    No         Don't know   \n",
       "\n",
       "     obs_consequence comments  \n",
       "0                 No      NaN  \n",
       "1                 No      NaN  \n",
       "2                 No      NaN  \n",
       "3                Yes      NaN  \n",
       "4                 No      NaN  \n",
       "...              ...      ...  \n",
       "1254              No      NaN  \n",
       "1255              No      NaN  \n",
       "1256              No      NaN  \n",
       "1257              No      NaN  \n",
       "1258              No      NaN  \n",
       "\n",
       "[1259 rows x 27 columns]"
      ]
     },
     "execution_count": 341,
     "metadata": {},
     "output_type": "execute_result"
    }
   ],
   "source": [
    "df"
   ]
  },
  {
   "cell_type": "code",
   "execution_count": 342,
   "metadata": {
    "ExecuteTime": {
     "end_time": "2020-12-16T21:00:29.413142Z",
     "start_time": "2020-12-16T21:00:29.229317Z"
    }
   },
   "outputs": [
    {
     "name": "stdout",
     "output_type": "stream",
     "text": [
      "<class 'pandas.core.frame.DataFrame'>\n",
      "RangeIndex: 1259 entries, 0 to 1258\n",
      "Data columns (total 27 columns):\n",
      " #   Column                     Non-Null Count  Dtype \n",
      "---  ------                     --------------  ----- \n",
      " 0   Timestamp                  1259 non-null   object\n",
      " 1   Age                        1259 non-null   int64 \n",
      " 2   Gender                     1259 non-null   object\n",
      " 3   Country                    1259 non-null   object\n",
      " 4   state                      744 non-null    object\n",
      " 5   self_employed              1241 non-null   object\n",
      " 6   family_history             1259 non-null   object\n",
      " 7   treatment                  1259 non-null   object\n",
      " 8   work_interfere             995 non-null    object\n",
      " 9   no_employees               1259 non-null   object\n",
      " 10  remote_work                1259 non-null   object\n",
      " 11  tech_company               1259 non-null   object\n",
      " 12  benefits                   1259 non-null   object\n",
      " 13  care_options               1259 non-null   object\n",
      " 14  wellness_program           1259 non-null   object\n",
      " 15  seek_help                  1259 non-null   object\n",
      " 16  anonymity                  1259 non-null   object\n",
      " 17  leave                      1259 non-null   object\n",
      " 18  mental_health_consequence  1259 non-null   object\n",
      " 19  phys_health_consequence    1259 non-null   object\n",
      " 20  coworkers                  1259 non-null   object\n",
      " 21  supervisor                 1259 non-null   object\n",
      " 22  mental_health_interview    1259 non-null   object\n",
      " 23  phys_health_interview      1259 non-null   object\n",
      " 24  mental_vs_physical         1259 non-null   object\n",
      " 25  obs_consequence            1259 non-null   object\n",
      " 26  comments                   164 non-null    object\n",
      "dtypes: int64(1), object(26)\n",
      "memory usage: 265.7+ KB\n"
     ]
    }
   ],
   "source": [
    "df.info()"
   ]
  },
  {
   "cell_type": "code",
   "execution_count": 343,
   "metadata": {
    "ExecuteTime": {
     "end_time": "2020-12-16T21:00:36.766217Z",
     "start_time": "2020-12-16T21:00:36.722362Z"
    }
   },
   "outputs": [],
   "source": [
    "df=df.drop(columns=['Timestamp','state','comments'])"
   ]
  },
  {
   "cell_type": "code",
   "execution_count": 344,
   "metadata": {
    "ExecuteTime": {
     "end_time": "2020-12-16T21:00:48.219874Z",
     "start_time": "2020-12-16T21:00:48.083161Z"
    }
   },
   "outputs": [
    {
     "data": {
      "text/html": [
       "<div>\n",
       "<style scoped>\n",
       "    .dataframe tbody tr th:only-of-type {\n",
       "        vertical-align: middle;\n",
       "    }\n",
       "\n",
       "    .dataframe tbody tr th {\n",
       "        vertical-align: top;\n",
       "    }\n",
       "\n",
       "    .dataframe thead th {\n",
       "        text-align: right;\n",
       "    }\n",
       "</style>\n",
       "<table border=\"1\" class=\"dataframe\">\n",
       "  <thead>\n",
       "    <tr style=\"text-align: right;\">\n",
       "      <th></th>\n",
       "      <th>Age</th>\n",
       "      <th>Gender</th>\n",
       "      <th>Country</th>\n",
       "      <th>self_employed</th>\n",
       "      <th>family_history</th>\n",
       "      <th>treatment</th>\n",
       "      <th>work_interfere</th>\n",
       "      <th>no_employees</th>\n",
       "      <th>remote_work</th>\n",
       "      <th>tech_company</th>\n",
       "      <th>benefits</th>\n",
       "      <th>care_options</th>\n",
       "      <th>wellness_program</th>\n",
       "      <th>seek_help</th>\n",
       "      <th>anonymity</th>\n",
       "      <th>leave</th>\n",
       "      <th>mental_health_consequence</th>\n",
       "      <th>phys_health_consequence</th>\n",
       "      <th>coworkers</th>\n",
       "      <th>supervisor</th>\n",
       "      <th>mental_health_interview</th>\n",
       "      <th>phys_health_interview</th>\n",
       "      <th>mental_vs_physical</th>\n",
       "      <th>obs_consequence</th>\n",
       "    </tr>\n",
       "  </thead>\n",
       "  <tbody>\n",
       "    <tr>\n",
       "      <th>0</th>\n",
       "      <td>37</td>\n",
       "      <td>Female</td>\n",
       "      <td>United States</td>\n",
       "      <td>NaN</td>\n",
       "      <td>No</td>\n",
       "      <td>Yes</td>\n",
       "      <td>Often</td>\n",
       "      <td>6-25</td>\n",
       "      <td>No</td>\n",
       "      <td>Yes</td>\n",
       "      <td>Yes</td>\n",
       "      <td>Not sure</td>\n",
       "      <td>No</td>\n",
       "      <td>Yes</td>\n",
       "      <td>Yes</td>\n",
       "      <td>Somewhat easy</td>\n",
       "      <td>No</td>\n",
       "      <td>No</td>\n",
       "      <td>Some of them</td>\n",
       "      <td>Yes</td>\n",
       "      <td>No</td>\n",
       "      <td>Maybe</td>\n",
       "      <td>Yes</td>\n",
       "      <td>No</td>\n",
       "    </tr>\n",
       "    <tr>\n",
       "      <th>1</th>\n",
       "      <td>44</td>\n",
       "      <td>M</td>\n",
       "      <td>United States</td>\n",
       "      <td>NaN</td>\n",
       "      <td>No</td>\n",
       "      <td>No</td>\n",
       "      <td>Rarely</td>\n",
       "      <td>More than 1000</td>\n",
       "      <td>No</td>\n",
       "      <td>No</td>\n",
       "      <td>Don't know</td>\n",
       "      <td>No</td>\n",
       "      <td>Don't know</td>\n",
       "      <td>Don't know</td>\n",
       "      <td>Don't know</td>\n",
       "      <td>Don't know</td>\n",
       "      <td>Maybe</td>\n",
       "      <td>No</td>\n",
       "      <td>No</td>\n",
       "      <td>No</td>\n",
       "      <td>No</td>\n",
       "      <td>No</td>\n",
       "      <td>Don't know</td>\n",
       "      <td>No</td>\n",
       "    </tr>\n",
       "    <tr>\n",
       "      <th>2</th>\n",
       "      <td>32</td>\n",
       "      <td>Male</td>\n",
       "      <td>Canada</td>\n",
       "      <td>NaN</td>\n",
       "      <td>No</td>\n",
       "      <td>No</td>\n",
       "      <td>Rarely</td>\n",
       "      <td>6-25</td>\n",
       "      <td>No</td>\n",
       "      <td>Yes</td>\n",
       "      <td>No</td>\n",
       "      <td>No</td>\n",
       "      <td>No</td>\n",
       "      <td>No</td>\n",
       "      <td>Don't know</td>\n",
       "      <td>Somewhat difficult</td>\n",
       "      <td>No</td>\n",
       "      <td>No</td>\n",
       "      <td>Yes</td>\n",
       "      <td>Yes</td>\n",
       "      <td>Yes</td>\n",
       "      <td>Yes</td>\n",
       "      <td>No</td>\n",
       "      <td>No</td>\n",
       "    </tr>\n",
       "    <tr>\n",
       "      <th>3</th>\n",
       "      <td>31</td>\n",
       "      <td>Male</td>\n",
       "      <td>United Kingdom</td>\n",
       "      <td>NaN</td>\n",
       "      <td>Yes</td>\n",
       "      <td>Yes</td>\n",
       "      <td>Often</td>\n",
       "      <td>26-100</td>\n",
       "      <td>No</td>\n",
       "      <td>Yes</td>\n",
       "      <td>No</td>\n",
       "      <td>Yes</td>\n",
       "      <td>No</td>\n",
       "      <td>No</td>\n",
       "      <td>No</td>\n",
       "      <td>Somewhat difficult</td>\n",
       "      <td>Yes</td>\n",
       "      <td>Yes</td>\n",
       "      <td>Some of them</td>\n",
       "      <td>No</td>\n",
       "      <td>Maybe</td>\n",
       "      <td>Maybe</td>\n",
       "      <td>No</td>\n",
       "      <td>Yes</td>\n",
       "    </tr>\n",
       "    <tr>\n",
       "      <th>4</th>\n",
       "      <td>31</td>\n",
       "      <td>Male</td>\n",
       "      <td>United States</td>\n",
       "      <td>NaN</td>\n",
       "      <td>No</td>\n",
       "      <td>No</td>\n",
       "      <td>Never</td>\n",
       "      <td>100-500</td>\n",
       "      <td>Yes</td>\n",
       "      <td>Yes</td>\n",
       "      <td>Yes</td>\n",
       "      <td>No</td>\n",
       "      <td>Don't know</td>\n",
       "      <td>Don't know</td>\n",
       "      <td>Don't know</td>\n",
       "      <td>Don't know</td>\n",
       "      <td>No</td>\n",
       "      <td>No</td>\n",
       "      <td>Some of them</td>\n",
       "      <td>Yes</td>\n",
       "      <td>Yes</td>\n",
       "      <td>Yes</td>\n",
       "      <td>Don't know</td>\n",
       "      <td>No</td>\n",
       "    </tr>\n",
       "  </tbody>\n",
       "</table>\n",
       "</div>"
      ],
      "text/plain": [
       "   Age  Gender         Country self_employed family_history treatment  \\\n",
       "0   37  Female   United States           NaN             No       Yes   \n",
       "1   44       M   United States           NaN             No        No   \n",
       "2   32    Male          Canada           NaN             No        No   \n",
       "3   31    Male  United Kingdom           NaN            Yes       Yes   \n",
       "4   31    Male   United States           NaN             No        No   \n",
       "\n",
       "  work_interfere    no_employees remote_work tech_company    benefits  \\\n",
       "0          Often            6-25          No          Yes         Yes   \n",
       "1         Rarely  More than 1000          No           No  Don't know   \n",
       "2         Rarely            6-25          No          Yes          No   \n",
       "3          Often          26-100          No          Yes          No   \n",
       "4          Never         100-500         Yes          Yes         Yes   \n",
       "\n",
       "  care_options wellness_program   seek_help   anonymity               leave  \\\n",
       "0     Not sure               No         Yes         Yes       Somewhat easy   \n",
       "1           No       Don't know  Don't know  Don't know          Don't know   \n",
       "2           No               No          No  Don't know  Somewhat difficult   \n",
       "3          Yes               No          No          No  Somewhat difficult   \n",
       "4           No       Don't know  Don't know  Don't know          Don't know   \n",
       "\n",
       "  mental_health_consequence phys_health_consequence     coworkers supervisor  \\\n",
       "0                        No                      No  Some of them        Yes   \n",
       "1                     Maybe                      No            No         No   \n",
       "2                        No                      No           Yes        Yes   \n",
       "3                       Yes                     Yes  Some of them         No   \n",
       "4                        No                      No  Some of them        Yes   \n",
       "\n",
       "  mental_health_interview phys_health_interview mental_vs_physical  \\\n",
       "0                      No                 Maybe                Yes   \n",
       "1                      No                    No         Don't know   \n",
       "2                     Yes                   Yes                 No   \n",
       "3                   Maybe                 Maybe                 No   \n",
       "4                     Yes                   Yes         Don't know   \n",
       "\n",
       "  obs_consequence  \n",
       "0              No  \n",
       "1              No  \n",
       "2              No  \n",
       "3             Yes  \n",
       "4              No  "
      ]
     },
     "execution_count": 344,
     "metadata": {},
     "output_type": "execute_result"
    }
   ],
   "source": [
    "df.head()"
   ]
  },
  {
   "cell_type": "code",
   "execution_count": 345,
   "metadata": {
    "ExecuteTime": {
     "end_time": "2020-12-16T21:00:56.876151Z",
     "start_time": "2020-12-16T21:00:56.852119Z"
    }
   },
   "outputs": [
    {
     "data": {
      "text/plain": [
       "Age                            0\n",
       "Gender                         0\n",
       "Country                        0\n",
       "self_employed                 18\n",
       "family_history                 0\n",
       "treatment                      0\n",
       "work_interfere               264\n",
       "no_employees                   0\n",
       "remote_work                    0\n",
       "tech_company                   0\n",
       "benefits                       0\n",
       "care_options                   0\n",
       "wellness_program               0\n",
       "seek_help                      0\n",
       "anonymity                      0\n",
       "leave                          0\n",
       "mental_health_consequence      0\n",
       "phys_health_consequence        0\n",
       "coworkers                      0\n",
       "supervisor                     0\n",
       "mental_health_interview        0\n",
       "phys_health_interview          0\n",
       "mental_vs_physical             0\n",
       "obs_consequence                0\n",
       "dtype: int64"
      ]
     },
     "execution_count": 345,
     "metadata": {},
     "output_type": "execute_result"
    }
   ],
   "source": [
    "df.isna().sum()"
   ]
  },
  {
   "cell_type": "code",
   "execution_count": 346,
   "metadata": {
    "ExecuteTime": {
     "end_time": "2020-12-16T21:01:04.691380Z",
     "start_time": "2020-12-16T21:01:04.666827Z"
    }
   },
   "outputs": [
    {
     "data": {
      "text/plain": [
       "No     1095\n",
       "Yes     146\n",
       "Name: self_employed, dtype: int64"
      ]
     },
     "execution_count": 346,
     "metadata": {},
     "output_type": "execute_result"
    }
   ],
   "source": [
    "df['self_employed'].value_counts()"
   ]
  },
  {
   "cell_type": "code",
   "execution_count": 347,
   "metadata": {
    "ExecuteTime": {
     "end_time": "2020-12-16T21:01:11.400938Z",
     "start_time": "2020-12-16T21:01:11.375502Z"
    }
   },
   "outputs": [
    {
     "data": {
      "text/plain": [
       "array([nan, 'Yes', 'No'], dtype=object)"
      ]
     },
     "execution_count": 347,
     "metadata": {},
     "output_type": "execute_result"
    }
   ],
   "source": [
    "df['self_employed'].unique()"
   ]
  },
  {
   "cell_type": "code",
   "execution_count": 348,
   "metadata": {
    "ExecuteTime": {
     "end_time": "2020-12-16T21:01:17.944435Z",
     "start_time": "2020-12-16T21:01:17.924479Z"
    }
   },
   "outputs": [
    {
     "data": {
      "text/plain": [
       "18"
      ]
     },
     "execution_count": 348,
     "metadata": {},
     "output_type": "execute_result"
    }
   ],
   "source": [
    "df['self_employed'].isna().sum()"
   ]
  },
  {
   "cell_type": "code",
   "execution_count": 349,
   "metadata": {
    "ExecuteTime": {
     "end_time": "2020-12-16T21:01:24.584515Z",
     "start_time": "2020-12-16T21:01:24.558558Z"
    }
   },
   "outputs": [],
   "source": [
    "df['self_employed'] = df['self_employed'].fillna('No')"
   ]
  },
  {
   "cell_type": "code",
   "execution_count": 350,
   "metadata": {
    "ExecuteTime": {
     "end_time": "2020-12-16T21:01:32.661850Z",
     "start_time": "2020-12-16T21:01:32.641030Z"
    }
   },
   "outputs": [
    {
     "data": {
      "text/plain": [
       "array(['No', 'Yes'], dtype=object)"
      ]
     },
     "execution_count": 350,
     "metadata": {},
     "output_type": "execute_result"
    }
   ],
   "source": [
    "df['self_employed'].unique()"
   ]
  },
  {
   "cell_type": "code",
   "execution_count": 351,
   "metadata": {
    "ExecuteTime": {
     "end_time": "2020-12-16T21:01:39.655498Z",
     "start_time": "2020-12-16T21:01:39.639508Z"
    }
   },
   "outputs": [
    {
     "data": {
      "text/plain": [
       "No     1113\n",
       "Yes     146\n",
       "Name: self_employed, dtype: int64"
      ]
     },
     "execution_count": 351,
     "metadata": {},
     "output_type": "execute_result"
    }
   ],
   "source": [
    "df['self_employed'].value_counts()"
   ]
  },
  {
   "cell_type": "code",
   "execution_count": 352,
   "metadata": {
    "ExecuteTime": {
     "end_time": "2020-12-16T21:01:46.996933Z",
     "start_time": "2020-12-16T21:01:46.949813Z"
    }
   },
   "outputs": [
    {
     "name": "stdout",
     "output_type": "stream",
     "text": [
      "<class 'pandas.core.frame.DataFrame'>\n",
      "RangeIndex: 1259 entries, 0 to 1258\n",
      "Data columns (total 24 columns):\n",
      " #   Column                     Non-Null Count  Dtype \n",
      "---  ------                     --------------  ----- \n",
      " 0   Age                        1259 non-null   int64 \n",
      " 1   Gender                     1259 non-null   object\n",
      " 2   Country                    1259 non-null   object\n",
      " 3   self_employed              1259 non-null   object\n",
      " 4   family_history             1259 non-null   object\n",
      " 5   treatment                  1259 non-null   object\n",
      " 6   work_interfere             995 non-null    object\n",
      " 7   no_employees               1259 non-null   object\n",
      " 8   remote_work                1259 non-null   object\n",
      " 9   tech_company               1259 non-null   object\n",
      " 10  benefits                   1259 non-null   object\n",
      " 11  care_options               1259 non-null   object\n",
      " 12  wellness_program           1259 non-null   object\n",
      " 13  seek_help                  1259 non-null   object\n",
      " 14  anonymity                  1259 non-null   object\n",
      " 15  leave                      1259 non-null   object\n",
      " 16  mental_health_consequence  1259 non-null   object\n",
      " 17  phys_health_consequence    1259 non-null   object\n",
      " 18  coworkers                  1259 non-null   object\n",
      " 19  supervisor                 1259 non-null   object\n",
      " 20  mental_health_interview    1259 non-null   object\n",
      " 21  phys_health_interview      1259 non-null   object\n",
      " 22  mental_vs_physical         1259 non-null   object\n",
      " 23  obs_consequence            1259 non-null   object\n",
      "dtypes: int64(1), object(23)\n",
      "memory usage: 236.2+ KB\n"
     ]
    }
   ],
   "source": [
    "df.info()"
   ]
  },
  {
   "cell_type": "code",
   "execution_count": 353,
   "metadata": {
    "ExecuteTime": {
     "end_time": "2020-12-16T21:01:53.074683Z",
     "start_time": "2020-12-16T21:01:53.029231Z"
    }
   },
   "outputs": [
    {
     "data": {
      "text/html": [
       "<div>\n",
       "<style scoped>\n",
       "    .dataframe tbody tr th:only-of-type {\n",
       "        vertical-align: middle;\n",
       "    }\n",
       "\n",
       "    .dataframe tbody tr th {\n",
       "        vertical-align: top;\n",
       "    }\n",
       "\n",
       "    .dataframe thead th {\n",
       "        text-align: right;\n",
       "    }\n",
       "</style>\n",
       "<table border=\"1\" class=\"dataframe\">\n",
       "  <thead>\n",
       "    <tr style=\"text-align: right;\">\n",
       "      <th></th>\n",
       "      <th>Age</th>\n",
       "      <th>Gender</th>\n",
       "      <th>Country</th>\n",
       "      <th>self_employed</th>\n",
       "      <th>family_history</th>\n",
       "      <th>treatment</th>\n",
       "      <th>work_interfere</th>\n",
       "      <th>no_employees</th>\n",
       "      <th>remote_work</th>\n",
       "      <th>tech_company</th>\n",
       "      <th>benefits</th>\n",
       "      <th>care_options</th>\n",
       "      <th>wellness_program</th>\n",
       "      <th>seek_help</th>\n",
       "      <th>anonymity</th>\n",
       "      <th>leave</th>\n",
       "      <th>mental_health_consequence</th>\n",
       "      <th>phys_health_consequence</th>\n",
       "      <th>coworkers</th>\n",
       "      <th>supervisor</th>\n",
       "      <th>mental_health_interview</th>\n",
       "      <th>phys_health_interview</th>\n",
       "      <th>mental_vs_physical</th>\n",
       "      <th>obs_consequence</th>\n",
       "    </tr>\n",
       "  </thead>\n",
       "  <tbody>\n",
       "    <tr>\n",
       "      <th>0</th>\n",
       "      <td>37</td>\n",
       "      <td>Female</td>\n",
       "      <td>United States</td>\n",
       "      <td>No</td>\n",
       "      <td>No</td>\n",
       "      <td>Yes</td>\n",
       "      <td>Often</td>\n",
       "      <td>6-25</td>\n",
       "      <td>No</td>\n",
       "      <td>Yes</td>\n",
       "      <td>Yes</td>\n",
       "      <td>Not sure</td>\n",
       "      <td>No</td>\n",
       "      <td>Yes</td>\n",
       "      <td>Yes</td>\n",
       "      <td>Somewhat easy</td>\n",
       "      <td>No</td>\n",
       "      <td>No</td>\n",
       "      <td>Some of them</td>\n",
       "      <td>Yes</td>\n",
       "      <td>No</td>\n",
       "      <td>Maybe</td>\n",
       "      <td>Yes</td>\n",
       "      <td>No</td>\n",
       "    </tr>\n",
       "    <tr>\n",
       "      <th>1</th>\n",
       "      <td>44</td>\n",
       "      <td>M</td>\n",
       "      <td>United States</td>\n",
       "      <td>No</td>\n",
       "      <td>No</td>\n",
       "      <td>No</td>\n",
       "      <td>Rarely</td>\n",
       "      <td>More than 1000</td>\n",
       "      <td>No</td>\n",
       "      <td>No</td>\n",
       "      <td>Don't know</td>\n",
       "      <td>No</td>\n",
       "      <td>Don't know</td>\n",
       "      <td>Don't know</td>\n",
       "      <td>Don't know</td>\n",
       "      <td>Don't know</td>\n",
       "      <td>Maybe</td>\n",
       "      <td>No</td>\n",
       "      <td>No</td>\n",
       "      <td>No</td>\n",
       "      <td>No</td>\n",
       "      <td>No</td>\n",
       "      <td>Don't know</td>\n",
       "      <td>No</td>\n",
       "    </tr>\n",
       "    <tr>\n",
       "      <th>2</th>\n",
       "      <td>32</td>\n",
       "      <td>Male</td>\n",
       "      <td>Canada</td>\n",
       "      <td>No</td>\n",
       "      <td>No</td>\n",
       "      <td>No</td>\n",
       "      <td>Rarely</td>\n",
       "      <td>6-25</td>\n",
       "      <td>No</td>\n",
       "      <td>Yes</td>\n",
       "      <td>No</td>\n",
       "      <td>No</td>\n",
       "      <td>No</td>\n",
       "      <td>No</td>\n",
       "      <td>Don't know</td>\n",
       "      <td>Somewhat difficult</td>\n",
       "      <td>No</td>\n",
       "      <td>No</td>\n",
       "      <td>Yes</td>\n",
       "      <td>Yes</td>\n",
       "      <td>Yes</td>\n",
       "      <td>Yes</td>\n",
       "      <td>No</td>\n",
       "      <td>No</td>\n",
       "    </tr>\n",
       "    <tr>\n",
       "      <th>3</th>\n",
       "      <td>31</td>\n",
       "      <td>Male</td>\n",
       "      <td>United Kingdom</td>\n",
       "      <td>No</td>\n",
       "      <td>Yes</td>\n",
       "      <td>Yes</td>\n",
       "      <td>Often</td>\n",
       "      <td>26-100</td>\n",
       "      <td>No</td>\n",
       "      <td>Yes</td>\n",
       "      <td>No</td>\n",
       "      <td>Yes</td>\n",
       "      <td>No</td>\n",
       "      <td>No</td>\n",
       "      <td>No</td>\n",
       "      <td>Somewhat difficult</td>\n",
       "      <td>Yes</td>\n",
       "      <td>Yes</td>\n",
       "      <td>Some of them</td>\n",
       "      <td>No</td>\n",
       "      <td>Maybe</td>\n",
       "      <td>Maybe</td>\n",
       "      <td>No</td>\n",
       "      <td>Yes</td>\n",
       "    </tr>\n",
       "    <tr>\n",
       "      <th>4</th>\n",
       "      <td>31</td>\n",
       "      <td>Male</td>\n",
       "      <td>United States</td>\n",
       "      <td>No</td>\n",
       "      <td>No</td>\n",
       "      <td>No</td>\n",
       "      <td>Never</td>\n",
       "      <td>100-500</td>\n",
       "      <td>Yes</td>\n",
       "      <td>Yes</td>\n",
       "      <td>Yes</td>\n",
       "      <td>No</td>\n",
       "      <td>Don't know</td>\n",
       "      <td>Don't know</td>\n",
       "      <td>Don't know</td>\n",
       "      <td>Don't know</td>\n",
       "      <td>No</td>\n",
       "      <td>No</td>\n",
       "      <td>Some of them</td>\n",
       "      <td>Yes</td>\n",
       "      <td>Yes</td>\n",
       "      <td>Yes</td>\n",
       "      <td>Don't know</td>\n",
       "      <td>No</td>\n",
       "    </tr>\n",
       "  </tbody>\n",
       "</table>\n",
       "</div>"
      ],
      "text/plain": [
       "   Age  Gender         Country self_employed family_history treatment  \\\n",
       "0   37  Female   United States            No             No       Yes   \n",
       "1   44       M   United States            No             No        No   \n",
       "2   32    Male          Canada            No             No        No   \n",
       "3   31    Male  United Kingdom            No            Yes       Yes   \n",
       "4   31    Male   United States            No             No        No   \n",
       "\n",
       "  work_interfere    no_employees remote_work tech_company    benefits  \\\n",
       "0          Often            6-25          No          Yes         Yes   \n",
       "1         Rarely  More than 1000          No           No  Don't know   \n",
       "2         Rarely            6-25          No          Yes          No   \n",
       "3          Often          26-100          No          Yes          No   \n",
       "4          Never         100-500         Yes          Yes         Yes   \n",
       "\n",
       "  care_options wellness_program   seek_help   anonymity               leave  \\\n",
       "0     Not sure               No         Yes         Yes       Somewhat easy   \n",
       "1           No       Don't know  Don't know  Don't know          Don't know   \n",
       "2           No               No          No  Don't know  Somewhat difficult   \n",
       "3          Yes               No          No          No  Somewhat difficult   \n",
       "4           No       Don't know  Don't know  Don't know          Don't know   \n",
       "\n",
       "  mental_health_consequence phys_health_consequence     coworkers supervisor  \\\n",
       "0                        No                      No  Some of them        Yes   \n",
       "1                     Maybe                      No            No         No   \n",
       "2                        No                      No           Yes        Yes   \n",
       "3                       Yes                     Yes  Some of them         No   \n",
       "4                        No                      No  Some of them        Yes   \n",
       "\n",
       "  mental_health_interview phys_health_interview mental_vs_physical  \\\n",
       "0                      No                 Maybe                Yes   \n",
       "1                      No                    No         Don't know   \n",
       "2                     Yes                   Yes                 No   \n",
       "3                   Maybe                 Maybe                 No   \n",
       "4                     Yes                   Yes         Don't know   \n",
       "\n",
       "  obs_consequence  \n",
       "0              No  \n",
       "1              No  \n",
       "2              No  \n",
       "3             Yes  \n",
       "4              No  "
      ]
     },
     "execution_count": 353,
     "metadata": {},
     "output_type": "execute_result"
    }
   ],
   "source": [
    "df.head()"
   ]
  },
  {
   "cell_type": "code",
   "execution_count": 354,
   "metadata": {
    "ExecuteTime": {
     "end_time": "2020-12-16T21:02:01.195854Z",
     "start_time": "2020-12-16T21:02:01.175527Z"
    }
   },
   "outputs": [
    {
     "data": {
      "text/plain": [
       "array(['Often', 'Rarely', 'Never', 'Sometimes', nan], dtype=object)"
      ]
     },
     "execution_count": 354,
     "metadata": {},
     "output_type": "execute_result"
    }
   ],
   "source": [
    "df['work_interfere'].unique()"
   ]
  },
  {
   "cell_type": "code",
   "execution_count": 355,
   "metadata": {
    "ExecuteTime": {
     "end_time": "2020-12-16T21:02:08.037992Z",
     "start_time": "2020-12-16T21:02:08.017961Z"
    }
   },
   "outputs": [
    {
     "data": {
      "text/plain": [
       "Sometimes    465\n",
       "Never        213\n",
       "Rarely       173\n",
       "Often        144\n",
       "Name: work_interfere, dtype: int64"
      ]
     },
     "execution_count": 355,
     "metadata": {},
     "output_type": "execute_result"
    }
   ],
   "source": [
    "df['work_interfere'].value_counts()"
   ]
  },
  {
   "cell_type": "code",
   "execution_count": 356,
   "metadata": {
    "ExecuteTime": {
     "end_time": "2020-12-16T21:02:14.745158Z",
     "start_time": "2020-12-16T21:02:14.723570Z"
    }
   },
   "outputs": [],
   "source": [
    "df['work_interfere'] = df['work_interfere'].fillna('Don\\'t know')"
   ]
  },
  {
   "cell_type": "code",
   "execution_count": 357,
   "metadata": {
    "ExecuteTime": {
     "end_time": "2020-12-16T21:02:21.974519Z",
     "start_time": "2020-12-16T21:02:21.960032Z"
    }
   },
   "outputs": [
    {
     "data": {
      "text/plain": [
       "array(['Often', 'Rarely', 'Never', 'Sometimes', \"Don't know\"],\n",
       "      dtype=object)"
      ]
     },
     "execution_count": 357,
     "metadata": {},
     "output_type": "execute_result"
    }
   ],
   "source": [
    "df['work_interfere'].unique()"
   ]
  },
  {
   "cell_type": "code",
   "execution_count": 358,
   "metadata": {
    "ExecuteTime": {
     "end_time": "2020-12-16T21:02:29.421024Z",
     "start_time": "2020-12-16T21:02:29.400062Z"
    }
   },
   "outputs": [
    {
     "data": {
      "text/plain": [
       "Sometimes     465\n",
       "Don't know    264\n",
       "Never         213\n",
       "Rarely        173\n",
       "Often         144\n",
       "Name: work_interfere, dtype: int64"
      ]
     },
     "execution_count": 358,
     "metadata": {},
     "output_type": "execute_result"
    }
   ],
   "source": [
    "df['work_interfere'].value_counts()"
   ]
  },
  {
   "cell_type": "code",
   "execution_count": 359,
   "metadata": {
    "ExecuteTime": {
     "end_time": "2020-12-16T21:02:36.064467Z",
     "start_time": "2020-12-16T21:02:36.017455Z"
    }
   },
   "outputs": [],
   "source": [
    "df['Gender']=df['Gender'].str.lower()"
   ]
  },
  {
   "cell_type": "code",
   "execution_count": 360,
   "metadata": {
    "ExecuteTime": {
     "end_time": "2020-12-16T21:02:43.348417Z",
     "start_time": "2020-12-16T21:02:43.336418Z"
    }
   },
   "outputs": [
    {
     "data": {
      "text/plain": [
       "0       female\n",
       "1            m\n",
       "2         male\n",
       "3         male\n",
       "4         male\n",
       "         ...  \n",
       "1254      male\n",
       "1255      male\n",
       "1256      male\n",
       "1257         f\n",
       "1258      male\n",
       "Name: Gender, Length: 1259, dtype: object"
      ]
     },
     "execution_count": 360,
     "metadata": {},
     "output_type": "execute_result"
    }
   ],
   "source": [
    "df['Gender']"
   ]
  },
  {
   "cell_type": "code",
   "execution_count": 361,
   "metadata": {
    "ExecuteTime": {
     "end_time": "2020-12-16T21:02:53.210331Z",
     "start_time": "2020-12-16T21:02:53.164920Z"
    }
   },
   "outputs": [],
   "source": [
    "male_names = [\"male\", \"m\", \"male-ish\", \"maile\", \"mal\", \"male (cis)\", \"make\", \"male \", \"man\",\"msle\", \"mail\", \"malr\",\"cis man\", \"Cis Male\", \"cis male\",'a little about you', 'p']\n",
    "trans_names = [\"trans-female\", \"something kinda male?\", \"queer/she/they\", \"non-binary\",\"nah\", \"all\", \"enby\", \"fluid\", \"genderqueer\", \"androgyne\", \"agender\", \"male leaning androgynous\", \"guy (-ish) ^_^\", \"trans woman\", \"neuter\", \"female (trans)\", \"queer\", \"ostensibly male, unsure what that really means\"]           \n",
    "female_names = [\"cis female\", \"f\", \"female\", \"woman\",  \"femake\", \"female \",\"cis-female/femme\", \"female (cis)\", \"femail\"]"
   ]
  },
  {
   "cell_type": "code",
   "execution_count": 362,
   "metadata": {
    "ExecuteTime": {
     "end_time": "2020-12-16T21:03:02.305776Z",
     "start_time": "2020-12-16T21:03:02.187777Z"
    }
   },
   "outputs": [
    {
     "data": {
      "text/html": [
       "<div>\n",
       "<style scoped>\n",
       "    .dataframe tbody tr th:only-of-type {\n",
       "        vertical-align: middle;\n",
       "    }\n",
       "\n",
       "    .dataframe tbody tr th {\n",
       "        vertical-align: top;\n",
       "    }\n",
       "\n",
       "    .dataframe thead th {\n",
       "        text-align: right;\n",
       "    }\n",
       "</style>\n",
       "<table border=\"1\" class=\"dataframe\">\n",
       "  <thead>\n",
       "    <tr style=\"text-align: right;\">\n",
       "      <th></th>\n",
       "      <th>Age</th>\n",
       "      <th>Gender</th>\n",
       "      <th>Country</th>\n",
       "      <th>self_employed</th>\n",
       "      <th>family_history</th>\n",
       "      <th>treatment</th>\n",
       "      <th>work_interfere</th>\n",
       "      <th>no_employees</th>\n",
       "      <th>remote_work</th>\n",
       "      <th>tech_company</th>\n",
       "      <th>benefits</th>\n",
       "      <th>care_options</th>\n",
       "      <th>wellness_program</th>\n",
       "      <th>seek_help</th>\n",
       "      <th>anonymity</th>\n",
       "      <th>leave</th>\n",
       "      <th>mental_health_consequence</th>\n",
       "      <th>phys_health_consequence</th>\n",
       "      <th>coworkers</th>\n",
       "      <th>supervisor</th>\n",
       "      <th>mental_health_interview</th>\n",
       "      <th>phys_health_interview</th>\n",
       "      <th>mental_vs_physical</th>\n",
       "      <th>obs_consequence</th>\n",
       "    </tr>\n",
       "  </thead>\n",
       "  <tbody>\n",
       "    <tr>\n",
       "      <th>0</th>\n",
       "      <td>37</td>\n",
       "      <td>female</td>\n",
       "      <td>United States</td>\n",
       "      <td>No</td>\n",
       "      <td>No</td>\n",
       "      <td>Yes</td>\n",
       "      <td>Often</td>\n",
       "      <td>6-25</td>\n",
       "      <td>No</td>\n",
       "      <td>Yes</td>\n",
       "      <td>Yes</td>\n",
       "      <td>Not sure</td>\n",
       "      <td>No</td>\n",
       "      <td>Yes</td>\n",
       "      <td>Yes</td>\n",
       "      <td>Somewhat easy</td>\n",
       "      <td>No</td>\n",
       "      <td>No</td>\n",
       "      <td>Some of them</td>\n",
       "      <td>Yes</td>\n",
       "      <td>No</td>\n",
       "      <td>Maybe</td>\n",
       "      <td>Yes</td>\n",
       "      <td>No</td>\n",
       "    </tr>\n",
       "    <tr>\n",
       "      <th>1</th>\n",
       "      <td>44</td>\n",
       "      <td>m</td>\n",
       "      <td>United States</td>\n",
       "      <td>No</td>\n",
       "      <td>No</td>\n",
       "      <td>No</td>\n",
       "      <td>Rarely</td>\n",
       "      <td>More than 1000</td>\n",
       "      <td>No</td>\n",
       "      <td>No</td>\n",
       "      <td>Don't know</td>\n",
       "      <td>No</td>\n",
       "      <td>Don't know</td>\n",
       "      <td>Don't know</td>\n",
       "      <td>Don't know</td>\n",
       "      <td>Don't know</td>\n",
       "      <td>Maybe</td>\n",
       "      <td>No</td>\n",
       "      <td>No</td>\n",
       "      <td>No</td>\n",
       "      <td>No</td>\n",
       "      <td>No</td>\n",
       "      <td>Don't know</td>\n",
       "      <td>No</td>\n",
       "    </tr>\n",
       "    <tr>\n",
       "      <th>2</th>\n",
       "      <td>32</td>\n",
       "      <td>male</td>\n",
       "      <td>Canada</td>\n",
       "      <td>No</td>\n",
       "      <td>No</td>\n",
       "      <td>No</td>\n",
       "      <td>Rarely</td>\n",
       "      <td>6-25</td>\n",
       "      <td>No</td>\n",
       "      <td>Yes</td>\n",
       "      <td>No</td>\n",
       "      <td>No</td>\n",
       "      <td>No</td>\n",
       "      <td>No</td>\n",
       "      <td>Don't know</td>\n",
       "      <td>Somewhat difficult</td>\n",
       "      <td>No</td>\n",
       "      <td>No</td>\n",
       "      <td>Yes</td>\n",
       "      <td>Yes</td>\n",
       "      <td>Yes</td>\n",
       "      <td>Yes</td>\n",
       "      <td>No</td>\n",
       "      <td>No</td>\n",
       "    </tr>\n",
       "    <tr>\n",
       "      <th>3</th>\n",
       "      <td>31</td>\n",
       "      <td>male</td>\n",
       "      <td>United Kingdom</td>\n",
       "      <td>No</td>\n",
       "      <td>Yes</td>\n",
       "      <td>Yes</td>\n",
       "      <td>Often</td>\n",
       "      <td>26-100</td>\n",
       "      <td>No</td>\n",
       "      <td>Yes</td>\n",
       "      <td>No</td>\n",
       "      <td>Yes</td>\n",
       "      <td>No</td>\n",
       "      <td>No</td>\n",
       "      <td>No</td>\n",
       "      <td>Somewhat difficult</td>\n",
       "      <td>Yes</td>\n",
       "      <td>Yes</td>\n",
       "      <td>Some of them</td>\n",
       "      <td>No</td>\n",
       "      <td>Maybe</td>\n",
       "      <td>Maybe</td>\n",
       "      <td>No</td>\n",
       "      <td>Yes</td>\n",
       "    </tr>\n",
       "    <tr>\n",
       "      <th>4</th>\n",
       "      <td>31</td>\n",
       "      <td>male</td>\n",
       "      <td>United States</td>\n",
       "      <td>No</td>\n",
       "      <td>No</td>\n",
       "      <td>No</td>\n",
       "      <td>Never</td>\n",
       "      <td>100-500</td>\n",
       "      <td>Yes</td>\n",
       "      <td>Yes</td>\n",
       "      <td>Yes</td>\n",
       "      <td>No</td>\n",
       "      <td>Don't know</td>\n",
       "      <td>Don't know</td>\n",
       "      <td>Don't know</td>\n",
       "      <td>Don't know</td>\n",
       "      <td>No</td>\n",
       "      <td>No</td>\n",
       "      <td>Some of them</td>\n",
       "      <td>Yes</td>\n",
       "      <td>Yes</td>\n",
       "      <td>Yes</td>\n",
       "      <td>Don't know</td>\n",
       "      <td>No</td>\n",
       "    </tr>\n",
       "  </tbody>\n",
       "</table>\n",
       "</div>"
      ],
      "text/plain": [
       "   Age  Gender         Country self_employed family_history treatment  \\\n",
       "0   37  female   United States            No             No       Yes   \n",
       "1   44       m   United States            No             No        No   \n",
       "2   32    male          Canada            No             No        No   \n",
       "3   31    male  United Kingdom            No            Yes       Yes   \n",
       "4   31    male   United States            No             No        No   \n",
       "\n",
       "  work_interfere    no_employees remote_work tech_company    benefits  \\\n",
       "0          Often            6-25          No          Yes         Yes   \n",
       "1         Rarely  More than 1000          No           No  Don't know   \n",
       "2         Rarely            6-25          No          Yes          No   \n",
       "3          Often          26-100          No          Yes          No   \n",
       "4          Never         100-500         Yes          Yes         Yes   \n",
       "\n",
       "  care_options wellness_program   seek_help   anonymity               leave  \\\n",
       "0     Not sure               No         Yes         Yes       Somewhat easy   \n",
       "1           No       Don't know  Don't know  Don't know          Don't know   \n",
       "2           No               No          No  Don't know  Somewhat difficult   \n",
       "3          Yes               No          No          No  Somewhat difficult   \n",
       "4           No       Don't know  Don't know  Don't know          Don't know   \n",
       "\n",
       "  mental_health_consequence phys_health_consequence     coworkers supervisor  \\\n",
       "0                        No                      No  Some of them        Yes   \n",
       "1                     Maybe                      No            No         No   \n",
       "2                        No                      No           Yes        Yes   \n",
       "3                       Yes                     Yes  Some of them         No   \n",
       "4                        No                      No  Some of them        Yes   \n",
       "\n",
       "  mental_health_interview phys_health_interview mental_vs_physical  \\\n",
       "0                      No                 Maybe                Yes   \n",
       "1                      No                    No         Don't know   \n",
       "2                     Yes                   Yes                 No   \n",
       "3                   Maybe                 Maybe                 No   \n",
       "4                     Yes                   Yes         Don't know   \n",
       "\n",
       "  obs_consequence  \n",
       "0              No  \n",
       "1              No  \n",
       "2              No  \n",
       "3             Yes  \n",
       "4              No  "
      ]
     },
     "execution_count": 362,
     "metadata": {},
     "output_type": "execute_result"
    }
   ],
   "source": [
    "df.head()"
   ]
  },
  {
   "cell_type": "code",
   "execution_count": 363,
   "metadata": {
    "ExecuteTime": {
     "end_time": "2020-12-16T21:03:09.187766Z",
     "start_time": "2020-12-16T21:03:09.016228Z"
    }
   },
   "outputs": [
    {
     "name": "stderr",
     "output_type": "stream",
     "text": [
      "<ipython-input-363-6fe7d7a4e114>:2: SettingWithCopyWarning: \n",
      "A value is trying to be set on a copy of a slice from a DataFrame\n",
      "\n",
      "See the caveats in the documentation: https://pandas.pydata.org/pandas-docs/stable/user_guide/indexing.html#returning-a-view-versus-a-copy\n",
      "  df['Gender'][df['Gender']==i]='male'\n"
     ]
    }
   ],
   "source": [
    "for i in male_names:\n",
    "    df['Gender'][df['Gender']==i]='male'\n",
    "    "
   ]
  },
  {
   "cell_type": "code",
   "execution_count": 364,
   "metadata": {
    "ExecuteTime": {
     "end_time": "2020-12-16T21:03:15.703233Z",
     "start_time": "2020-12-16T21:03:15.624285Z"
    }
   },
   "outputs": [
    {
     "name": "stderr",
     "output_type": "stream",
     "text": [
      "<ipython-input-364-73e63e245e3e>:2: SettingWithCopyWarning: \n",
      "A value is trying to be set on a copy of a slice from a DataFrame\n",
      "\n",
      "See the caveats in the documentation: https://pandas.pydata.org/pandas-docs/stable/user_guide/indexing.html#returning-a-view-versus-a-copy\n",
      "  df['Gender'][df['Gender']==i]='trans'\n"
     ]
    }
   ],
   "source": [
    "for i in trans_names:\n",
    "    df['Gender'][df['Gender']==i]='trans'\n"
   ]
  },
  {
   "cell_type": "code",
   "execution_count": 365,
   "metadata": {
    "ExecuteTime": {
     "end_time": "2020-12-16T21:03:22.342294Z",
     "start_time": "2020-12-16T21:03:22.277337Z"
    }
   },
   "outputs": [
    {
     "name": "stderr",
     "output_type": "stream",
     "text": [
      "<ipython-input-365-aca35f149ce6>:2: SettingWithCopyWarning: \n",
      "A value is trying to be set on a copy of a slice from a DataFrame\n",
      "\n",
      "See the caveats in the documentation: https://pandas.pydata.org/pandas-docs/stable/user_guide/indexing.html#returning-a-view-versus-a-copy\n",
      "  df['Gender'][df['Gender']==i]='female'\n"
     ]
    }
   ],
   "source": [
    "for i in female_names:\n",
    "    df['Gender'][df['Gender']==i]='female'"
   ]
  },
  {
   "cell_type": "code",
   "execution_count": 366,
   "metadata": {
    "ExecuteTime": {
     "end_time": "2020-12-16T21:03:29.070578Z",
     "start_time": "2020-12-16T21:03:28.868379Z"
    }
   },
   "outputs": [
    {
     "data": {
      "text/plain": [
       "male      993\n",
       "female    247\n",
       "trans      19\n",
       "Name: Gender, dtype: int64"
      ]
     },
     "execution_count": 366,
     "metadata": {},
     "output_type": "execute_result"
    }
   ],
   "source": [
    "df['Gender'].value_counts()"
   ]
  },
  {
   "cell_type": "code",
   "execution_count": 367,
   "metadata": {
    "ExecuteTime": {
     "end_time": "2020-12-16T21:03:36.183488Z",
     "start_time": "2020-12-16T21:03:36.107254Z"
    }
   },
   "outputs": [
    {
     "data": {
      "text/html": [
       "<div>\n",
       "<style scoped>\n",
       "    .dataframe tbody tr th:only-of-type {\n",
       "        vertical-align: middle;\n",
       "    }\n",
       "\n",
       "    .dataframe tbody tr th {\n",
       "        vertical-align: top;\n",
       "    }\n",
       "\n",
       "    .dataframe thead th {\n",
       "        text-align: right;\n",
       "    }\n",
       "</style>\n",
       "<table border=\"1\" class=\"dataframe\">\n",
       "  <thead>\n",
       "    <tr style=\"text-align: right;\">\n",
       "      <th></th>\n",
       "      <th>Age</th>\n",
       "      <th>Gender</th>\n",
       "      <th>Country</th>\n",
       "      <th>self_employed</th>\n",
       "      <th>family_history</th>\n",
       "      <th>treatment</th>\n",
       "      <th>work_interfere</th>\n",
       "      <th>no_employees</th>\n",
       "      <th>remote_work</th>\n",
       "      <th>tech_company</th>\n",
       "      <th>benefits</th>\n",
       "      <th>care_options</th>\n",
       "      <th>wellness_program</th>\n",
       "      <th>seek_help</th>\n",
       "      <th>anonymity</th>\n",
       "      <th>leave</th>\n",
       "      <th>mental_health_consequence</th>\n",
       "      <th>phys_health_consequence</th>\n",
       "      <th>coworkers</th>\n",
       "      <th>supervisor</th>\n",
       "      <th>mental_health_interview</th>\n",
       "      <th>phys_health_interview</th>\n",
       "      <th>mental_vs_physical</th>\n",
       "      <th>obs_consequence</th>\n",
       "    </tr>\n",
       "  </thead>\n",
       "  <tbody>\n",
       "    <tr>\n",
       "      <th>0</th>\n",
       "      <td>37</td>\n",
       "      <td>female</td>\n",
       "      <td>United States</td>\n",
       "      <td>No</td>\n",
       "      <td>No</td>\n",
       "      <td>Yes</td>\n",
       "      <td>Often</td>\n",
       "      <td>6-25</td>\n",
       "      <td>No</td>\n",
       "      <td>Yes</td>\n",
       "      <td>Yes</td>\n",
       "      <td>Not sure</td>\n",
       "      <td>No</td>\n",
       "      <td>Yes</td>\n",
       "      <td>Yes</td>\n",
       "      <td>Somewhat easy</td>\n",
       "      <td>No</td>\n",
       "      <td>No</td>\n",
       "      <td>Some of them</td>\n",
       "      <td>Yes</td>\n",
       "      <td>No</td>\n",
       "      <td>Maybe</td>\n",
       "      <td>Yes</td>\n",
       "      <td>No</td>\n",
       "    </tr>\n",
       "    <tr>\n",
       "      <th>1</th>\n",
       "      <td>44</td>\n",
       "      <td>male</td>\n",
       "      <td>United States</td>\n",
       "      <td>No</td>\n",
       "      <td>No</td>\n",
       "      <td>No</td>\n",
       "      <td>Rarely</td>\n",
       "      <td>More than 1000</td>\n",
       "      <td>No</td>\n",
       "      <td>No</td>\n",
       "      <td>Don't know</td>\n",
       "      <td>No</td>\n",
       "      <td>Don't know</td>\n",
       "      <td>Don't know</td>\n",
       "      <td>Don't know</td>\n",
       "      <td>Don't know</td>\n",
       "      <td>Maybe</td>\n",
       "      <td>No</td>\n",
       "      <td>No</td>\n",
       "      <td>No</td>\n",
       "      <td>No</td>\n",
       "      <td>No</td>\n",
       "      <td>Don't know</td>\n",
       "      <td>No</td>\n",
       "    </tr>\n",
       "    <tr>\n",
       "      <th>2</th>\n",
       "      <td>32</td>\n",
       "      <td>male</td>\n",
       "      <td>Canada</td>\n",
       "      <td>No</td>\n",
       "      <td>No</td>\n",
       "      <td>No</td>\n",
       "      <td>Rarely</td>\n",
       "      <td>6-25</td>\n",
       "      <td>No</td>\n",
       "      <td>Yes</td>\n",
       "      <td>No</td>\n",
       "      <td>No</td>\n",
       "      <td>No</td>\n",
       "      <td>No</td>\n",
       "      <td>Don't know</td>\n",
       "      <td>Somewhat difficult</td>\n",
       "      <td>No</td>\n",
       "      <td>No</td>\n",
       "      <td>Yes</td>\n",
       "      <td>Yes</td>\n",
       "      <td>Yes</td>\n",
       "      <td>Yes</td>\n",
       "      <td>No</td>\n",
       "      <td>No</td>\n",
       "    </tr>\n",
       "    <tr>\n",
       "      <th>3</th>\n",
       "      <td>31</td>\n",
       "      <td>male</td>\n",
       "      <td>United Kingdom</td>\n",
       "      <td>No</td>\n",
       "      <td>Yes</td>\n",
       "      <td>Yes</td>\n",
       "      <td>Often</td>\n",
       "      <td>26-100</td>\n",
       "      <td>No</td>\n",
       "      <td>Yes</td>\n",
       "      <td>No</td>\n",
       "      <td>Yes</td>\n",
       "      <td>No</td>\n",
       "      <td>No</td>\n",
       "      <td>No</td>\n",
       "      <td>Somewhat difficult</td>\n",
       "      <td>Yes</td>\n",
       "      <td>Yes</td>\n",
       "      <td>Some of them</td>\n",
       "      <td>No</td>\n",
       "      <td>Maybe</td>\n",
       "      <td>Maybe</td>\n",
       "      <td>No</td>\n",
       "      <td>Yes</td>\n",
       "    </tr>\n",
       "    <tr>\n",
       "      <th>4</th>\n",
       "      <td>31</td>\n",
       "      <td>male</td>\n",
       "      <td>United States</td>\n",
       "      <td>No</td>\n",
       "      <td>No</td>\n",
       "      <td>No</td>\n",
       "      <td>Never</td>\n",
       "      <td>100-500</td>\n",
       "      <td>Yes</td>\n",
       "      <td>Yes</td>\n",
       "      <td>Yes</td>\n",
       "      <td>No</td>\n",
       "      <td>Don't know</td>\n",
       "      <td>Don't know</td>\n",
       "      <td>Don't know</td>\n",
       "      <td>Don't know</td>\n",
       "      <td>No</td>\n",
       "      <td>No</td>\n",
       "      <td>Some of them</td>\n",
       "      <td>Yes</td>\n",
       "      <td>Yes</td>\n",
       "      <td>Yes</td>\n",
       "      <td>Don't know</td>\n",
       "      <td>No</td>\n",
       "    </tr>\n",
       "  </tbody>\n",
       "</table>\n",
       "</div>"
      ],
      "text/plain": [
       "   Age  Gender         Country self_employed family_history treatment  \\\n",
       "0   37  female   United States            No             No       Yes   \n",
       "1   44    male   United States            No             No        No   \n",
       "2   32    male          Canada            No             No        No   \n",
       "3   31    male  United Kingdom            No            Yes       Yes   \n",
       "4   31    male   United States            No             No        No   \n",
       "\n",
       "  work_interfere    no_employees remote_work tech_company    benefits  \\\n",
       "0          Often            6-25          No          Yes         Yes   \n",
       "1         Rarely  More than 1000          No           No  Don't know   \n",
       "2         Rarely            6-25          No          Yes          No   \n",
       "3          Often          26-100          No          Yes          No   \n",
       "4          Never         100-500         Yes          Yes         Yes   \n",
       "\n",
       "  care_options wellness_program   seek_help   anonymity               leave  \\\n",
       "0     Not sure               No         Yes         Yes       Somewhat easy   \n",
       "1           No       Don't know  Don't know  Don't know          Don't know   \n",
       "2           No               No          No  Don't know  Somewhat difficult   \n",
       "3          Yes               No          No          No  Somewhat difficult   \n",
       "4           No       Don't know  Don't know  Don't know          Don't know   \n",
       "\n",
       "  mental_health_consequence phys_health_consequence     coworkers supervisor  \\\n",
       "0                        No                      No  Some of them        Yes   \n",
       "1                     Maybe                      No            No         No   \n",
       "2                        No                      No           Yes        Yes   \n",
       "3                       Yes                     Yes  Some of them         No   \n",
       "4                        No                      No  Some of them        Yes   \n",
       "\n",
       "  mental_health_interview phys_health_interview mental_vs_physical  \\\n",
       "0                      No                 Maybe                Yes   \n",
       "1                      No                    No         Don't know   \n",
       "2                     Yes                   Yes                 No   \n",
       "3                   Maybe                 Maybe                 No   \n",
       "4                     Yes                   Yes         Don't know   \n",
       "\n",
       "  obs_consequence  \n",
       "0              No  \n",
       "1              No  \n",
       "2              No  \n",
       "3             Yes  \n",
       "4              No  "
      ]
     },
     "execution_count": 367,
     "metadata": {},
     "output_type": "execute_result"
    }
   ],
   "source": [
    "df.head()"
   ]
  },
  {
   "cell_type": "code",
   "execution_count": 368,
   "metadata": {
    "ExecuteTime": {
     "end_time": "2020-12-16T21:03:42.924207Z",
     "start_time": "2020-12-16T21:03:42.858370Z"
    }
   },
   "outputs": [
    {
     "data": {
      "text/plain": [
       " 29             85\n",
       " 32             82\n",
       " 26             75\n",
       " 27             71\n",
       " 33             70\n",
       " 28             68\n",
       " 31             67\n",
       " 34             65\n",
       " 30             63\n",
       " 25             61\n",
       " 35             55\n",
       " 23             51\n",
       " 24             46\n",
       " 37             43\n",
       " 38             39\n",
       " 36             37\n",
       " 39             33\n",
       " 40             33\n",
       " 43             28\n",
       " 41             21\n",
       " 22             21\n",
       " 42             20\n",
       " 21             16\n",
       " 45             12\n",
       " 46             12\n",
       " 44             11\n",
       " 19              9\n",
       " 18              7\n",
       " 20              6\n",
       " 48              6\n",
       " 50              6\n",
       " 51              5\n",
       " 56              4\n",
       " 49              4\n",
       " 57              3\n",
       " 54              3\n",
       " 55              3\n",
       " 47              2\n",
       " 60              2\n",
       " 11              1\n",
       " 8               1\n",
       " 5               1\n",
       " 99999999999     1\n",
       "-1726            1\n",
       " 53              1\n",
       " 58              1\n",
       " 61              1\n",
       " 62              1\n",
       " 65              1\n",
       " 72              1\n",
       " 329             1\n",
       "-29              1\n",
       "-1               1\n",
       "Name: Age, dtype: int64"
      ]
     },
     "execution_count": 368,
     "metadata": {},
     "output_type": "execute_result"
    }
   ],
   "source": [
    "df['Age'].value_counts()"
   ]
  },
  {
   "cell_type": "code",
   "execution_count": 369,
   "metadata": {
    "ExecuteTime": {
     "end_time": "2020-12-16T21:03:51.699048Z",
     "start_time": "2020-12-16T21:03:51.673455Z"
    }
   },
   "outputs": [],
   "source": [
    "df['Age'].replace({99999999999:31},inplace=True)"
   ]
  },
  {
   "cell_type": "code",
   "execution_count": 370,
   "metadata": {
    "ExecuteTime": {
     "end_time": "2020-12-16T21:03:58.165221Z",
     "start_time": "2020-12-16T21:03:58.155806Z"
    }
   },
   "outputs": [],
   "source": [
    "df['Age'].replace({-1726:31},inplace=True)"
   ]
  },
  {
   "cell_type": "code",
   "execution_count": 371,
   "metadata": {
    "ExecuteTime": {
     "end_time": "2020-12-16T21:04:05.700157Z",
     "start_time": "2020-12-16T21:04:05.684997Z"
    }
   },
   "outputs": [],
   "source": [
    "df['Age'].replace({-29:31},inplace=True)"
   ]
  },
  {
   "cell_type": "code",
   "execution_count": 372,
   "metadata": {
    "ExecuteTime": {
     "end_time": "2020-12-16T21:04:14.663955Z",
     "start_time": "2020-12-16T21:04:14.659463Z"
    }
   },
   "outputs": [],
   "source": [
    "df['Age'].replace({-1:31},inplace=True)"
   ]
  },
  {
   "cell_type": "code",
   "execution_count": 373,
   "metadata": {
    "ExecuteTime": {
     "end_time": "2020-12-16T21:04:21.127487Z",
     "start_time": "2020-12-16T21:04:21.116965Z"
    }
   },
   "outputs": [],
   "source": [
    "df['Age'].replace({8:31},inplace=True)"
   ]
  },
  {
   "cell_type": "code",
   "execution_count": 374,
   "metadata": {
    "ExecuteTime": {
     "end_time": "2020-12-16T21:04:29.779090Z",
     "start_time": "2020-12-16T21:04:29.772363Z"
    }
   },
   "outputs": [],
   "source": [
    "df['Age'].replace({5:31},inplace=True)"
   ]
  },
  {
   "cell_type": "code",
   "execution_count": 375,
   "metadata": {
    "ExecuteTime": {
     "end_time": "2020-12-16T21:04:36.190893Z",
     "start_time": "2020-12-16T21:04:36.176395Z"
    }
   },
   "outputs": [],
   "source": [
    "df['Age'].replace({11:31},inplace=True)"
   ]
  },
  {
   "cell_type": "code",
   "execution_count": 376,
   "metadata": {
    "ExecuteTime": {
     "end_time": "2020-12-16T21:04:42.657670Z",
     "start_time": "2020-12-16T21:04:42.649696Z"
    }
   },
   "outputs": [],
   "source": [
    "df['Age'].replace({329:31},inplace=True)"
   ]
  },
  {
   "cell_type": "code",
   "execution_count": 377,
   "metadata": {
    "ExecuteTime": {
     "end_time": "2020-12-16T21:04:49.945619Z",
     "start_time": "2020-12-16T21:04:49.876604Z"
    }
   },
   "outputs": [
    {
     "data": {
      "text/html": [
       "<div>\n",
       "<style scoped>\n",
       "    .dataframe tbody tr th:only-of-type {\n",
       "        vertical-align: middle;\n",
       "    }\n",
       "\n",
       "    .dataframe tbody tr th {\n",
       "        vertical-align: top;\n",
       "    }\n",
       "\n",
       "    .dataframe thead th {\n",
       "        text-align: right;\n",
       "    }\n",
       "</style>\n",
       "<table border=\"1\" class=\"dataframe\">\n",
       "  <thead>\n",
       "    <tr style=\"text-align: right;\">\n",
       "      <th></th>\n",
       "      <th>Age</th>\n",
       "      <th>Gender</th>\n",
       "      <th>Country</th>\n",
       "      <th>self_employed</th>\n",
       "      <th>family_history</th>\n",
       "      <th>treatment</th>\n",
       "      <th>work_interfere</th>\n",
       "      <th>no_employees</th>\n",
       "      <th>remote_work</th>\n",
       "      <th>tech_company</th>\n",
       "      <th>benefits</th>\n",
       "      <th>care_options</th>\n",
       "      <th>wellness_program</th>\n",
       "      <th>seek_help</th>\n",
       "      <th>anonymity</th>\n",
       "      <th>leave</th>\n",
       "      <th>mental_health_consequence</th>\n",
       "      <th>phys_health_consequence</th>\n",
       "      <th>coworkers</th>\n",
       "      <th>supervisor</th>\n",
       "      <th>mental_health_interview</th>\n",
       "      <th>phys_health_interview</th>\n",
       "      <th>mental_vs_physical</th>\n",
       "      <th>obs_consequence</th>\n",
       "    </tr>\n",
       "  </thead>\n",
       "  <tbody>\n",
       "    <tr>\n",
       "      <th>0</th>\n",
       "      <td>37</td>\n",
       "      <td>female</td>\n",
       "      <td>United States</td>\n",
       "      <td>No</td>\n",
       "      <td>No</td>\n",
       "      <td>Yes</td>\n",
       "      <td>Often</td>\n",
       "      <td>6-25</td>\n",
       "      <td>No</td>\n",
       "      <td>Yes</td>\n",
       "      <td>Yes</td>\n",
       "      <td>Not sure</td>\n",
       "      <td>No</td>\n",
       "      <td>Yes</td>\n",
       "      <td>Yes</td>\n",
       "      <td>Somewhat easy</td>\n",
       "      <td>No</td>\n",
       "      <td>No</td>\n",
       "      <td>Some of them</td>\n",
       "      <td>Yes</td>\n",
       "      <td>No</td>\n",
       "      <td>Maybe</td>\n",
       "      <td>Yes</td>\n",
       "      <td>No</td>\n",
       "    </tr>\n",
       "    <tr>\n",
       "      <th>1</th>\n",
       "      <td>44</td>\n",
       "      <td>male</td>\n",
       "      <td>United States</td>\n",
       "      <td>No</td>\n",
       "      <td>No</td>\n",
       "      <td>No</td>\n",
       "      <td>Rarely</td>\n",
       "      <td>More than 1000</td>\n",
       "      <td>No</td>\n",
       "      <td>No</td>\n",
       "      <td>Don't know</td>\n",
       "      <td>No</td>\n",
       "      <td>Don't know</td>\n",
       "      <td>Don't know</td>\n",
       "      <td>Don't know</td>\n",
       "      <td>Don't know</td>\n",
       "      <td>Maybe</td>\n",
       "      <td>No</td>\n",
       "      <td>No</td>\n",
       "      <td>No</td>\n",
       "      <td>No</td>\n",
       "      <td>No</td>\n",
       "      <td>Don't know</td>\n",
       "      <td>No</td>\n",
       "    </tr>\n",
       "    <tr>\n",
       "      <th>2</th>\n",
       "      <td>32</td>\n",
       "      <td>male</td>\n",
       "      <td>Canada</td>\n",
       "      <td>No</td>\n",
       "      <td>No</td>\n",
       "      <td>No</td>\n",
       "      <td>Rarely</td>\n",
       "      <td>6-25</td>\n",
       "      <td>No</td>\n",
       "      <td>Yes</td>\n",
       "      <td>No</td>\n",
       "      <td>No</td>\n",
       "      <td>No</td>\n",
       "      <td>No</td>\n",
       "      <td>Don't know</td>\n",
       "      <td>Somewhat difficult</td>\n",
       "      <td>No</td>\n",
       "      <td>No</td>\n",
       "      <td>Yes</td>\n",
       "      <td>Yes</td>\n",
       "      <td>Yes</td>\n",
       "      <td>Yes</td>\n",
       "      <td>No</td>\n",
       "      <td>No</td>\n",
       "    </tr>\n",
       "    <tr>\n",
       "      <th>3</th>\n",
       "      <td>31</td>\n",
       "      <td>male</td>\n",
       "      <td>United Kingdom</td>\n",
       "      <td>No</td>\n",
       "      <td>Yes</td>\n",
       "      <td>Yes</td>\n",
       "      <td>Often</td>\n",
       "      <td>26-100</td>\n",
       "      <td>No</td>\n",
       "      <td>Yes</td>\n",
       "      <td>No</td>\n",
       "      <td>Yes</td>\n",
       "      <td>No</td>\n",
       "      <td>No</td>\n",
       "      <td>No</td>\n",
       "      <td>Somewhat difficult</td>\n",
       "      <td>Yes</td>\n",
       "      <td>Yes</td>\n",
       "      <td>Some of them</td>\n",
       "      <td>No</td>\n",
       "      <td>Maybe</td>\n",
       "      <td>Maybe</td>\n",
       "      <td>No</td>\n",
       "      <td>Yes</td>\n",
       "    </tr>\n",
       "    <tr>\n",
       "      <th>4</th>\n",
       "      <td>31</td>\n",
       "      <td>male</td>\n",
       "      <td>United States</td>\n",
       "      <td>No</td>\n",
       "      <td>No</td>\n",
       "      <td>No</td>\n",
       "      <td>Never</td>\n",
       "      <td>100-500</td>\n",
       "      <td>Yes</td>\n",
       "      <td>Yes</td>\n",
       "      <td>Yes</td>\n",
       "      <td>No</td>\n",
       "      <td>Don't know</td>\n",
       "      <td>Don't know</td>\n",
       "      <td>Don't know</td>\n",
       "      <td>Don't know</td>\n",
       "      <td>No</td>\n",
       "      <td>No</td>\n",
       "      <td>Some of them</td>\n",
       "      <td>Yes</td>\n",
       "      <td>Yes</td>\n",
       "      <td>Yes</td>\n",
       "      <td>Don't know</td>\n",
       "      <td>No</td>\n",
       "    </tr>\n",
       "  </tbody>\n",
       "</table>\n",
       "</div>"
      ],
      "text/plain": [
       "   Age  Gender         Country self_employed family_history treatment  \\\n",
       "0   37  female   United States            No             No       Yes   \n",
       "1   44    male   United States            No             No        No   \n",
       "2   32    male          Canada            No             No        No   \n",
       "3   31    male  United Kingdom            No            Yes       Yes   \n",
       "4   31    male   United States            No             No        No   \n",
       "\n",
       "  work_interfere    no_employees remote_work tech_company    benefits  \\\n",
       "0          Often            6-25          No          Yes         Yes   \n",
       "1         Rarely  More than 1000          No           No  Don't know   \n",
       "2         Rarely            6-25          No          Yes          No   \n",
       "3          Often          26-100          No          Yes          No   \n",
       "4          Never         100-500         Yes          Yes         Yes   \n",
       "\n",
       "  care_options wellness_program   seek_help   anonymity               leave  \\\n",
       "0     Not sure               No         Yes         Yes       Somewhat easy   \n",
       "1           No       Don't know  Don't know  Don't know          Don't know   \n",
       "2           No               No          No  Don't know  Somewhat difficult   \n",
       "3          Yes               No          No          No  Somewhat difficult   \n",
       "4           No       Don't know  Don't know  Don't know          Don't know   \n",
       "\n",
       "  mental_health_consequence phys_health_consequence     coworkers supervisor  \\\n",
       "0                        No                      No  Some of them        Yes   \n",
       "1                     Maybe                      No            No         No   \n",
       "2                        No                      No           Yes        Yes   \n",
       "3                       Yes                     Yes  Some of them         No   \n",
       "4                        No                      No  Some of them        Yes   \n",
       "\n",
       "  mental_health_interview phys_health_interview mental_vs_physical  \\\n",
       "0                      No                 Maybe                Yes   \n",
       "1                      No                    No         Don't know   \n",
       "2                     Yes                   Yes                 No   \n",
       "3                   Maybe                 Maybe                 No   \n",
       "4                     Yes                   Yes         Don't know   \n",
       "\n",
       "  obs_consequence  \n",
       "0              No  \n",
       "1              No  \n",
       "2              No  \n",
       "3             Yes  \n",
       "4              No  "
      ]
     },
     "execution_count": 377,
     "metadata": {},
     "output_type": "execute_result"
    }
   ],
   "source": [
    "df.head()"
   ]
  },
  {
   "cell_type": "markdown",
   "metadata": {},
   "source": [
    "## Enviando o dataset limpo para visualização no tableau"
   ]
  },
  {
   "cell_type": "code",
   "execution_count": 378,
   "metadata": {
    "ExecuteTime": {
     "end_time": "2020-12-16T21:05:19.100558Z",
     "start_time": "2020-12-16T21:05:18.985403Z"
    }
   },
   "outputs": [],
   "source": [
    "#df.to_csv('data/survey_2014.csv')"
   ]
  },
  {
   "cell_type": "markdown",
   "metadata": {},
   "source": [
    "## Transformação de variáveis categóricas em numéricas."
   ]
  },
  {
   "cell_type": "code",
   "execution_count": 379,
   "metadata": {
    "ExecuteTime": {
     "end_time": "2020-12-16T18:38:59.850638Z",
     "start_time": "2020-12-16T18:38:59.833399Z"
    }
   },
   "outputs": [],
   "source": [
    "pd.options.display.max_columns=150 "
   ]
  },
  {
   "cell_type": "code",
   "execution_count": 380,
   "metadata": {
    "ExecuteTime": {
     "end_time": "2020-12-16T18:39:07.264998Z",
     "start_time": "2020-12-16T18:39:07.136762Z"
    }
   },
   "outputs": [],
   "source": [
    "df=pd.get_dummies(df,drop_first=True)"
   ]
  },
  {
   "cell_type": "code",
   "execution_count": 381,
   "metadata": {
    "ExecuteTime": {
     "end_time": "2020-12-16T18:39:15.452054Z",
     "start_time": "2020-12-16T18:39:15.287696Z"
    }
   },
   "outputs": [
    {
     "data": {
      "text/html": [
       "<div>\n",
       "<style scoped>\n",
       "    .dataframe tbody tr th:only-of-type {\n",
       "        vertical-align: middle;\n",
       "    }\n",
       "\n",
       "    .dataframe tbody tr th {\n",
       "        vertical-align: top;\n",
       "    }\n",
       "\n",
       "    .dataframe thead th {\n",
       "        text-align: right;\n",
       "    }\n",
       "</style>\n",
       "<table border=\"1\" class=\"dataframe\">\n",
       "  <thead>\n",
       "    <tr style=\"text-align: right;\">\n",
       "      <th></th>\n",
       "      <th>Age</th>\n",
       "      <th>Gender_male</th>\n",
       "      <th>Gender_trans</th>\n",
       "      <th>Country_Austria</th>\n",
       "      <th>Country_Bahamas, The</th>\n",
       "      <th>Country_Belgium</th>\n",
       "      <th>Country_Bosnia and Herzegovina</th>\n",
       "      <th>Country_Brazil</th>\n",
       "      <th>Country_Bulgaria</th>\n",
       "      <th>Country_Canada</th>\n",
       "      <th>Country_China</th>\n",
       "      <th>Country_Colombia</th>\n",
       "      <th>Country_Costa Rica</th>\n",
       "      <th>Country_Croatia</th>\n",
       "      <th>Country_Czech Republic</th>\n",
       "      <th>Country_Denmark</th>\n",
       "      <th>Country_Finland</th>\n",
       "      <th>Country_France</th>\n",
       "      <th>Country_Georgia</th>\n",
       "      <th>Country_Germany</th>\n",
       "      <th>Country_Greece</th>\n",
       "      <th>Country_Hungary</th>\n",
       "      <th>Country_India</th>\n",
       "      <th>Country_Ireland</th>\n",
       "      <th>Country_Israel</th>\n",
       "      <th>Country_Italy</th>\n",
       "      <th>Country_Japan</th>\n",
       "      <th>Country_Latvia</th>\n",
       "      <th>Country_Mexico</th>\n",
       "      <th>Country_Moldova</th>\n",
       "      <th>Country_Netherlands</th>\n",
       "      <th>Country_New Zealand</th>\n",
       "      <th>Country_Nigeria</th>\n",
       "      <th>Country_Norway</th>\n",
       "      <th>Country_Philippines</th>\n",
       "      <th>Country_Poland</th>\n",
       "      <th>Country_Portugal</th>\n",
       "      <th>Country_Romania</th>\n",
       "      <th>Country_Russia</th>\n",
       "      <th>Country_Singapore</th>\n",
       "      <th>Country_Slovenia</th>\n",
       "      <th>Country_South Africa</th>\n",
       "      <th>Country_Spain</th>\n",
       "      <th>Country_Sweden</th>\n",
       "      <th>Country_Switzerland</th>\n",
       "      <th>Country_Thailand</th>\n",
       "      <th>Country_United Kingdom</th>\n",
       "      <th>Country_United States</th>\n",
       "      <th>Country_Uruguay</th>\n",
       "      <th>Country_Zimbabwe</th>\n",
       "      <th>self_employed_Yes</th>\n",
       "      <th>family_history_Yes</th>\n",
       "      <th>treatment_Yes</th>\n",
       "      <th>work_interfere_Never</th>\n",
       "      <th>work_interfere_Often</th>\n",
       "      <th>work_interfere_Rarely</th>\n",
       "      <th>work_interfere_Sometimes</th>\n",
       "      <th>no_employees_100-500</th>\n",
       "      <th>no_employees_26-100</th>\n",
       "      <th>no_employees_500-1000</th>\n",
       "      <th>no_employees_6-25</th>\n",
       "      <th>no_employees_More than 1000</th>\n",
       "      <th>remote_work_Yes</th>\n",
       "      <th>tech_company_Yes</th>\n",
       "      <th>benefits_No</th>\n",
       "      <th>benefits_Yes</th>\n",
       "      <th>care_options_Not sure</th>\n",
       "      <th>care_options_Yes</th>\n",
       "      <th>wellness_program_No</th>\n",
       "      <th>wellness_program_Yes</th>\n",
       "      <th>seek_help_No</th>\n",
       "      <th>seek_help_Yes</th>\n",
       "      <th>anonymity_No</th>\n",
       "      <th>anonymity_Yes</th>\n",
       "      <th>leave_Somewhat difficult</th>\n",
       "      <th>leave_Somewhat easy</th>\n",
       "      <th>leave_Very difficult</th>\n",
       "      <th>leave_Very easy</th>\n",
       "      <th>mental_health_consequence_No</th>\n",
       "      <th>mental_health_consequence_Yes</th>\n",
       "      <th>phys_health_consequence_No</th>\n",
       "      <th>phys_health_consequence_Yes</th>\n",
       "      <th>coworkers_Some of them</th>\n",
       "      <th>coworkers_Yes</th>\n",
       "      <th>supervisor_Some of them</th>\n",
       "      <th>supervisor_Yes</th>\n",
       "      <th>mental_health_interview_No</th>\n",
       "      <th>mental_health_interview_Yes</th>\n",
       "      <th>phys_health_interview_No</th>\n",
       "      <th>phys_health_interview_Yes</th>\n",
       "      <th>mental_vs_physical_No</th>\n",
       "      <th>mental_vs_physical_Yes</th>\n",
       "      <th>obs_consequence_Yes</th>\n",
       "    </tr>\n",
       "  </thead>\n",
       "  <tbody>\n",
       "    <tr>\n",
       "      <th>0</th>\n",
       "      <td>37</td>\n",
       "      <td>0</td>\n",
       "      <td>0</td>\n",
       "      <td>0</td>\n",
       "      <td>0</td>\n",
       "      <td>0</td>\n",
       "      <td>0</td>\n",
       "      <td>0</td>\n",
       "      <td>0</td>\n",
       "      <td>0</td>\n",
       "      <td>0</td>\n",
       "      <td>0</td>\n",
       "      <td>0</td>\n",
       "      <td>0</td>\n",
       "      <td>0</td>\n",
       "      <td>0</td>\n",
       "      <td>0</td>\n",
       "      <td>0</td>\n",
       "      <td>0</td>\n",
       "      <td>0</td>\n",
       "      <td>0</td>\n",
       "      <td>0</td>\n",
       "      <td>0</td>\n",
       "      <td>0</td>\n",
       "      <td>0</td>\n",
       "      <td>0</td>\n",
       "      <td>0</td>\n",
       "      <td>0</td>\n",
       "      <td>0</td>\n",
       "      <td>0</td>\n",
       "      <td>0</td>\n",
       "      <td>0</td>\n",
       "      <td>0</td>\n",
       "      <td>0</td>\n",
       "      <td>0</td>\n",
       "      <td>0</td>\n",
       "      <td>0</td>\n",
       "      <td>0</td>\n",
       "      <td>0</td>\n",
       "      <td>0</td>\n",
       "      <td>0</td>\n",
       "      <td>0</td>\n",
       "      <td>0</td>\n",
       "      <td>0</td>\n",
       "      <td>0</td>\n",
       "      <td>0</td>\n",
       "      <td>0</td>\n",
       "      <td>1</td>\n",
       "      <td>0</td>\n",
       "      <td>0</td>\n",
       "      <td>0</td>\n",
       "      <td>0</td>\n",
       "      <td>1</td>\n",
       "      <td>0</td>\n",
       "      <td>1</td>\n",
       "      <td>0</td>\n",
       "      <td>0</td>\n",
       "      <td>0</td>\n",
       "      <td>0</td>\n",
       "      <td>0</td>\n",
       "      <td>1</td>\n",
       "      <td>0</td>\n",
       "      <td>0</td>\n",
       "      <td>1</td>\n",
       "      <td>0</td>\n",
       "      <td>1</td>\n",
       "      <td>1</td>\n",
       "      <td>0</td>\n",
       "      <td>1</td>\n",
       "      <td>0</td>\n",
       "      <td>0</td>\n",
       "      <td>1</td>\n",
       "      <td>0</td>\n",
       "      <td>1</td>\n",
       "      <td>0</td>\n",
       "      <td>1</td>\n",
       "      <td>0</td>\n",
       "      <td>0</td>\n",
       "      <td>1</td>\n",
       "      <td>0</td>\n",
       "      <td>1</td>\n",
       "      <td>0</td>\n",
       "      <td>1</td>\n",
       "      <td>0</td>\n",
       "      <td>0</td>\n",
       "      <td>1</td>\n",
       "      <td>1</td>\n",
       "      <td>0</td>\n",
       "      <td>0</td>\n",
       "      <td>0</td>\n",
       "      <td>0</td>\n",
       "      <td>1</td>\n",
       "      <td>0</td>\n",
       "    </tr>\n",
       "    <tr>\n",
       "      <th>1</th>\n",
       "      <td>44</td>\n",
       "      <td>1</td>\n",
       "      <td>0</td>\n",
       "      <td>0</td>\n",
       "      <td>0</td>\n",
       "      <td>0</td>\n",
       "      <td>0</td>\n",
       "      <td>0</td>\n",
       "      <td>0</td>\n",
       "      <td>0</td>\n",
       "      <td>0</td>\n",
       "      <td>0</td>\n",
       "      <td>0</td>\n",
       "      <td>0</td>\n",
       "      <td>0</td>\n",
       "      <td>0</td>\n",
       "      <td>0</td>\n",
       "      <td>0</td>\n",
       "      <td>0</td>\n",
       "      <td>0</td>\n",
       "      <td>0</td>\n",
       "      <td>0</td>\n",
       "      <td>0</td>\n",
       "      <td>0</td>\n",
       "      <td>0</td>\n",
       "      <td>0</td>\n",
       "      <td>0</td>\n",
       "      <td>0</td>\n",
       "      <td>0</td>\n",
       "      <td>0</td>\n",
       "      <td>0</td>\n",
       "      <td>0</td>\n",
       "      <td>0</td>\n",
       "      <td>0</td>\n",
       "      <td>0</td>\n",
       "      <td>0</td>\n",
       "      <td>0</td>\n",
       "      <td>0</td>\n",
       "      <td>0</td>\n",
       "      <td>0</td>\n",
       "      <td>0</td>\n",
       "      <td>0</td>\n",
       "      <td>0</td>\n",
       "      <td>0</td>\n",
       "      <td>0</td>\n",
       "      <td>0</td>\n",
       "      <td>0</td>\n",
       "      <td>1</td>\n",
       "      <td>0</td>\n",
       "      <td>0</td>\n",
       "      <td>0</td>\n",
       "      <td>0</td>\n",
       "      <td>0</td>\n",
       "      <td>0</td>\n",
       "      <td>0</td>\n",
       "      <td>1</td>\n",
       "      <td>0</td>\n",
       "      <td>0</td>\n",
       "      <td>0</td>\n",
       "      <td>0</td>\n",
       "      <td>0</td>\n",
       "      <td>1</td>\n",
       "      <td>0</td>\n",
       "      <td>0</td>\n",
       "      <td>0</td>\n",
       "      <td>0</td>\n",
       "      <td>0</td>\n",
       "      <td>0</td>\n",
       "      <td>0</td>\n",
       "      <td>0</td>\n",
       "      <td>0</td>\n",
       "      <td>0</td>\n",
       "      <td>0</td>\n",
       "      <td>0</td>\n",
       "      <td>0</td>\n",
       "      <td>0</td>\n",
       "      <td>0</td>\n",
       "      <td>0</td>\n",
       "      <td>0</td>\n",
       "      <td>0</td>\n",
       "      <td>1</td>\n",
       "      <td>0</td>\n",
       "      <td>0</td>\n",
       "      <td>0</td>\n",
       "      <td>0</td>\n",
       "      <td>0</td>\n",
       "      <td>1</td>\n",
       "      <td>0</td>\n",
       "      <td>1</td>\n",
       "      <td>0</td>\n",
       "      <td>0</td>\n",
       "      <td>0</td>\n",
       "      <td>0</td>\n",
       "    </tr>\n",
       "    <tr>\n",
       "      <th>2</th>\n",
       "      <td>32</td>\n",
       "      <td>1</td>\n",
       "      <td>0</td>\n",
       "      <td>0</td>\n",
       "      <td>0</td>\n",
       "      <td>0</td>\n",
       "      <td>0</td>\n",
       "      <td>0</td>\n",
       "      <td>0</td>\n",
       "      <td>1</td>\n",
       "      <td>0</td>\n",
       "      <td>0</td>\n",
       "      <td>0</td>\n",
       "      <td>0</td>\n",
       "      <td>0</td>\n",
       "      <td>0</td>\n",
       "      <td>0</td>\n",
       "      <td>0</td>\n",
       "      <td>0</td>\n",
       "      <td>0</td>\n",
       "      <td>0</td>\n",
       "      <td>0</td>\n",
       "      <td>0</td>\n",
       "      <td>0</td>\n",
       "      <td>0</td>\n",
       "      <td>0</td>\n",
       "      <td>0</td>\n",
       "      <td>0</td>\n",
       "      <td>0</td>\n",
       "      <td>0</td>\n",
       "      <td>0</td>\n",
       "      <td>0</td>\n",
       "      <td>0</td>\n",
       "      <td>0</td>\n",
       "      <td>0</td>\n",
       "      <td>0</td>\n",
       "      <td>0</td>\n",
       "      <td>0</td>\n",
       "      <td>0</td>\n",
       "      <td>0</td>\n",
       "      <td>0</td>\n",
       "      <td>0</td>\n",
       "      <td>0</td>\n",
       "      <td>0</td>\n",
       "      <td>0</td>\n",
       "      <td>0</td>\n",
       "      <td>0</td>\n",
       "      <td>0</td>\n",
       "      <td>0</td>\n",
       "      <td>0</td>\n",
       "      <td>0</td>\n",
       "      <td>0</td>\n",
       "      <td>0</td>\n",
       "      <td>0</td>\n",
       "      <td>0</td>\n",
       "      <td>1</td>\n",
       "      <td>0</td>\n",
       "      <td>0</td>\n",
       "      <td>0</td>\n",
       "      <td>0</td>\n",
       "      <td>1</td>\n",
       "      <td>0</td>\n",
       "      <td>0</td>\n",
       "      <td>1</td>\n",
       "      <td>1</td>\n",
       "      <td>0</td>\n",
       "      <td>0</td>\n",
       "      <td>0</td>\n",
       "      <td>1</td>\n",
       "      <td>0</td>\n",
       "      <td>1</td>\n",
       "      <td>0</td>\n",
       "      <td>0</td>\n",
       "      <td>0</td>\n",
       "      <td>1</td>\n",
       "      <td>0</td>\n",
       "      <td>0</td>\n",
       "      <td>0</td>\n",
       "      <td>1</td>\n",
       "      <td>0</td>\n",
       "      <td>1</td>\n",
       "      <td>0</td>\n",
       "      <td>0</td>\n",
       "      <td>1</td>\n",
       "      <td>0</td>\n",
       "      <td>1</td>\n",
       "      <td>0</td>\n",
       "      <td>1</td>\n",
       "      <td>0</td>\n",
       "      <td>1</td>\n",
       "      <td>1</td>\n",
       "      <td>0</td>\n",
       "      <td>0</td>\n",
       "    </tr>\n",
       "    <tr>\n",
       "      <th>3</th>\n",
       "      <td>31</td>\n",
       "      <td>1</td>\n",
       "      <td>0</td>\n",
       "      <td>0</td>\n",
       "      <td>0</td>\n",
       "      <td>0</td>\n",
       "      <td>0</td>\n",
       "      <td>0</td>\n",
       "      <td>0</td>\n",
       "      <td>0</td>\n",
       "      <td>0</td>\n",
       "      <td>0</td>\n",
       "      <td>0</td>\n",
       "      <td>0</td>\n",
       "      <td>0</td>\n",
       "      <td>0</td>\n",
       "      <td>0</td>\n",
       "      <td>0</td>\n",
       "      <td>0</td>\n",
       "      <td>0</td>\n",
       "      <td>0</td>\n",
       "      <td>0</td>\n",
       "      <td>0</td>\n",
       "      <td>0</td>\n",
       "      <td>0</td>\n",
       "      <td>0</td>\n",
       "      <td>0</td>\n",
       "      <td>0</td>\n",
       "      <td>0</td>\n",
       "      <td>0</td>\n",
       "      <td>0</td>\n",
       "      <td>0</td>\n",
       "      <td>0</td>\n",
       "      <td>0</td>\n",
       "      <td>0</td>\n",
       "      <td>0</td>\n",
       "      <td>0</td>\n",
       "      <td>0</td>\n",
       "      <td>0</td>\n",
       "      <td>0</td>\n",
       "      <td>0</td>\n",
       "      <td>0</td>\n",
       "      <td>0</td>\n",
       "      <td>0</td>\n",
       "      <td>0</td>\n",
       "      <td>0</td>\n",
       "      <td>1</td>\n",
       "      <td>0</td>\n",
       "      <td>0</td>\n",
       "      <td>0</td>\n",
       "      <td>0</td>\n",
       "      <td>1</td>\n",
       "      <td>1</td>\n",
       "      <td>0</td>\n",
       "      <td>1</td>\n",
       "      <td>0</td>\n",
       "      <td>0</td>\n",
       "      <td>0</td>\n",
       "      <td>1</td>\n",
       "      <td>0</td>\n",
       "      <td>0</td>\n",
       "      <td>0</td>\n",
       "      <td>0</td>\n",
       "      <td>1</td>\n",
       "      <td>1</td>\n",
       "      <td>0</td>\n",
       "      <td>0</td>\n",
       "      <td>1</td>\n",
       "      <td>1</td>\n",
       "      <td>0</td>\n",
       "      <td>1</td>\n",
       "      <td>0</td>\n",
       "      <td>1</td>\n",
       "      <td>0</td>\n",
       "      <td>1</td>\n",
       "      <td>0</td>\n",
       "      <td>0</td>\n",
       "      <td>0</td>\n",
       "      <td>0</td>\n",
       "      <td>1</td>\n",
       "      <td>0</td>\n",
       "      <td>1</td>\n",
       "      <td>1</td>\n",
       "      <td>0</td>\n",
       "      <td>0</td>\n",
       "      <td>0</td>\n",
       "      <td>0</td>\n",
       "      <td>0</td>\n",
       "      <td>0</td>\n",
       "      <td>0</td>\n",
       "      <td>1</td>\n",
       "      <td>0</td>\n",
       "      <td>1</td>\n",
       "    </tr>\n",
       "    <tr>\n",
       "      <th>4</th>\n",
       "      <td>31</td>\n",
       "      <td>1</td>\n",
       "      <td>0</td>\n",
       "      <td>0</td>\n",
       "      <td>0</td>\n",
       "      <td>0</td>\n",
       "      <td>0</td>\n",
       "      <td>0</td>\n",
       "      <td>0</td>\n",
       "      <td>0</td>\n",
       "      <td>0</td>\n",
       "      <td>0</td>\n",
       "      <td>0</td>\n",
       "      <td>0</td>\n",
       "      <td>0</td>\n",
       "      <td>0</td>\n",
       "      <td>0</td>\n",
       "      <td>0</td>\n",
       "      <td>0</td>\n",
       "      <td>0</td>\n",
       "      <td>0</td>\n",
       "      <td>0</td>\n",
       "      <td>0</td>\n",
       "      <td>0</td>\n",
       "      <td>0</td>\n",
       "      <td>0</td>\n",
       "      <td>0</td>\n",
       "      <td>0</td>\n",
       "      <td>0</td>\n",
       "      <td>0</td>\n",
       "      <td>0</td>\n",
       "      <td>0</td>\n",
       "      <td>0</td>\n",
       "      <td>0</td>\n",
       "      <td>0</td>\n",
       "      <td>0</td>\n",
       "      <td>0</td>\n",
       "      <td>0</td>\n",
       "      <td>0</td>\n",
       "      <td>0</td>\n",
       "      <td>0</td>\n",
       "      <td>0</td>\n",
       "      <td>0</td>\n",
       "      <td>0</td>\n",
       "      <td>0</td>\n",
       "      <td>0</td>\n",
       "      <td>0</td>\n",
       "      <td>1</td>\n",
       "      <td>0</td>\n",
       "      <td>0</td>\n",
       "      <td>0</td>\n",
       "      <td>0</td>\n",
       "      <td>0</td>\n",
       "      <td>1</td>\n",
       "      <td>0</td>\n",
       "      <td>0</td>\n",
       "      <td>0</td>\n",
       "      <td>1</td>\n",
       "      <td>0</td>\n",
       "      <td>0</td>\n",
       "      <td>0</td>\n",
       "      <td>0</td>\n",
       "      <td>1</td>\n",
       "      <td>1</td>\n",
       "      <td>0</td>\n",
       "      <td>1</td>\n",
       "      <td>0</td>\n",
       "      <td>0</td>\n",
       "      <td>0</td>\n",
       "      <td>0</td>\n",
       "      <td>0</td>\n",
       "      <td>0</td>\n",
       "      <td>0</td>\n",
       "      <td>0</td>\n",
       "      <td>0</td>\n",
       "      <td>0</td>\n",
       "      <td>0</td>\n",
       "      <td>0</td>\n",
       "      <td>1</td>\n",
       "      <td>0</td>\n",
       "      <td>1</td>\n",
       "      <td>0</td>\n",
       "      <td>1</td>\n",
       "      <td>0</td>\n",
       "      <td>0</td>\n",
       "      <td>1</td>\n",
       "      <td>0</td>\n",
       "      <td>1</td>\n",
       "      <td>0</td>\n",
       "      <td>1</td>\n",
       "      <td>0</td>\n",
       "      <td>0</td>\n",
       "      <td>0</td>\n",
       "    </tr>\n",
       "    <tr>\n",
       "      <th>...</th>\n",
       "      <td>...</td>\n",
       "      <td>...</td>\n",
       "      <td>...</td>\n",
       "      <td>...</td>\n",
       "      <td>...</td>\n",
       "      <td>...</td>\n",
       "      <td>...</td>\n",
       "      <td>...</td>\n",
       "      <td>...</td>\n",
       "      <td>...</td>\n",
       "      <td>...</td>\n",
       "      <td>...</td>\n",
       "      <td>...</td>\n",
       "      <td>...</td>\n",
       "      <td>...</td>\n",
       "      <td>...</td>\n",
       "      <td>...</td>\n",
       "      <td>...</td>\n",
       "      <td>...</td>\n",
       "      <td>...</td>\n",
       "      <td>...</td>\n",
       "      <td>...</td>\n",
       "      <td>...</td>\n",
       "      <td>...</td>\n",
       "      <td>...</td>\n",
       "      <td>...</td>\n",
       "      <td>...</td>\n",
       "      <td>...</td>\n",
       "      <td>...</td>\n",
       "      <td>...</td>\n",
       "      <td>...</td>\n",
       "      <td>...</td>\n",
       "      <td>...</td>\n",
       "      <td>...</td>\n",
       "      <td>...</td>\n",
       "      <td>...</td>\n",
       "      <td>...</td>\n",
       "      <td>...</td>\n",
       "      <td>...</td>\n",
       "      <td>...</td>\n",
       "      <td>...</td>\n",
       "      <td>...</td>\n",
       "      <td>...</td>\n",
       "      <td>...</td>\n",
       "      <td>...</td>\n",
       "      <td>...</td>\n",
       "      <td>...</td>\n",
       "      <td>...</td>\n",
       "      <td>...</td>\n",
       "      <td>...</td>\n",
       "      <td>...</td>\n",
       "      <td>...</td>\n",
       "      <td>...</td>\n",
       "      <td>...</td>\n",
       "      <td>...</td>\n",
       "      <td>...</td>\n",
       "      <td>...</td>\n",
       "      <td>...</td>\n",
       "      <td>...</td>\n",
       "      <td>...</td>\n",
       "      <td>...</td>\n",
       "      <td>...</td>\n",
       "      <td>...</td>\n",
       "      <td>...</td>\n",
       "      <td>...</td>\n",
       "      <td>...</td>\n",
       "      <td>...</td>\n",
       "      <td>...</td>\n",
       "      <td>...</td>\n",
       "      <td>...</td>\n",
       "      <td>...</td>\n",
       "      <td>...</td>\n",
       "      <td>...</td>\n",
       "      <td>...</td>\n",
       "      <td>...</td>\n",
       "      <td>...</td>\n",
       "      <td>...</td>\n",
       "      <td>...</td>\n",
       "      <td>...</td>\n",
       "      <td>...</td>\n",
       "      <td>...</td>\n",
       "      <td>...</td>\n",
       "      <td>...</td>\n",
       "      <td>...</td>\n",
       "      <td>...</td>\n",
       "      <td>...</td>\n",
       "      <td>...</td>\n",
       "      <td>...</td>\n",
       "      <td>...</td>\n",
       "      <td>...</td>\n",
       "      <td>...</td>\n",
       "      <td>...</td>\n",
       "      <td>...</td>\n",
       "    </tr>\n",
       "    <tr>\n",
       "      <th>1254</th>\n",
       "      <td>26</td>\n",
       "      <td>1</td>\n",
       "      <td>0</td>\n",
       "      <td>0</td>\n",
       "      <td>0</td>\n",
       "      <td>0</td>\n",
       "      <td>0</td>\n",
       "      <td>0</td>\n",
       "      <td>0</td>\n",
       "      <td>0</td>\n",
       "      <td>0</td>\n",
       "      <td>0</td>\n",
       "      <td>0</td>\n",
       "      <td>0</td>\n",
       "      <td>0</td>\n",
       "      <td>0</td>\n",
       "      <td>0</td>\n",
       "      <td>0</td>\n",
       "      <td>0</td>\n",
       "      <td>0</td>\n",
       "      <td>0</td>\n",
       "      <td>0</td>\n",
       "      <td>0</td>\n",
       "      <td>0</td>\n",
       "      <td>0</td>\n",
       "      <td>0</td>\n",
       "      <td>0</td>\n",
       "      <td>0</td>\n",
       "      <td>0</td>\n",
       "      <td>0</td>\n",
       "      <td>0</td>\n",
       "      <td>0</td>\n",
       "      <td>0</td>\n",
       "      <td>0</td>\n",
       "      <td>0</td>\n",
       "      <td>0</td>\n",
       "      <td>0</td>\n",
       "      <td>0</td>\n",
       "      <td>0</td>\n",
       "      <td>0</td>\n",
       "      <td>0</td>\n",
       "      <td>0</td>\n",
       "      <td>0</td>\n",
       "      <td>0</td>\n",
       "      <td>0</td>\n",
       "      <td>0</td>\n",
       "      <td>1</td>\n",
       "      <td>0</td>\n",
       "      <td>0</td>\n",
       "      <td>0</td>\n",
       "      <td>0</td>\n",
       "      <td>0</td>\n",
       "      <td>1</td>\n",
       "      <td>0</td>\n",
       "      <td>0</td>\n",
       "      <td>0</td>\n",
       "      <td>0</td>\n",
       "      <td>0</td>\n",
       "      <td>1</td>\n",
       "      <td>0</td>\n",
       "      <td>0</td>\n",
       "      <td>0</td>\n",
       "      <td>0</td>\n",
       "      <td>1</td>\n",
       "      <td>1</td>\n",
       "      <td>0</td>\n",
       "      <td>0</td>\n",
       "      <td>0</td>\n",
       "      <td>1</td>\n",
       "      <td>0</td>\n",
       "      <td>1</td>\n",
       "      <td>0</td>\n",
       "      <td>0</td>\n",
       "      <td>0</td>\n",
       "      <td>0</td>\n",
       "      <td>1</td>\n",
       "      <td>0</td>\n",
       "      <td>0</td>\n",
       "      <td>1</td>\n",
       "      <td>0</td>\n",
       "      <td>1</td>\n",
       "      <td>0</td>\n",
       "      <td>1</td>\n",
       "      <td>0</td>\n",
       "      <td>1</td>\n",
       "      <td>0</td>\n",
       "      <td>1</td>\n",
       "      <td>0</td>\n",
       "      <td>1</td>\n",
       "      <td>0</td>\n",
       "      <td>0</td>\n",
       "      <td>0</td>\n",
       "      <td>0</td>\n",
       "    </tr>\n",
       "    <tr>\n",
       "      <th>1255</th>\n",
       "      <td>32</td>\n",
       "      <td>1</td>\n",
       "      <td>0</td>\n",
       "      <td>0</td>\n",
       "      <td>0</td>\n",
       "      <td>0</td>\n",
       "      <td>0</td>\n",
       "      <td>0</td>\n",
       "      <td>0</td>\n",
       "      <td>0</td>\n",
       "      <td>0</td>\n",
       "      <td>0</td>\n",
       "      <td>0</td>\n",
       "      <td>0</td>\n",
       "      <td>0</td>\n",
       "      <td>0</td>\n",
       "      <td>0</td>\n",
       "      <td>0</td>\n",
       "      <td>0</td>\n",
       "      <td>0</td>\n",
       "      <td>0</td>\n",
       "      <td>0</td>\n",
       "      <td>0</td>\n",
       "      <td>0</td>\n",
       "      <td>0</td>\n",
       "      <td>0</td>\n",
       "      <td>0</td>\n",
       "      <td>0</td>\n",
       "      <td>0</td>\n",
       "      <td>0</td>\n",
       "      <td>0</td>\n",
       "      <td>0</td>\n",
       "      <td>0</td>\n",
       "      <td>0</td>\n",
       "      <td>0</td>\n",
       "      <td>0</td>\n",
       "      <td>0</td>\n",
       "      <td>0</td>\n",
       "      <td>0</td>\n",
       "      <td>0</td>\n",
       "      <td>0</td>\n",
       "      <td>0</td>\n",
       "      <td>0</td>\n",
       "      <td>0</td>\n",
       "      <td>0</td>\n",
       "      <td>0</td>\n",
       "      <td>0</td>\n",
       "      <td>1</td>\n",
       "      <td>0</td>\n",
       "      <td>0</td>\n",
       "      <td>0</td>\n",
       "      <td>1</td>\n",
       "      <td>1</td>\n",
       "      <td>0</td>\n",
       "      <td>1</td>\n",
       "      <td>0</td>\n",
       "      <td>0</td>\n",
       "      <td>0</td>\n",
       "      <td>1</td>\n",
       "      <td>0</td>\n",
       "      <td>0</td>\n",
       "      <td>0</td>\n",
       "      <td>1</td>\n",
       "      <td>1</td>\n",
       "      <td>0</td>\n",
       "      <td>1</td>\n",
       "      <td>0</td>\n",
       "      <td>1</td>\n",
       "      <td>1</td>\n",
       "      <td>0</td>\n",
       "      <td>1</td>\n",
       "      <td>0</td>\n",
       "      <td>0</td>\n",
       "      <td>1</td>\n",
       "      <td>1</td>\n",
       "      <td>0</td>\n",
       "      <td>0</td>\n",
       "      <td>0</td>\n",
       "      <td>1</td>\n",
       "      <td>0</td>\n",
       "      <td>1</td>\n",
       "      <td>0</td>\n",
       "      <td>1</td>\n",
       "      <td>0</td>\n",
       "      <td>0</td>\n",
       "      <td>1</td>\n",
       "      <td>1</td>\n",
       "      <td>0</td>\n",
       "      <td>1</td>\n",
       "      <td>0</td>\n",
       "      <td>0</td>\n",
       "      <td>1</td>\n",
       "      <td>0</td>\n",
       "    </tr>\n",
       "    <tr>\n",
       "      <th>1256</th>\n",
       "      <td>34</td>\n",
       "      <td>1</td>\n",
       "      <td>0</td>\n",
       "      <td>0</td>\n",
       "      <td>0</td>\n",
       "      <td>0</td>\n",
       "      <td>0</td>\n",
       "      <td>0</td>\n",
       "      <td>0</td>\n",
       "      <td>0</td>\n",
       "      <td>0</td>\n",
       "      <td>0</td>\n",
       "      <td>0</td>\n",
       "      <td>0</td>\n",
       "      <td>0</td>\n",
       "      <td>0</td>\n",
       "      <td>0</td>\n",
       "      <td>0</td>\n",
       "      <td>0</td>\n",
       "      <td>0</td>\n",
       "      <td>0</td>\n",
       "      <td>0</td>\n",
       "      <td>0</td>\n",
       "      <td>0</td>\n",
       "      <td>0</td>\n",
       "      <td>0</td>\n",
       "      <td>0</td>\n",
       "      <td>0</td>\n",
       "      <td>0</td>\n",
       "      <td>0</td>\n",
       "      <td>0</td>\n",
       "      <td>0</td>\n",
       "      <td>0</td>\n",
       "      <td>0</td>\n",
       "      <td>0</td>\n",
       "      <td>0</td>\n",
       "      <td>0</td>\n",
       "      <td>0</td>\n",
       "      <td>0</td>\n",
       "      <td>0</td>\n",
       "      <td>0</td>\n",
       "      <td>0</td>\n",
       "      <td>0</td>\n",
       "      <td>0</td>\n",
       "      <td>0</td>\n",
       "      <td>0</td>\n",
       "      <td>0</td>\n",
       "      <td>1</td>\n",
       "      <td>0</td>\n",
       "      <td>0</td>\n",
       "      <td>0</td>\n",
       "      <td>1</td>\n",
       "      <td>1</td>\n",
       "      <td>0</td>\n",
       "      <td>0</td>\n",
       "      <td>0</td>\n",
       "      <td>1</td>\n",
       "      <td>0</td>\n",
       "      <td>0</td>\n",
       "      <td>0</td>\n",
       "      <td>0</td>\n",
       "      <td>1</td>\n",
       "      <td>0</td>\n",
       "      <td>1</td>\n",
       "      <td>0</td>\n",
       "      <td>1</td>\n",
       "      <td>0</td>\n",
       "      <td>1</td>\n",
       "      <td>1</td>\n",
       "      <td>0</td>\n",
       "      <td>1</td>\n",
       "      <td>0</td>\n",
       "      <td>0</td>\n",
       "      <td>0</td>\n",
       "      <td>1</td>\n",
       "      <td>0</td>\n",
       "      <td>0</td>\n",
       "      <td>0</td>\n",
       "      <td>0</td>\n",
       "      <td>1</td>\n",
       "      <td>0</td>\n",
       "      <td>1</td>\n",
       "      <td>0</td>\n",
       "      <td>0</td>\n",
       "      <td>0</td>\n",
       "      <td>0</td>\n",
       "      <td>1</td>\n",
       "      <td>0</td>\n",
       "      <td>1</td>\n",
       "      <td>0</td>\n",
       "      <td>1</td>\n",
       "      <td>0</td>\n",
       "      <td>0</td>\n",
       "    </tr>\n",
       "    <tr>\n",
       "      <th>1257</th>\n",
       "      <td>46</td>\n",
       "      <td>0</td>\n",
       "      <td>0</td>\n",
       "      <td>0</td>\n",
       "      <td>0</td>\n",
       "      <td>0</td>\n",
       "      <td>0</td>\n",
       "      <td>0</td>\n",
       "      <td>0</td>\n",
       "      <td>0</td>\n",
       "      <td>0</td>\n",
       "      <td>0</td>\n",
       "      <td>0</td>\n",
       "      <td>0</td>\n",
       "      <td>0</td>\n",
       "      <td>0</td>\n",
       "      <td>0</td>\n",
       "      <td>0</td>\n",
       "      <td>0</td>\n",
       "      <td>0</td>\n",
       "      <td>0</td>\n",
       "      <td>0</td>\n",
       "      <td>0</td>\n",
       "      <td>0</td>\n",
       "      <td>0</td>\n",
       "      <td>0</td>\n",
       "      <td>0</td>\n",
       "      <td>0</td>\n",
       "      <td>0</td>\n",
       "      <td>0</td>\n",
       "      <td>0</td>\n",
       "      <td>0</td>\n",
       "      <td>0</td>\n",
       "      <td>0</td>\n",
       "      <td>0</td>\n",
       "      <td>0</td>\n",
       "      <td>0</td>\n",
       "      <td>0</td>\n",
       "      <td>0</td>\n",
       "      <td>0</td>\n",
       "      <td>0</td>\n",
       "      <td>0</td>\n",
       "      <td>0</td>\n",
       "      <td>0</td>\n",
       "      <td>0</td>\n",
       "      <td>0</td>\n",
       "      <td>0</td>\n",
       "      <td>1</td>\n",
       "      <td>0</td>\n",
       "      <td>0</td>\n",
       "      <td>0</td>\n",
       "      <td>0</td>\n",
       "      <td>0</td>\n",
       "      <td>0</td>\n",
       "      <td>0</td>\n",
       "      <td>0</td>\n",
       "      <td>0</td>\n",
       "      <td>1</td>\n",
       "      <td>0</td>\n",
       "      <td>0</td>\n",
       "      <td>0</td>\n",
       "      <td>0</td>\n",
       "      <td>1</td>\n",
       "      <td>1</td>\n",
       "      <td>1</td>\n",
       "      <td>0</td>\n",
       "      <td>0</td>\n",
       "      <td>1</td>\n",
       "      <td>1</td>\n",
       "      <td>0</td>\n",
       "      <td>1</td>\n",
       "      <td>0</td>\n",
       "      <td>0</td>\n",
       "      <td>0</td>\n",
       "      <td>0</td>\n",
       "      <td>0</td>\n",
       "      <td>0</td>\n",
       "      <td>0</td>\n",
       "      <td>0</td>\n",
       "      <td>1</td>\n",
       "      <td>1</td>\n",
       "      <td>0</td>\n",
       "      <td>0</td>\n",
       "      <td>0</td>\n",
       "      <td>0</td>\n",
       "      <td>0</td>\n",
       "      <td>1</td>\n",
       "      <td>0</td>\n",
       "      <td>1</td>\n",
       "      <td>0</td>\n",
       "      <td>1</td>\n",
       "      <td>0</td>\n",
       "      <td>0</td>\n",
       "    </tr>\n",
       "    <tr>\n",
       "      <th>1258</th>\n",
       "      <td>25</td>\n",
       "      <td>1</td>\n",
       "      <td>0</td>\n",
       "      <td>0</td>\n",
       "      <td>0</td>\n",
       "      <td>0</td>\n",
       "      <td>0</td>\n",
       "      <td>0</td>\n",
       "      <td>0</td>\n",
       "      <td>0</td>\n",
       "      <td>0</td>\n",
       "      <td>0</td>\n",
       "      <td>0</td>\n",
       "      <td>0</td>\n",
       "      <td>0</td>\n",
       "      <td>0</td>\n",
       "      <td>0</td>\n",
       "      <td>0</td>\n",
       "      <td>0</td>\n",
       "      <td>0</td>\n",
       "      <td>0</td>\n",
       "      <td>0</td>\n",
       "      <td>0</td>\n",
       "      <td>0</td>\n",
       "      <td>0</td>\n",
       "      <td>0</td>\n",
       "      <td>0</td>\n",
       "      <td>0</td>\n",
       "      <td>0</td>\n",
       "      <td>0</td>\n",
       "      <td>0</td>\n",
       "      <td>0</td>\n",
       "      <td>0</td>\n",
       "      <td>0</td>\n",
       "      <td>0</td>\n",
       "      <td>0</td>\n",
       "      <td>0</td>\n",
       "      <td>0</td>\n",
       "      <td>0</td>\n",
       "      <td>0</td>\n",
       "      <td>0</td>\n",
       "      <td>0</td>\n",
       "      <td>0</td>\n",
       "      <td>0</td>\n",
       "      <td>0</td>\n",
       "      <td>0</td>\n",
       "      <td>0</td>\n",
       "      <td>1</td>\n",
       "      <td>0</td>\n",
       "      <td>0</td>\n",
       "      <td>0</td>\n",
       "      <td>1</td>\n",
       "      <td>1</td>\n",
       "      <td>0</td>\n",
       "      <td>0</td>\n",
       "      <td>0</td>\n",
       "      <td>1</td>\n",
       "      <td>0</td>\n",
       "      <td>1</td>\n",
       "      <td>0</td>\n",
       "      <td>0</td>\n",
       "      <td>0</td>\n",
       "      <td>0</td>\n",
       "      <td>0</td>\n",
       "      <td>0</td>\n",
       "      <td>1</td>\n",
       "      <td>0</td>\n",
       "      <td>1</td>\n",
       "      <td>1</td>\n",
       "      <td>0</td>\n",
       "      <td>1</td>\n",
       "      <td>0</td>\n",
       "      <td>0</td>\n",
       "      <td>1</td>\n",
       "      <td>0</td>\n",
       "      <td>0</td>\n",
       "      <td>0</td>\n",
       "      <td>0</td>\n",
       "      <td>0</td>\n",
       "      <td>0</td>\n",
       "      <td>1</td>\n",
       "      <td>0</td>\n",
       "      <td>1</td>\n",
       "      <td>0</td>\n",
       "      <td>0</td>\n",
       "      <td>0</td>\n",
       "      <td>1</td>\n",
       "      <td>0</td>\n",
       "      <td>1</td>\n",
       "      <td>0</td>\n",
       "      <td>0</td>\n",
       "      <td>0</td>\n",
       "      <td>0</td>\n",
       "    </tr>\n",
       "  </tbody>\n",
       "</table>\n",
       "<p>1259 rows × 93 columns</p>\n",
       "</div>"
      ],
      "text/plain": [
       "      Age  Gender_male  Gender_trans  Country_Austria  Country_Bahamas, The  \\\n",
       "0      37            0             0                0                     0   \n",
       "1      44            1             0                0                     0   \n",
       "2      32            1             0                0                     0   \n",
       "3      31            1             0                0                     0   \n",
       "4      31            1             0                0                     0   \n",
       "...   ...          ...           ...              ...                   ...   \n",
       "1254   26            1             0                0                     0   \n",
       "1255   32            1             0                0                     0   \n",
       "1256   34            1             0                0                     0   \n",
       "1257   46            0             0                0                     0   \n",
       "1258   25            1             0                0                     0   \n",
       "\n",
       "      Country_Belgium  Country_Bosnia and Herzegovina  Country_Brazil  \\\n",
       "0                   0                               0               0   \n",
       "1                   0                               0               0   \n",
       "2                   0                               0               0   \n",
       "3                   0                               0               0   \n",
       "4                   0                               0               0   \n",
       "...               ...                             ...             ...   \n",
       "1254                0                               0               0   \n",
       "1255                0                               0               0   \n",
       "1256                0                               0               0   \n",
       "1257                0                               0               0   \n",
       "1258                0                               0               0   \n",
       "\n",
       "      Country_Bulgaria  Country_Canada  Country_China  Country_Colombia  \\\n",
       "0                    0               0              0                 0   \n",
       "1                    0               0              0                 0   \n",
       "2                    0               1              0                 0   \n",
       "3                    0               0              0                 0   \n",
       "4                    0               0              0                 0   \n",
       "...                ...             ...            ...               ...   \n",
       "1254                 0               0              0                 0   \n",
       "1255                 0               0              0                 0   \n",
       "1256                 0               0              0                 0   \n",
       "1257                 0               0              0                 0   \n",
       "1258                 0               0              0                 0   \n",
       "\n",
       "      Country_Costa Rica  Country_Croatia  Country_Czech Republic  \\\n",
       "0                      0                0                       0   \n",
       "1                      0                0                       0   \n",
       "2                      0                0                       0   \n",
       "3                      0                0                       0   \n",
       "4                      0                0                       0   \n",
       "...                  ...              ...                     ...   \n",
       "1254                   0                0                       0   \n",
       "1255                   0                0                       0   \n",
       "1256                   0                0                       0   \n",
       "1257                   0                0                       0   \n",
       "1258                   0                0                       0   \n",
       "\n",
       "      Country_Denmark  Country_Finland  Country_France  Country_Georgia  \\\n",
       "0                   0                0               0                0   \n",
       "1                   0                0               0                0   \n",
       "2                   0                0               0                0   \n",
       "3                   0                0               0                0   \n",
       "4                   0                0               0                0   \n",
       "...               ...              ...             ...              ...   \n",
       "1254                0                0               0                0   \n",
       "1255                0                0               0                0   \n",
       "1256                0                0               0                0   \n",
       "1257                0                0               0                0   \n",
       "1258                0                0               0                0   \n",
       "\n",
       "      Country_Germany  Country_Greece  Country_Hungary  Country_India  \\\n",
       "0                   0               0                0              0   \n",
       "1                   0               0                0              0   \n",
       "2                   0               0                0              0   \n",
       "3                   0               0                0              0   \n",
       "4                   0               0                0              0   \n",
       "...               ...             ...              ...            ...   \n",
       "1254                0               0                0              0   \n",
       "1255                0               0                0              0   \n",
       "1256                0               0                0              0   \n",
       "1257                0               0                0              0   \n",
       "1258                0               0                0              0   \n",
       "\n",
       "      Country_Ireland  Country_Israel  Country_Italy  Country_Japan  \\\n",
       "0                   0               0              0              0   \n",
       "1                   0               0              0              0   \n",
       "2                   0               0              0              0   \n",
       "3                   0               0              0              0   \n",
       "4                   0               0              0              0   \n",
       "...               ...             ...            ...            ...   \n",
       "1254                0               0              0              0   \n",
       "1255                0               0              0              0   \n",
       "1256                0               0              0              0   \n",
       "1257                0               0              0              0   \n",
       "1258                0               0              0              0   \n",
       "\n",
       "      Country_Latvia  Country_Mexico  Country_Moldova  Country_Netherlands  \\\n",
       "0                  0               0                0                    0   \n",
       "1                  0               0                0                    0   \n",
       "2                  0               0                0                    0   \n",
       "3                  0               0                0                    0   \n",
       "4                  0               0                0                    0   \n",
       "...              ...             ...              ...                  ...   \n",
       "1254               0               0                0                    0   \n",
       "1255               0               0                0                    0   \n",
       "1256               0               0                0                    0   \n",
       "1257               0               0                0                    0   \n",
       "1258               0               0                0                    0   \n",
       "\n",
       "      Country_New Zealand  Country_Nigeria  Country_Norway  \\\n",
       "0                       0                0               0   \n",
       "1                       0                0               0   \n",
       "2                       0                0               0   \n",
       "3                       0                0               0   \n",
       "4                       0                0               0   \n",
       "...                   ...              ...             ...   \n",
       "1254                    0                0               0   \n",
       "1255                    0                0               0   \n",
       "1256                    0                0               0   \n",
       "1257                    0                0               0   \n",
       "1258                    0                0               0   \n",
       "\n",
       "      Country_Philippines  Country_Poland  Country_Portugal  Country_Romania  \\\n",
       "0                       0               0                 0                0   \n",
       "1                       0               0                 0                0   \n",
       "2                       0               0                 0                0   \n",
       "3                       0               0                 0                0   \n",
       "4                       0               0                 0                0   \n",
       "...                   ...             ...               ...              ...   \n",
       "1254                    0               0                 0                0   \n",
       "1255                    0               0                 0                0   \n",
       "1256                    0               0                 0                0   \n",
       "1257                    0               0                 0                0   \n",
       "1258                    0               0                 0                0   \n",
       "\n",
       "      Country_Russia  Country_Singapore  Country_Slovenia  \\\n",
       "0                  0                  0                 0   \n",
       "1                  0                  0                 0   \n",
       "2                  0                  0                 0   \n",
       "3                  0                  0                 0   \n",
       "4                  0                  0                 0   \n",
       "...              ...                ...               ...   \n",
       "1254               0                  0                 0   \n",
       "1255               0                  0                 0   \n",
       "1256               0                  0                 0   \n",
       "1257               0                  0                 0   \n",
       "1258               0                  0                 0   \n",
       "\n",
       "      Country_South Africa  Country_Spain  Country_Sweden  \\\n",
       "0                        0              0               0   \n",
       "1                        0              0               0   \n",
       "2                        0              0               0   \n",
       "3                        0              0               0   \n",
       "4                        0              0               0   \n",
       "...                    ...            ...             ...   \n",
       "1254                     0              0               0   \n",
       "1255                     0              0               0   \n",
       "1256                     0              0               0   \n",
       "1257                     0              0               0   \n",
       "1258                     0              0               0   \n",
       "\n",
       "      Country_Switzerland  Country_Thailand  Country_United Kingdom  \\\n",
       "0                       0                 0                       0   \n",
       "1                       0                 0                       0   \n",
       "2                       0                 0                       0   \n",
       "3                       0                 0                       1   \n",
       "4                       0                 0                       0   \n",
       "...                   ...               ...                     ...   \n",
       "1254                    0                 0                       1   \n",
       "1255                    0                 0                       0   \n",
       "1256                    0                 0                       0   \n",
       "1257                    0                 0                       0   \n",
       "1258                    0                 0                       0   \n",
       "\n",
       "      Country_United States  Country_Uruguay  Country_Zimbabwe  \\\n",
       "0                         1                0                 0   \n",
       "1                         1                0                 0   \n",
       "2                         0                0                 0   \n",
       "3                         0                0                 0   \n",
       "4                         1                0                 0   \n",
       "...                     ...              ...               ...   \n",
       "1254                      0                0                 0   \n",
       "1255                      1                0                 0   \n",
       "1256                      1                0                 0   \n",
       "1257                      1                0                 0   \n",
       "1258                      1                0                 0   \n",
       "\n",
       "      self_employed_Yes  family_history_Yes  treatment_Yes  \\\n",
       "0                     0                   0              1   \n",
       "1                     0                   0              0   \n",
       "2                     0                   0              0   \n",
       "3                     0                   1              1   \n",
       "4                     0                   0              0   \n",
       "...                 ...                 ...            ...   \n",
       "1254                  0                   0              1   \n",
       "1255                  0                   1              1   \n",
       "1256                  0                   1              1   \n",
       "1257                  0                   0              0   \n",
       "1258                  0                   1              1   \n",
       "\n",
       "      work_interfere_Never  work_interfere_Often  work_interfere_Rarely  \\\n",
       "0                        0                     1                      0   \n",
       "1                        0                     0                      1   \n",
       "2                        0                     0                      1   \n",
       "3                        0                     1                      0   \n",
       "4                        1                     0                      0   \n",
       "...                    ...                   ...                    ...   \n",
       "1254                     0                     0                      0   \n",
       "1255                     0                     1                      0   \n",
       "1256                     0                     0                      0   \n",
       "1257                     0                     0                      0   \n",
       "1258                     0                     0                      0   \n",
       "\n",
       "      work_interfere_Sometimes  no_employees_100-500  no_employees_26-100  \\\n",
       "0                            0                     0                    0   \n",
       "1                            0                     0                    0   \n",
       "2                            0                     0                    0   \n",
       "3                            0                     0                    1   \n",
       "4                            0                     1                    0   \n",
       "...                        ...                   ...                  ...   \n",
       "1254                         0                     0                    1   \n",
       "1255                         0                     0                    1   \n",
       "1256                         1                     0                    0   \n",
       "1257                         0                     1                    0   \n",
       "1258                         1                     0                    1   \n",
       "\n",
       "      no_employees_500-1000  no_employees_6-25  no_employees_More than 1000  \\\n",
       "0                         0                  1                            0   \n",
       "1                         0                  0                            1   \n",
       "2                         0                  1                            0   \n",
       "3                         0                  0                            0   \n",
       "4                         0                  0                            0   \n",
       "...                     ...                ...                          ...   \n",
       "1254                      0                  0                            0   \n",
       "1255                      0                  0                            0   \n",
       "1256                      0                  0                            1   \n",
       "1257                      0                  0                            0   \n",
       "1258                      0                  0                            0   \n",
       "\n",
       "      remote_work_Yes  tech_company_Yes  benefits_No  benefits_Yes  \\\n",
       "0                   0                 1            0             1   \n",
       "1                   0                 0            0             0   \n",
       "2                   0                 1            1             0   \n",
       "3                   0                 1            1             0   \n",
       "4                   1                 1            0             1   \n",
       "...               ...               ...          ...           ...   \n",
       "1254                0                 1            1             0   \n",
       "1255                1                 1            0             1   \n",
       "1256                0                 1            0             1   \n",
       "1257                1                 1            1             0   \n",
       "1258                0                 0            0             1   \n",
       "\n",
       "      care_options_Not sure  care_options_Yes  wellness_program_No  \\\n",
       "0                         1                 0                    1   \n",
       "1                         0                 0                    0   \n",
       "2                         0                 0                    1   \n",
       "3                         0                 1                    1   \n",
       "4                         0                 0                    0   \n",
       "...                     ...               ...                  ...   \n",
       "1254                      0                 0                    1   \n",
       "1255                      0                 1                    1   \n",
       "1256                      0                 1                    1   \n",
       "1257                      0                 1                    1   \n",
       "1258                      0                 1                    1   \n",
       "\n",
       "      wellness_program_Yes  seek_help_No  seek_help_Yes  anonymity_No  \\\n",
       "0                        0             0              1             0   \n",
       "1                        0             0              0             0   \n",
       "2                        0             1              0             0   \n",
       "3                        0             1              0             1   \n",
       "4                        0             0              0             0   \n",
       "...                    ...           ...            ...           ...   \n",
       "1254                     0             1              0             0   \n",
       "1255                     0             1              0             0   \n",
       "1256                     0             1              0             0   \n",
       "1257                     0             1              0             0   \n",
       "1258                     0             1              0             0   \n",
       "\n",
       "      anonymity_Yes  leave_Somewhat difficult  leave_Somewhat easy  \\\n",
       "0                 1                         0                    1   \n",
       "1                 0                         0                    0   \n",
       "2                 0                         1                    0   \n",
       "3                 0                         1                    0   \n",
       "4                 0                         0                    0   \n",
       "...             ...                       ...                  ...   \n",
       "1254              0                         0                    1   \n",
       "1255              1                         1                    0   \n",
       "1256              0                         1                    0   \n",
       "1257              0                         0                    0   \n",
       "1258              1                         0                    0   \n",
       "\n",
       "      leave_Very difficult  leave_Very easy  mental_health_consequence_No  \\\n",
       "0                        0                0                             1   \n",
       "1                        0                0                             0   \n",
       "2                        0                0                             1   \n",
       "3                        0                0                             0   \n",
       "4                        0                0                             1   \n",
       "...                    ...              ...                           ...   \n",
       "1254                     0                0                             1   \n",
       "1255                     0                0                             1   \n",
       "1256                     0                0                             0   \n",
       "1257                     0                0                             0   \n",
       "1258                     0                0                             0   \n",
       "\n",
       "      mental_health_consequence_Yes  phys_health_consequence_No  \\\n",
       "0                                 0                           1   \n",
       "1                                 0                           1   \n",
       "2                                 0                           1   \n",
       "3                                 1                           0   \n",
       "4                                 0                           1   \n",
       "...                             ...                         ...   \n",
       "1254                              0                           1   \n",
       "1255                              0                           1   \n",
       "1256                              1                           0   \n",
       "1257                              1                           1   \n",
       "1258                              0                           1   \n",
       "\n",
       "      phys_health_consequence_Yes  coworkers_Some of them  coworkers_Yes  \\\n",
       "0                               0                       1              0   \n",
       "1                               0                       0              0   \n",
       "2                               0                       0              1   \n",
       "3                               1                       1              0   \n",
       "4                               0                       1              0   \n",
       "...                           ...                     ...            ...   \n",
       "1254                            0                       1              0   \n",
       "1255                            0                       1              0   \n",
       "1256                            1                       0              0   \n",
       "1257                            0                       0              0   \n",
       "1258                            0                       1              0   \n",
       "\n",
       "      supervisor_Some of them  supervisor_Yes  mental_health_interview_No  \\\n",
       "0                           0               1                           1   \n",
       "1                           0               0                           1   \n",
       "2                           0               1                           0   \n",
       "3                           0               0                           0   \n",
       "4                           0               1                           0   \n",
       "...                       ...             ...                         ...   \n",
       "1254                        1               0                           1   \n",
       "1255                        0               1                           1   \n",
       "1256                        0               0                           1   \n",
       "1257                        0               0                           1   \n",
       "1258                        0               0                           1   \n",
       "\n",
       "      mental_health_interview_Yes  phys_health_interview_No  \\\n",
       "0                               0                         0   \n",
       "1                               0                         1   \n",
       "2                               1                         0   \n",
       "3                               0                         0   \n",
       "4                               1                         0   \n",
       "...                           ...                       ...   \n",
       "1254                            0                         1   \n",
       "1255                            0                         1   \n",
       "1256                            0                         1   \n",
       "1257                            0                         1   \n",
       "1258                            0                         1   \n",
       "\n",
       "      phys_health_interview_Yes  mental_vs_physical_No  \\\n",
       "0                             0                      0   \n",
       "1                             0                      0   \n",
       "2                             1                      1   \n",
       "3                             0                      1   \n",
       "4                             1                      0   \n",
       "...                         ...                    ...   \n",
       "1254                          0                      0   \n",
       "1255                          0                      0   \n",
       "1256                          0                      1   \n",
       "1257                          0                      1   \n",
       "1258                          0                      0   \n",
       "\n",
       "      mental_vs_physical_Yes  obs_consequence_Yes  \n",
       "0                          1                    0  \n",
       "1                          0                    0  \n",
       "2                          0                    0  \n",
       "3                          0                    1  \n",
       "4                          0                    0  \n",
       "...                      ...                  ...  \n",
       "1254                       0                    0  \n",
       "1255                       1                    0  \n",
       "1256                       0                    0  \n",
       "1257                       0                    0  \n",
       "1258                       0                    0  \n",
       "\n",
       "[1259 rows x 93 columns]"
      ]
     },
     "execution_count": 381,
     "metadata": {},
     "output_type": "execute_result"
    }
   ],
   "source": [
    "df"
   ]
  },
  {
   "cell_type": "code",
   "execution_count": 382,
   "metadata": {
    "ExecuteTime": {
     "end_time": "2020-12-16T18:39:23.429265Z",
     "start_time": "2020-12-16T18:39:23.106817Z"
    },
    "scrolled": true
   },
   "outputs": [
    {
     "data": {
      "text/plain": [
       "work_interfere_Sometimes         0.403994\n",
       "family_history_Yes               0.377918\n",
       "care_options_Yes                 0.273830\n",
       "work_interfere_Often             0.250291\n",
       "benefits_Yes                     0.208475\n",
       "work_interfere_Rarely            0.159058\n",
       "obs_consequence_Yes              0.156972\n",
       "anonymity_Yes                    0.132933\n",
       "mental_vs_physical_No            0.107255\n",
       "leave_Very difficult             0.103273\n",
       "mental_health_consequence_Yes    0.098846\n",
       "Country_United States            0.097232\n",
       "leave_Somewhat difficult         0.096607\n",
       "seek_help_Yes                    0.085664\n",
       "wellness_program_Yes             0.082927\n",
       "mental_health_interview_No       0.075533\n",
       "Age                              0.073165\n",
       "Gender_trans                     0.070195\n",
       "coworkers_Yes                    0.058717\n",
       "Name: treatment_Yes, dtype: float64"
      ]
     },
     "execution_count": 382,
     "metadata": {},
     "output_type": "execute_result"
    }
   ],
   "source": [
    "df.corr()['treatment_Yes'].sort_values(ascending=False)[1:20]"
   ]
  },
  {
   "cell_type": "markdown",
   "metadata": {},
   "source": [
    "## Definição de X e y:"
   ]
  },
  {
   "cell_type": "code",
   "execution_count": 383,
   "metadata": {
    "ExecuteTime": {
     "end_time": "2020-12-16T18:47:05.615545Z",
     "start_time": "2020-12-16T18:47:05.595455Z"
    }
   },
   "outputs": [],
   "source": [
    "X=df.drop(columns=['treatment_Yes'])"
   ]
  },
  {
   "cell_type": "code",
   "execution_count": 384,
   "metadata": {
    "ExecuteTime": {
     "end_time": "2020-12-16T18:47:12.205697Z",
     "start_time": "2020-12-16T18:47:12.196915Z"
    }
   },
   "outputs": [],
   "source": [
    "y=df['treatment_Yes']"
   ]
  },
  {
   "cell_type": "code",
   "execution_count": 385,
   "metadata": {
    "ExecuteTime": {
     "end_time": "2020-12-16T18:47:18.801348Z",
     "start_time": "2020-12-16T18:47:18.780240Z"
    }
   },
   "outputs": [],
   "source": [
    "X_train, X_test, y_train, y_test = train_test_split(X, y,test_size=0.3)"
   ]
  },
  {
   "cell_type": "markdown",
   "metadata": {},
   "source": [
    "## Normalização:"
   ]
  },
  {
   "cell_type": "code",
   "execution_count": 386,
   "metadata": {
    "ExecuteTime": {
     "end_time": "2020-12-16T18:47:40.992556Z",
     "start_time": "2020-12-16T18:47:40.970744Z"
    }
   },
   "outputs": [],
   "source": [
    "scaler = StandardScaler()\n",
    "scaler.fit(X_train)\n",
    "X_train = scaler.transform(X_train)"
   ]
  },
  {
   "cell_type": "code",
   "execution_count": 387,
   "metadata": {
    "ExecuteTime": {
     "end_time": "2020-12-16T18:47:49.037673Z",
     "start_time": "2020-12-16T18:47:49.013143Z"
    }
   },
   "outputs": [],
   "source": [
    "scaler = StandardScaler()\n",
    "scaler.fit(X_test)\n",
    "X_test = scaler.transform(X_test)"
   ]
  },
  {
   "cell_type": "markdown",
   "metadata": {},
   "source": [
    "## Aplicação do Modelo de Regressão Logística"
   ]
  },
  {
   "cell_type": "markdown",
   "metadata": {
    "ExecuteTime": {
     "end_time": "2020-12-16T18:31:13.670790Z",
     "start_time": "2020-12-16T18:31:13.666803Z"
    }
   },
   "source": [
    "### Regressão logística com todas as colunas:"
   ]
  },
  {
   "cell_type": "code",
   "execution_count": 388,
   "metadata": {
    "ExecuteTime": {
     "end_time": "2020-12-16T18:47:55.455024Z",
     "start_time": "2020-12-16T18:47:55.443682Z"
    }
   },
   "outputs": [],
   "source": [
    "logistic=LogisticRegression()"
   ]
  },
  {
   "cell_type": "code",
   "execution_count": 389,
   "metadata": {
    "ExecuteTime": {
     "end_time": "2020-12-16T18:48:01.225197Z",
     "start_time": "2020-12-16T18:48:01.091940Z"
    }
   },
   "outputs": [
    {
     "data": {
      "text/plain": [
       "LogisticRegression()"
      ]
     },
     "execution_count": 389,
     "metadata": {},
     "output_type": "execute_result"
    }
   ],
   "source": [
    "logistic.fit(X_train,y_train)"
   ]
  },
  {
   "cell_type": "code",
   "execution_count": 390,
   "metadata": {
    "ExecuteTime": {
     "end_time": "2020-12-16T18:48:07.669709Z",
     "start_time": "2020-12-16T18:48:07.652033Z"
    }
   },
   "outputs": [
    {
     "data": {
      "text/plain": [
       "0.8547105561861521"
      ]
     },
     "execution_count": 390,
     "metadata": {},
     "output_type": "execute_result"
    }
   ],
   "source": [
    "logistic.score(X_train,y_train)"
   ]
  },
  {
   "cell_type": "code",
   "execution_count": 391,
   "metadata": {
    "ExecuteTime": {
     "end_time": "2020-12-16T18:48:13.205697Z",
     "start_time": "2020-12-16T18:48:13.194965Z"
    }
   },
   "outputs": [
    {
     "data": {
      "text/plain": [
       "0.8333333333333334"
      ]
     },
     "execution_count": 391,
     "metadata": {},
     "output_type": "execute_result"
    }
   ],
   "source": [
    "logistic.score(X_test,y_test)"
   ]
  },
  {
   "cell_type": "code",
   "execution_count": 392,
   "metadata": {
    "ExecuteTime": {
     "end_time": "2020-12-16T18:48:19.683488Z",
     "start_time": "2020-12-16T18:48:19.162310Z"
    }
   },
   "outputs": [
    {
     "data": {
      "text/plain": [
       "<sklearn.metrics._plot.confusion_matrix.ConfusionMatrixDisplay at 0x126dc88b0>"
      ]
     },
     "execution_count": 392,
     "metadata": {},
     "output_type": "execute_result"
    },
    {
     "data": {
      "image/png": "[encoded data removed]",
      "text/plain": [
       "<Figure size 432x288 with 2 Axes>"
      ]
     },
     "metadata": {
      "needs_background": "light"
     },
     "output_type": "display_data"
    }
   ],
   "source": [
    "plot_confusion_matrix(logistic, X_test, y_test, values_format='.0f')"
   ]
  },
  {
   "cell_type": "code",
   "execution_count": 393,
   "metadata": {
    "ExecuteTime": {
     "end_time": "2020-12-16T18:48:26.178285Z",
     "start_time": "2020-12-16T18:48:26.158474Z"
    }
   },
   "outputs": [
    {
     "data": {
      "text/plain": [
       "0.7864077669902912"
      ]
     },
     "execution_count": 393,
     "metadata": {},
     "output_type": "execute_result"
    }
   ],
   "source": [
    "precision_score(y_test,logistic.predict(X_test))"
   ]
  },
  {
   "cell_type": "code",
   "execution_count": 394,
   "metadata": {
    "ExecuteTime": {
     "end_time": "2020-12-16T18:48:34.106129Z",
     "start_time": "2020-12-16T18:48:34.091064Z"
    }
   },
   "outputs": [
    {
     "data": {
      "text/plain": [
       "0.8950276243093923"
      ]
     },
     "execution_count": 394,
     "metadata": {},
     "output_type": "execute_result"
    }
   ],
   "source": [
    "recall_score(y_test,logistic.predict(X_test))"
   ]
  },
  {
   "cell_type": "code",
   "execution_count": 395,
   "metadata": {
    "ExecuteTime": {
     "end_time": "2020-12-16T18:48:40.827296Z",
     "start_time": "2020-12-16T18:48:40.377800Z"
    }
   },
   "outputs": [
    {
     "data": {
      "text/plain": [
       "<sklearn.metrics._plot.roc_curve.RocCurveDisplay at 0x126eaf100>"
      ]
     },
     "execution_count": 395,
     "metadata": {},
     "output_type": "execute_result"
    },
    {
     "data": {
      "image/png": "[encoded data removed]",
      "text/plain": [
       "<Figure size 432x288 with 1 Axes>"
      ]
     },
     "metadata": {
      "needs_background": "light"
     },
     "output_type": "display_data"
    }
   ],
   "source": [
    "fig, ax = plt.subplots()\n",
    "\n",
    "plot_roc_curve(logistic, X_train, y_train, color='red', ax= ax, name='train')\n",
    "plot_roc_curve(logistic, X_test, y_test, color='blue', ax=ax, name='test')"
   ]
  },
  {
   "cell_type": "markdown",
   "metadata": {},
   "source": [
    "### Regressão logística com as colunas mais importantes:"
   ]
  },
  {
   "cell_type": "code",
   "execution_count": 396,
   "metadata": {
    "ExecuteTime": {
     "end_time": "2020-12-16T18:41:24.931019Z",
     "start_time": "2020-12-16T18:41:24.922645Z"
    }
   },
   "outputs": [
    {
     "data": {
      "text/plain": [
       "array([[ 0.13934976, -0.31066101, -0.00431245, -0.26404365,  0.        ,\n",
       "         0.01929031, -0.18980579,  0.05858537,  0.076436  , -0.09047868,\n",
       "        -0.16738005, -0.2641498 , -0.10726698,  0.15391404,  0.        ,\n",
       "         0.16823251,  0.03267322, -0.01383869,  0.        , -0.0777893 ,\n",
       "        -0.10181953, -0.21321607,  0.0280395 , -0.05358411, -0.36959576,\n",
       "        -0.37794982,  0.        , -0.06748095, -0.12216496,  0.08536955,\n",
       "        -0.09409969, -0.05461131, -0.08629713, -0.11008131,  0.        ,\n",
       "         0.09893884, -0.1335691 ,  0.        , -0.26290559,  0.0198151 ,\n",
       "         0.19962763,  0.07787493, -0.09420651, -0.15351571,  0.03099782,\n",
       "        -0.1125176 ,  0.09399274, -0.12533241, -0.06965688,  0.09874773,\n",
       "        -0.02211845,  0.37513934,  0.63146346,  1.7400208 ,  1.50767351,\n",
       "         2.18431842,  0.03991416,  0.09735221,  0.02586089, -0.04829326,\n",
       "        -0.02039447, -0.04346901, -0.19683915,  0.0495067 ,  0.33518881,\n",
       "        -0.0520593 ,  0.26449139,  0.03686939, -0.05492845, -0.16674656,\n",
       "        -0.25953278, -0.0279197 ,  0.27124564,  0.11541306, -0.19460505,\n",
       "         0.05652346,  0.04007007, -0.15493341, -0.07390083,  0.02474259,\n",
       "        -0.04704477,  0.13244306,  0.37823539, -0.10892452, -0.10543772,\n",
       "         0.05529893, -0.0170481 ,  0.02125552,  0.21140165,  0.05845226,\n",
       "         0.07571854,  0.07345526]])"
      ]
     },
     "execution_count": 396,
     "metadata": {},
     "output_type": "execute_result"
    }
   ],
   "source": [
    "logistic.coef_"
   ]
  },
  {
   "cell_type": "code",
   "execution_count": 397,
   "metadata": {
    "ExecuteTime": {
     "end_time": "2020-12-16T18:41:31.487906Z",
     "start_time": "2020-12-16T18:41:31.461673Z"
    }
   },
   "outputs": [],
   "source": [
    "coefs = pd.DataFrame(dict(zip(list([y for x in logistic.coef_ for y in x]),list(X.columns))),index=[0]).T.reset_index()"
   ]
  },
  {
   "cell_type": "code",
   "execution_count": 398,
   "metadata": {
    "ExecuteTime": {
     "end_time": "2020-12-16T18:41:38.664230Z",
     "start_time": "2020-12-16T18:41:38.622298Z"
    }
   },
   "outputs": [
    {
     "data": {
      "text/html": [
       "<div>\n",
       "<style scoped>\n",
       "    .dataframe tbody tr th:only-of-type {\n",
       "        vertical-align: middle;\n",
       "    }\n",
       "\n",
       "    .dataframe tbody tr th {\n",
       "        vertical-align: top;\n",
       "    }\n",
       "\n",
       "    .dataframe thead th {\n",
       "        text-align: right;\n",
       "    }\n",
       "</style>\n",
       "<table border=\"1\" class=\"dataframe\">\n",
       "  <thead>\n",
       "    <tr style=\"text-align: right;\">\n",
       "      <th></th>\n",
       "      <th>index</th>\n",
       "      <th>0</th>\n",
       "    </tr>\n",
       "  </thead>\n",
       "  <tbody>\n",
       "    <tr>\n",
       "      <th>0</th>\n",
       "      <td>0.139350</td>\n",
       "      <td>Age</td>\n",
       "    </tr>\n",
       "    <tr>\n",
       "      <th>1</th>\n",
       "      <td>-0.310661</td>\n",
       "      <td>Gender_male</td>\n",
       "    </tr>\n",
       "    <tr>\n",
       "      <th>2</th>\n",
       "      <td>-0.004312</td>\n",
       "      <td>Gender_trans</td>\n",
       "    </tr>\n",
       "    <tr>\n",
       "      <th>3</th>\n",
       "      <td>-0.264044</td>\n",
       "      <td>Country_Austria</td>\n",
       "    </tr>\n",
       "    <tr>\n",
       "      <th>4</th>\n",
       "      <td>0.000000</td>\n",
       "      <td>Country_Romania</td>\n",
       "    </tr>\n",
       "    <tr>\n",
       "      <th>...</th>\n",
       "      <td>...</td>\n",
       "      <td>...</td>\n",
       "    </tr>\n",
       "    <tr>\n",
       "      <th>82</th>\n",
       "      <td>0.021256</td>\n",
       "      <td>phys_health_interview_No</td>\n",
       "    </tr>\n",
       "    <tr>\n",
       "      <th>83</th>\n",
       "      <td>0.211402</td>\n",
       "      <td>phys_health_interview_Yes</td>\n",
       "    </tr>\n",
       "    <tr>\n",
       "      <th>84</th>\n",
       "      <td>0.058452</td>\n",
       "      <td>mental_vs_physical_No</td>\n",
       "    </tr>\n",
       "    <tr>\n",
       "      <th>85</th>\n",
       "      <td>0.075719</td>\n",
       "      <td>mental_vs_physical_Yes</td>\n",
       "    </tr>\n",
       "    <tr>\n",
       "      <th>86</th>\n",
       "      <td>0.073455</td>\n",
       "      <td>obs_consequence_Yes</td>\n",
       "    </tr>\n",
       "  </tbody>\n",
       "</table>\n",
       "<p>87 rows × 2 columns</p>\n",
       "</div>"
      ],
      "text/plain": [
       "       index                          0\n",
       "0   0.139350                        Age\n",
       "1  -0.310661                Gender_male\n",
       "2  -0.004312               Gender_trans\n",
       "3  -0.264044            Country_Austria\n",
       "4   0.000000            Country_Romania\n",
       "..       ...                        ...\n",
       "82  0.021256   phys_health_interview_No\n",
       "83  0.211402  phys_health_interview_Yes\n",
       "84  0.058452      mental_vs_physical_No\n",
       "85  0.075719     mental_vs_physical_Yes\n",
       "86  0.073455        obs_consequence_Yes\n",
       "\n",
       "[87 rows x 2 columns]"
      ]
     },
     "execution_count": 398,
     "metadata": {},
     "output_type": "execute_result"
    }
   ],
   "source": [
    "coefs"
   ]
  },
  {
   "cell_type": "code",
   "execution_count": 399,
   "metadata": {
    "ExecuteTime": {
     "end_time": "2020-12-16T18:41:45.783181Z",
     "start_time": "2020-12-16T18:41:45.777354Z"
    }
   },
   "outputs": [],
   "source": [
    "coefs.columns=['coeficiente','nome_da_coluna']"
   ]
  },
  {
   "cell_type": "code",
   "execution_count": 400,
   "metadata": {
    "ExecuteTime": {
     "end_time": "2020-12-16T18:41:51.829826Z",
     "start_time": "2020-12-16T18:41:51.789305Z"
    }
   },
   "outputs": [
    {
     "data": {
      "text/html": [
       "<div>\n",
       "<style scoped>\n",
       "    .dataframe tbody tr th:only-of-type {\n",
       "        vertical-align: middle;\n",
       "    }\n",
       "\n",
       "    .dataframe tbody tr th {\n",
       "        vertical-align: top;\n",
       "    }\n",
       "\n",
       "    .dataframe thead th {\n",
       "        text-align: right;\n",
       "    }\n",
       "</style>\n",
       "<table border=\"1\" class=\"dataframe\">\n",
       "  <thead>\n",
       "    <tr style=\"text-align: right;\">\n",
       "      <th></th>\n",
       "      <th>coeficiente</th>\n",
       "      <th>nome_da_coluna</th>\n",
       "    </tr>\n",
       "  </thead>\n",
       "  <tbody>\n",
       "    <tr>\n",
       "      <th>50</th>\n",
       "      <td>2.184318</td>\n",
       "      <td>work_interfere_Sometimes</td>\n",
       "    </tr>\n",
       "    <tr>\n",
       "      <th>48</th>\n",
       "      <td>1.740021</td>\n",
       "      <td>work_interfere_Often</td>\n",
       "    </tr>\n",
       "    <tr>\n",
       "      <th>49</th>\n",
       "      <td>1.507674</td>\n",
       "      <td>work_interfere_Rarely</td>\n",
       "    </tr>\n",
       "    <tr>\n",
       "      <th>47</th>\n",
       "      <td>0.631463</td>\n",
       "      <td>work_interfere_Never</td>\n",
       "    </tr>\n",
       "    <tr>\n",
       "      <th>77</th>\n",
       "      <td>0.378235</td>\n",
       "      <td>coworkers_Yes</td>\n",
       "    </tr>\n",
       "    <tr>\n",
       "      <th>46</th>\n",
       "      <td>0.375139</td>\n",
       "      <td>family_history_Yes</td>\n",
       "    </tr>\n",
       "    <tr>\n",
       "      <th>59</th>\n",
       "      <td>0.335189</td>\n",
       "      <td>benefits_Yes</td>\n",
       "    </tr>\n",
       "    <tr>\n",
       "      <th>67</th>\n",
       "      <td>0.271246</td>\n",
       "      <td>anonymity_Yes</td>\n",
       "    </tr>\n",
       "    <tr>\n",
       "      <th>61</th>\n",
       "      <td>0.264491</td>\n",
       "      <td>care_options_Yes</td>\n",
       "    </tr>\n",
       "    <tr>\n",
       "      <th>83</th>\n",
       "      <td>0.211402</td>\n",
       "      <td>phys_health_interview_Yes</td>\n",
       "    </tr>\n",
       "    <tr>\n",
       "      <th>35</th>\n",
       "      <td>0.199628</td>\n",
       "      <td>Country_Slovenia</td>\n",
       "    </tr>\n",
       "    <tr>\n",
       "      <th>14</th>\n",
       "      <td>0.168233</td>\n",
       "      <td>Country_Denmark</td>\n",
       "    </tr>\n",
       "    <tr>\n",
       "      <th>13</th>\n",
       "      <td>0.153914</td>\n",
       "      <td>Country_Croatia</td>\n",
       "    </tr>\n",
       "    <tr>\n",
       "      <th>0</th>\n",
       "      <td>0.139350</td>\n",
       "      <td>Age</td>\n",
       "    </tr>\n",
       "    <tr>\n",
       "      <th>76</th>\n",
       "      <td>0.132443</td>\n",
       "      <td>coworkers_Some of them</td>\n",
       "    </tr>\n",
       "    <tr>\n",
       "      <th>68</th>\n",
       "      <td>0.115413</td>\n",
       "      <td>leave_Somewhat difficult</td>\n",
       "    </tr>\n",
       "    <tr>\n",
       "      <th>31</th>\n",
       "      <td>0.098939</td>\n",
       "      <td>Country_Poland</td>\n",
       "    </tr>\n",
       "    <tr>\n",
       "      <th>44</th>\n",
       "      <td>0.098748</td>\n",
       "      <td>Country_Zimbabwe</td>\n",
       "    </tr>\n",
       "    <tr>\n",
       "      <th>52</th>\n",
       "      <td>0.097352</td>\n",
       "      <td>no_employees_26-100</td>\n",
       "    </tr>\n",
       "    <tr>\n",
       "      <th>41</th>\n",
       "      <td>0.093993</td>\n",
       "      <td>Country_United Kingdom</td>\n",
       "    </tr>\n",
       "  </tbody>\n",
       "</table>\n",
       "</div>"
      ],
      "text/plain": [
       "    coeficiente             nome_da_coluna\n",
       "50     2.184318   work_interfere_Sometimes\n",
       "48     1.740021       work_interfere_Often\n",
       "49     1.507674      work_interfere_Rarely\n",
       "47     0.631463       work_interfere_Never\n",
       "77     0.378235              coworkers_Yes\n",
       "46     0.375139         family_history_Yes\n",
       "59     0.335189               benefits_Yes\n",
       "67     0.271246              anonymity_Yes\n",
       "61     0.264491           care_options_Yes\n",
       "83     0.211402  phys_health_interview_Yes\n",
       "35     0.199628           Country_Slovenia\n",
       "14     0.168233            Country_Denmark\n",
       "13     0.153914            Country_Croatia\n",
       "0      0.139350                        Age\n",
       "76     0.132443     coworkers_Some of them\n",
       "68     0.115413   leave_Somewhat difficult\n",
       "31     0.098939             Country_Poland\n",
       "44     0.098748           Country_Zimbabwe\n",
       "52     0.097352        no_employees_26-100\n",
       "41     0.093993     Country_United Kingdom"
      ]
     },
     "execution_count": 400,
     "metadata": {},
     "output_type": "execute_result"
    }
   ],
   "source": [
    "coefs[['coeficiente','nome_da_coluna']].sort_values(by='coeficiente',ascending=False).head(20)"
   ]
  },
  {
   "cell_type": "code",
   "execution_count": 401,
   "metadata": {
    "ExecuteTime": {
     "end_time": "2020-12-16T18:49:00.687013Z",
     "start_time": "2020-12-16T18:49:00.678452Z"
    }
   },
   "outputs": [],
   "source": [
    "X1=df[['work_interfere_Often','work_interfere_Sometimes','work_interfere_Rarely','coworkers_Yes','family_history_Yes','work_interfere_Never','care_options_Yes','anonymity_Yes', 'phys_health_interview_Yes','obs_consequence_Yes','leave_Very difficult','mental_health_interview_Yes','benefits_Yes','seek_help_Yes','Gender_male','Gender_trans','care_options_Not sure','mental_health_consequence_No']]"
   ]
  },
  {
   "cell_type": "code",
   "execution_count": 402,
   "metadata": {
    "ExecuteTime": {
     "end_time": "2020-12-16T18:49:06.829000Z",
     "start_time": "2020-12-16T18:49:06.822555Z"
    }
   },
   "outputs": [],
   "source": [
    "y1=df['treatment_Yes']"
   ]
  },
  {
   "cell_type": "code",
   "execution_count": 403,
   "metadata": {
    "ExecuteTime": {
     "end_time": "2020-12-16T18:49:12.682415Z",
     "start_time": "2020-12-16T18:49:12.671325Z"
    }
   },
   "outputs": [],
   "source": [
    "X_train1, X_test1, y_train1, y_test1 = train_test_split(X1, y1, test_size=0.3)"
   ]
  },
  {
   "cell_type": "code",
   "execution_count": 404,
   "metadata": {
    "ExecuteTime": {
     "end_time": "2020-12-16T18:49:18.522427Z",
     "start_time": "2020-12-16T18:49:18.502059Z"
    }
   },
   "outputs": [],
   "source": [
    "scaler = StandardScaler()\n",
    "scaler.fit(X_train1)\n",
    "X_train1 = scaler.transform(X_train1)"
   ]
  },
  {
   "cell_type": "code",
   "execution_count": 405,
   "metadata": {
    "ExecuteTime": {
     "end_time": "2020-12-16T18:49:23.968153Z",
     "start_time": "2020-12-16T18:49:23.951232Z"
    }
   },
   "outputs": [],
   "source": [
    "scaler = StandardScaler()\n",
    "scaler.fit(X_test1)\n",
    "X_test1 = scaler.transform(X_test1)"
   ]
  },
  {
   "cell_type": "code",
   "execution_count": 406,
   "metadata": {
    "ExecuteTime": {
     "end_time": "2020-12-16T18:49:29.400034Z",
     "start_time": "2020-12-16T18:49:29.391545Z"
    }
   },
   "outputs": [],
   "source": [
    "logistic1=LogisticRegression()"
   ]
  },
  {
   "cell_type": "code",
   "execution_count": 407,
   "metadata": {
    "ExecuteTime": {
     "end_time": "2020-12-16T18:49:35.158955Z",
     "start_time": "2020-12-16T18:49:35.091280Z"
    }
   },
   "outputs": [
    {
     "data": {
      "text/plain": [
       "LogisticRegression()"
      ]
     },
     "execution_count": 407,
     "metadata": {},
     "output_type": "execute_result"
    }
   ],
   "source": [
    "logistic1.fit(X_train1,y_train1)"
   ]
  },
  {
   "cell_type": "code",
   "execution_count": 408,
   "metadata": {
    "ExecuteTime": {
     "end_time": "2020-12-16T18:49:40.588490Z",
     "start_time": "2020-12-16T18:49:40.574117Z"
    }
   },
   "outputs": [
    {
     "data": {
      "text/plain": [
       "0.8342792281498297"
      ]
     },
     "execution_count": 408,
     "metadata": {},
     "output_type": "execute_result"
    }
   ],
   "source": [
    "logistic1.score(X_train1,y_train1)"
   ]
  },
  {
   "cell_type": "code",
   "execution_count": 409,
   "metadata": {
    "ExecuteTime": {
     "end_time": "2020-12-16T18:49:46.334973Z",
     "start_time": "2020-12-16T18:49:46.320138Z"
    }
   },
   "outputs": [
    {
     "data": {
      "text/plain": [
       "0.8359788359788359"
      ]
     },
     "execution_count": 409,
     "metadata": {},
     "output_type": "execute_result"
    }
   ],
   "source": [
    "logistic1.score(X_test1,y_test1)"
   ]
  },
  {
   "cell_type": "code",
   "execution_count": 410,
   "metadata": {
    "ExecuteTime": {
     "end_time": "2020-12-16T18:49:52.142215Z",
     "start_time": "2020-12-16T18:49:52.121681Z"
    }
   },
   "outputs": [
    {
     "data": {
      "text/plain": [
       "0.8064516129032258"
      ]
     },
     "execution_count": 410,
     "metadata": {},
     "output_type": "execute_result"
    }
   ],
   "source": [
    "precision_score(y_test1,logistic1.predict(X_test1))"
   ]
  },
  {
   "cell_type": "code",
   "execution_count": 411,
   "metadata": {
    "ExecuteTime": {
     "end_time": "2020-12-16T18:49:57.511933Z",
     "start_time": "2020-12-16T18:49:57.500543Z"
    }
   },
   "outputs": [
    {
     "data": {
      "text/plain": [
       "0.8974358974358975"
      ]
     },
     "execution_count": 411,
     "metadata": {},
     "output_type": "execute_result"
    }
   ],
   "source": [
    "recall_score(y_test1,logistic1.predict(X_test1))"
   ]
  },
  {
   "cell_type": "code",
   "execution_count": 412,
   "metadata": {
    "ExecuteTime": {
     "end_time": "2020-12-16T18:50:04.883326Z",
     "start_time": "2020-12-16T18:50:04.402439Z"
    }
   },
   "outputs": [
    {
     "data": {
      "text/plain": [
       "<sklearn.metrics._plot.confusion_matrix.ConfusionMatrixDisplay at 0x1271188b0>"
      ]
     },
     "execution_count": 412,
     "metadata": {},
     "output_type": "execute_result"
    },
    {
     "data": {
      "image/png": "[encoded data removed]",
      "text/plain": [
       "<Figure size 432x288 with 2 Axes>"
      ]
     },
     "metadata": {
      "needs_background": "light"
     },
     "output_type": "display_data"
    }
   ],
   "source": [
    "plot_confusion_matrix(logistic1, X_test1, y_test1, values_format='.0f')"
   ]
  },
  {
   "cell_type": "code",
   "execution_count": 413,
   "metadata": {
    "ExecuteTime": {
     "end_time": "2020-12-16T18:50:13.642708Z",
     "start_time": "2020-12-16T18:50:13.017490Z"
    }
   },
   "outputs": [
    {
     "data": {
      "text/plain": [
       "<sklearn.metrics._plot.roc_curve.RocCurveDisplay at 0x127104580>"
      ]
     },
     "execution_count": 413,
     "metadata": {},
     "output_type": "execute_result"
    },
    {
     "data": {
      "image/png": "[encoded data removed]",
      "text/plain": [
       "<Figure size 432x288 with 1 Axes>"
      ]
     },
     "metadata": {
      "needs_background": "light"
     },
     "output_type": "display_data"
    }
   ],
   "source": [
    "fig, ax = plt.subplots()\n",
    "\n",
    "plot_roc_curve(logistic1, X_train1, y_train1, color='red', ax= ax, name='train')\n",
    "plot_roc_curve(logistic1, X_test1, y_test1, color='blue', ax=ax, name='test')"
   ]
  },
  {
   "cell_type": "markdown",
   "metadata": {},
   "source": [
    "## Aplicação do método LGBM:"
   ]
  },
  {
   "cell_type": "code",
   "execution_count": 414,
   "metadata": {
    "ExecuteTime": {
     "end_time": "2020-12-16T18:57:57.333655Z",
     "start_time": "2020-12-16T18:57:57.326830Z"
    }
   },
   "outputs": [],
   "source": [
    "lgbm = LGBMClassifier(max_depth=3, n_estimators=70)"
   ]
  },
  {
   "cell_type": "markdown",
   "metadata": {},
   "source": [
    "### Aplicação LGBM com todas as colunas:"
   ]
  },
  {
   "cell_type": "code",
   "execution_count": 415,
   "metadata": {
    "ExecuteTime": {
     "end_time": "2020-12-16T18:58:07.278681Z",
     "start_time": "2020-12-16T18:58:07.257801Z"
    }
   },
   "outputs": [],
   "source": [
    "X.columns=['Age', 'Gender_male', 'Gender_trans', 'Country_Austria',\n",
    "       'Country_Bahamas', 'Country_Belgium',\n",
    "       'Country_Bosnia and Herzegovina', 'Country_Brazil', 'Country_Bulgaria',\n",
    "       'Country_Canada', 'Country_China', 'Country_Colombia',\n",
    "       'Country_Costa Rica', 'Country_Croatia', 'Country_Czech Republic',\n",
    "       'Country_Denmark', 'Country_Finland', 'Country_France',\n",
    "       'Country_Georgia', 'Country_Germany', 'Country_Greece',\n",
    "       'Country_Hungary', 'Country_India', 'Country_Ireland', 'Country_Israel',\n",
    "       'Country_Italy', 'Country_Japan', 'Country_Latvia', 'Country_Mexico',\n",
    "       'Country_Moldova', 'Country_Netherlands', 'Country_New Zealand',\n",
    "       'Country_Nigeria', 'Country_Norway', 'Country_Philippines',\n",
    "       'Country_Poland', 'Country_Portugal', 'Country_Romania',\n",
    "       'Country_Russia', 'Country_Singapore', 'Country_Slovenia',\n",
    "       'Country_South Africa', 'Country_Spain', 'Country_Sweden',\n",
    "       'Country_Switzerland', 'Country_Thailand', 'Country_United Kingdom',\n",
    "       'Country_United States', 'Country_Uruguay', 'Country_Zimbabwe',\n",
    "       'self_employed_Yes', 'family_history_Yes', 'work_interfere_Never',\n",
    "       'work_interfere_Often', 'work_interfere_Rarely',\n",
    "       'work_interfere_Sometimes', 'no_employees_100-500',\n",
    "       'no_employees_26-100', 'no_employees_500-1000', 'no_employees_6-25',\n",
    "       'no_employees_More than 1000', 'remote_work_Yes', 'tech_company_Yes',\n",
    "       'benefits_No', 'benefits_Yes', 'care_options_Not sure',\n",
    "       'care_options_Yes', 'wellness_program_No', 'wellness_program_Yes',\n",
    "       'seek_help_No', 'seek_help_Yes', 'anonymity_No', 'anonymity_Yes',\n",
    "       'leave_Somewhat difficult', 'leave_Somewhat easy',\n",
    "       'leave_Very difficult', 'leave_Very easy',\n",
    "       'mental_health_consequence_No', 'mental_health_consequence_Yes',\n",
    "       'phys_health_consequence_No', 'phys_health_consequence_Yes',\n",
    "       'coworkers_Some of them', 'coworkers_Yes', 'supervisor_Some of them',\n",
    "       'supervisor_Yes', 'mental_health_interview_No',\n",
    "       'mental_health_interview_Yes', 'phys_health_interview_No',\n",
    "       'phys_health_interview_Yes', 'mental_vs_physical_No',\n",
    "       'mental_vs_physical_Yes', 'obs_consequence_Yes']"
   ]
  },
  {
   "cell_type": "code",
   "execution_count": 416,
   "metadata": {
    "ExecuteTime": {
     "end_time": "2020-12-16T18:58:17.015083Z",
     "start_time": "2020-12-16T18:58:16.959235Z"
    }
   },
   "outputs": [
    {
     "name": "stdout",
     "output_type": "stream",
     "text": [
      "<class 'pandas.core.frame.DataFrame'>\n",
      "RangeIndex: 1259 entries, 0 to 1258\n",
      "Data columns (total 92 columns):\n",
      " #   Column                          Non-Null Count  Dtype\n",
      "---  ------                          --------------  -----\n",
      " 0   Age                             1259 non-null   int64\n",
      " 1   Gender_male                     1259 non-null   uint8\n",
      " 2   Gender_trans                    1259 non-null   uint8\n",
      " 3   Country_Austria                 1259 non-null   uint8\n",
      " 4   Country_Bahamas                 1259 non-null   uint8\n",
      " 5   Country_Belgium                 1259 non-null   uint8\n",
      " 6   Country_Bosnia and Herzegovina  1259 non-null   uint8\n",
      " 7   Country_Brazil                  1259 non-null   uint8\n",
      " 8   Country_Bulgaria                1259 non-null   uint8\n",
      " 9   Country_Canada                  1259 non-null   uint8\n",
      " 10  Country_China                   1259 non-null   uint8\n",
      " 11  Country_Colombia                1259 non-null   uint8\n",
      " 12  Country_Costa Rica              1259 non-null   uint8\n",
      " 13  Country_Croatia                 1259 non-null   uint8\n",
      " 14  Country_Czech Republic          1259 non-null   uint8\n",
      " 15  Country_Denmark                 1259 non-null   uint8\n",
      " 16  Country_Finland                 1259 non-null   uint8\n",
      " 17  Country_France                  1259 non-null   uint8\n",
      " 18  Country_Georgia                 1259 non-null   uint8\n",
      " 19  Country_Germany                 1259 non-null   uint8\n",
      " 20  Country_Greece                  1259 non-null   uint8\n",
      " 21  Country_Hungary                 1259 non-null   uint8\n",
      " 22  Country_India                   1259 non-null   uint8\n",
      " 23  Country_Ireland                 1259 non-null   uint8\n",
      " 24  Country_Israel                  1259 non-null   uint8\n",
      " 25  Country_Italy                   1259 non-null   uint8\n",
      " 26  Country_Japan                   1259 non-null   uint8\n",
      " 27  Country_Latvia                  1259 non-null   uint8\n",
      " 28  Country_Mexico                  1259 non-null   uint8\n",
      " 29  Country_Moldova                 1259 non-null   uint8\n",
      " 30  Country_Netherlands             1259 non-null   uint8\n",
      " 31  Country_New Zealand             1259 non-null   uint8\n",
      " 32  Country_Nigeria                 1259 non-null   uint8\n",
      " 33  Country_Norway                  1259 non-null   uint8\n",
      " 34  Country_Philippines             1259 non-null   uint8\n",
      " 35  Country_Poland                  1259 non-null   uint8\n",
      " 36  Country_Portugal                1259 non-null   uint8\n",
      " 37  Country_Romania                 1259 non-null   uint8\n",
      " 38  Country_Russia                  1259 non-null   uint8\n",
      " 39  Country_Singapore               1259 non-null   uint8\n",
      " 40  Country_Slovenia                1259 non-null   uint8\n",
      " 41  Country_South Africa            1259 non-null   uint8\n",
      " 42  Country_Spain                   1259 non-null   uint8\n",
      " 43  Country_Sweden                  1259 non-null   uint8\n",
      " 44  Country_Switzerland             1259 non-null   uint8\n",
      " 45  Country_Thailand                1259 non-null   uint8\n",
      " 46  Country_United Kingdom          1259 non-null   uint8\n",
      " 47  Country_United States           1259 non-null   uint8\n",
      " 48  Country_Uruguay                 1259 non-null   uint8\n",
      " 49  Country_Zimbabwe                1259 non-null   uint8\n",
      " 50  self_employed_Yes               1259 non-null   uint8\n",
      " 51  family_history_Yes              1259 non-null   uint8\n",
      " 52  work_interfere_Never            1259 non-null   uint8\n",
      " 53  work_interfere_Often            1259 non-null   uint8\n",
      " 54  work_interfere_Rarely           1259 non-null   uint8\n",
      " 55  work_interfere_Sometimes        1259 non-null   uint8\n",
      " 56  no_employees_100-500            1259 non-null   uint8\n",
      " 57  no_employees_26-100             1259 non-null   uint8\n",
      " 58  no_employees_500-1000           1259 non-null   uint8\n",
      " 59  no_employees_6-25               1259 non-null   uint8\n",
      " 60  no_employees_More than 1000     1259 non-null   uint8\n",
      " 61  remote_work_Yes                 1259 non-null   uint8\n",
      " 62  tech_company_Yes                1259 non-null   uint8\n",
      " 63  benefits_No                     1259 non-null   uint8\n",
      " 64  benefits_Yes                    1259 non-null   uint8\n",
      " 65  care_options_Not sure           1259 non-null   uint8\n",
      " 66  care_options_Yes                1259 non-null   uint8\n",
      " 67  wellness_program_No             1259 non-null   uint8\n",
      " 68  wellness_program_Yes            1259 non-null   uint8\n",
      " 69  seek_help_No                    1259 non-null   uint8\n",
      " 70  seek_help_Yes                   1259 non-null   uint8\n",
      " 71  anonymity_No                    1259 non-null   uint8\n",
      " 72  anonymity_Yes                   1259 non-null   uint8\n",
      " 73  leave_Somewhat difficult        1259 non-null   uint8\n",
      " 74  leave_Somewhat easy             1259 non-null   uint8\n",
      " 75  leave_Very difficult            1259 non-null   uint8\n",
      " 76  leave_Very easy                 1259 non-null   uint8\n",
      " 77  mental_health_consequence_No    1259 non-null   uint8\n",
      " 78  mental_health_consequence_Yes   1259 non-null   uint8\n",
      " 79  phys_health_consequence_No      1259 non-null   uint8\n",
      " 80  phys_health_consequence_Yes     1259 non-null   uint8\n",
      " 81  coworkers_Some of them          1259 non-null   uint8\n",
      " 82  coworkers_Yes                   1259 non-null   uint8\n",
      " 83  supervisor_Some of them         1259 non-null   uint8\n",
      " 84  supervisor_Yes                  1259 non-null   uint8\n",
      " 85  mental_health_interview_No      1259 non-null   uint8\n",
      " 86  mental_health_interview_Yes     1259 non-null   uint8\n",
      " 87  phys_health_interview_No        1259 non-null   uint8\n",
      " 88  phys_health_interview_Yes       1259 non-null   uint8\n",
      " 89  mental_vs_physical_No           1259 non-null   uint8\n",
      " 90  mental_vs_physical_Yes          1259 non-null   uint8\n",
      " 91  obs_consequence_Yes             1259 non-null   uint8\n",
      "dtypes: int64(1), uint8(91)\n",
      "memory usage: 121.8 KB\n"
     ]
    }
   ],
   "source": [
    "X.info()"
   ]
  },
  {
   "cell_type": "code",
   "execution_count": 417,
   "metadata": {
    "ExecuteTime": {
     "end_time": "2020-12-16T18:58:28.199922Z",
     "start_time": "2020-12-16T18:58:28.190078Z"
    }
   },
   "outputs": [],
   "source": [
    "X_train, X_test, y_train, y_test = train_test_split(X, y,test_size=0.1)"
   ]
  },
  {
   "cell_type": "code",
   "execution_count": 418,
   "metadata": {
    "ExecuteTime": {
     "end_time": "2020-12-16T18:58:51.707830Z",
     "start_time": "2020-12-16T18:58:51.410575Z"
    }
   },
   "outputs": [
    {
     "data": {
      "text/plain": [
       "LGBMClassifier(max_depth=3, n_estimators=70)"
      ]
     },
     "execution_count": 418,
     "metadata": {},
     "output_type": "execute_result"
    }
   ],
   "source": [
    "lgbm.fit(X_train,y_train)"
   ]
  },
  {
   "cell_type": "code",
   "execution_count": 419,
   "metadata": {
    "ExecuteTime": {
     "end_time": "2020-12-16T18:59:00.552785Z",
     "start_time": "2020-12-16T18:59:00.517683Z"
    }
   },
   "outputs": [
    {
     "data": {
      "text/plain": [
       "0.8596646072374228"
      ]
     },
     "execution_count": 419,
     "metadata": {},
     "output_type": "execute_result"
    }
   ],
   "source": [
    "lgbm.score(X_train,y_train)"
   ]
  },
  {
   "cell_type": "code",
   "execution_count": 420,
   "metadata": {
    "ExecuteTime": {
     "end_time": "2020-12-16T18:59:25.285303Z",
     "start_time": "2020-12-16T18:59:25.255691Z"
    }
   },
   "outputs": [
    {
     "data": {
      "text/plain": [
       "0.8571428571428571"
      ]
     },
     "execution_count": 420,
     "metadata": {},
     "output_type": "execute_result"
    }
   ],
   "source": [
    "lgbm.score(X_test,y_test)"
   ]
  },
  {
   "cell_type": "code",
   "execution_count": 421,
   "metadata": {
    "ExecuteTime": {
     "end_time": "2020-12-16T18:59:37.367644Z",
     "start_time": "2020-12-16T18:59:37.334574Z"
    }
   },
   "outputs": [
    {
     "data": {
      "text/plain": [
       "0.8108108108108109"
      ]
     },
     "execution_count": 421,
     "metadata": {},
     "output_type": "execute_result"
    }
   ],
   "source": [
    "precision_score(y_test,lgbm.predict(X_test))"
   ]
  },
  {
   "cell_type": "code",
   "execution_count": 422,
   "metadata": {
    "ExecuteTime": {
     "end_time": "2020-12-16T18:59:48.006784Z",
     "start_time": "2020-12-16T18:59:47.983980Z"
    }
   },
   "outputs": [
    {
     "data": {
      "text/plain": [
       "0.9375"
      ]
     },
     "execution_count": 422,
     "metadata": {},
     "output_type": "execute_result"
    }
   ],
   "source": [
    "recall_score(y_test,lgbm.predict(X_test))"
   ]
  },
  {
   "cell_type": "code",
   "execution_count": 423,
   "metadata": {
    "ExecuteTime": {
     "end_time": "2020-12-16T19:02:48.943246Z",
     "start_time": "2020-12-16T19:02:48.414357Z"
    }
   },
   "outputs": [
    {
     "data": {
      "text/plain": [
       "<sklearn.metrics._plot.confusion_matrix.ConfusionMatrixDisplay at 0x126d7acd0>"
      ]
     },
     "execution_count": 423,
     "metadata": {},
     "output_type": "execute_result"
    },
    {
     "data": {
      "image/png": "[encoded data removed]",
      "text/plain": [
       "<Figure size 432x288 with 2 Axes>"
      ]
     },
     "metadata": {
      "needs_background": "light"
     },
     "output_type": "display_data"
    }
   ],
   "source": [
    "plot_confusion_matrix(lgbm, X_test, y_test, values_format='.0f')"
   ]
  },
  {
   "cell_type": "code",
   "execution_count": 424,
   "metadata": {
    "ExecuteTime": {
     "end_time": "2020-12-16T19:00:38.535574Z",
     "start_time": "2020-12-16T19:00:37.821666Z"
    }
   },
   "outputs": [
    {
     "data": {
      "text/plain": [
       "<sklearn.metrics._plot.roc_curve.RocCurveDisplay at 0x1272d8190>"
      ]
     },
     "execution_count": 424,
     "metadata": {},
     "output_type": "execute_result"
    },
    {
     "data": {
      "image/png": "[encoded data removed]",
      "text/plain": [
       "<Figure size 432x288 with 1 Axes>"
      ]
     },
     "metadata": {
      "needs_background": "light"
     },
     "output_type": "display_data"
    }
   ],
   "source": [
    "fig, ax = plt.subplots()\n",
    "\n",
    "plot_roc_curve(lgbm, X_train, y_train, color='red', ax= ax, name='train')\n",
    "plot_roc_curve(lgbm, X_test, y_test, color='blue', ax=ax, name='test')"
   ]
  },
  {
   "cell_type": "markdown",
   "metadata": {},
   "source": [
    "### Aplicação de LGBM com as colunas mais importantes:"
   ]
  },
  {
   "cell_type": "code",
   "execution_count": 425,
   "metadata": {
    "ExecuteTime": {
     "end_time": "2020-12-16T19:13:35.161899Z",
     "start_time": "2020-12-16T19:13:35.114583Z"
    }
   },
   "outputs": [
    {
     "data": {
      "text/plain": [
       "array([46, 16,  0,  0,  0,  0,  0,  0,  0,  1,  0,  0,  0,  0,  0,  0,  0,\n",
       "        0,  0,  0,  0,  0,  0,  1,  0,  0,  0,  0,  0,  0,  0,  0,  0,  0,\n",
       "        0,  0,  0,  0,  0,  0,  0,  0,  0,  0,  0,  0, 13, 11,  0,  0,  6,\n",
       "       28, 16, 35, 36, 50,  4,  3,  2,  2,  3,  4,  2,  2, 25,  8, 19,  1,\n",
       "        6,  4,  0,  0, 18, 10,  6,  3,  1, 11,  8,  6,  0,  6,  9,  5,  7,\n",
       "        4,  1,  3,  4,  0,  0,  1], dtype=int32)"
      ]
     },
     "execution_count": 425,
     "metadata": {},
     "output_type": "execute_result"
    }
   ],
   "source": [
    "lgbm.feature_importances_"
   ]
  },
  {
   "cell_type": "code",
   "execution_count": 426,
   "metadata": {
    "ExecuteTime": {
     "end_time": "2020-12-16T19:16:38.401155Z",
     "start_time": "2020-12-16T19:16:38.347743Z"
    }
   },
   "outputs": [
    {
     "data": {
      "text/plain": [
       "work_interfere_Sometimes         50\n",
       "Age                              46\n",
       "work_interfere_Rarely            36\n",
       "work_interfere_Often             35\n",
       "family_history_Yes               28\n",
       "benefits_Yes                     25\n",
       "care_options_Yes                 19\n",
       "anonymity_Yes                    18\n",
       "work_interfere_Never             16\n",
       "Gender_male                      16\n",
       "Country_United Kingdom           13\n",
       "mental_health_consequence_No     11\n",
       "Country_United States            11\n",
       "leave_Somewhat difficult         10\n",
       "coworkers_Yes                     9\n",
       "care_options_Not sure             8\n",
       "mental_health_consequence_Yes     8\n",
       "supervisor_Yes                    7\n",
       "wellness_program_Yes              6\n",
       "self_employed_Yes                 6\n",
       "dtype: int64"
      ]
     },
     "execution_count": 426,
     "metadata": {},
     "output_type": "execute_result"
    }
   ],
   "source": [
    "coef_by_columns=pd.Series(dict(zip(X.columns,lgbm.feature_importances_))).sort_values(ascending=False)\n",
    "coef_by_columns.head(20)"
   ]
  },
  {
   "cell_type": "code",
   "execution_count": 427,
   "metadata": {
    "ExecuteTime": {
     "end_time": "2020-12-16T19:23:10.683812Z",
     "start_time": "2020-12-16T19:23:10.600486Z"
    }
   },
   "outputs": [],
   "source": [
    "X2=df[['work_interfere_Sometimes','Age','work_interfere_Often','work_interfere_Rarely','benefits_Yes','family_history_Yes','Gender_male','Country_United States','work_interfere_Never','care_options_Yes','coworkers_Yes','Country_United Kingdom','leave_Somewhat difficult','anonymity_Yes','coworkers_Some of them']]\n"
   ]
  },
  {
   "cell_type": "code",
   "execution_count": 428,
   "metadata": {
    "ExecuteTime": {
     "end_time": "2020-12-16T19:23:33.912047Z",
     "start_time": "2020-12-16T19:23:33.894163Z"
    }
   },
   "outputs": [],
   "source": [
    "y2=df['treatment_Yes']"
   ]
  },
  {
   "cell_type": "code",
   "execution_count": 429,
   "metadata": {
    "ExecuteTime": {
     "end_time": "2020-12-16T19:24:09.652710Z",
     "start_time": "2020-12-16T19:24:09.633451Z"
    }
   },
   "outputs": [],
   "source": [
    "X_train2, X_test2, y_train2, y_test2 = train_test_split(X2, y2,test_size=0.1)"
   ]
  },
  {
   "cell_type": "code",
   "execution_count": 430,
   "metadata": {
    "ExecuteTime": {
     "end_time": "2020-12-16T19:25:59.906419Z",
     "start_time": "2020-12-16T19:25:59.849882Z"
    }
   },
   "outputs": [],
   "source": [
    "scaler = StandardScaler()\n",
    "scaler.fit(X_train2)\n",
    "X_train2 = scaler.transform(X_train2)"
   ]
  },
  {
   "cell_type": "code",
   "execution_count": 431,
   "metadata": {
    "ExecuteTime": {
     "end_time": "2020-12-16T19:26:09.324296Z",
     "start_time": "2020-12-16T19:26:09.306243Z"
    }
   },
   "outputs": [],
   "source": [
    "scaler = StandardScaler()\n",
    "scaler.fit(X_test2)\n",
    "X_test2 = scaler.transform(X_test2)"
   ]
  },
  {
   "cell_type": "code",
   "execution_count": 432,
   "metadata": {
    "ExecuteTime": {
     "end_time": "2020-12-16T19:26:19.104530Z",
     "start_time": "2020-12-16T19:26:18.995449Z"
    }
   },
   "outputs": [
    {
     "data": {
      "text/plain": [
       "LGBMClassifier(max_depth=3, n_estimators=70)"
      ]
     },
     "execution_count": 432,
     "metadata": {},
     "output_type": "execute_result"
    }
   ],
   "source": [
    "lgbm.fit(X_train2,y_train2)"
   ]
  },
  {
   "cell_type": "code",
   "execution_count": 433,
   "metadata": {
    "ExecuteTime": {
     "end_time": "2020-12-16T19:26:28.085549Z",
     "start_time": "2020-12-16T19:26:28.062772Z"
    }
   },
   "outputs": [
    {
     "data": {
      "text/plain": [
       "0.853486319505737"
      ]
     },
     "execution_count": 433,
     "metadata": {},
     "output_type": "execute_result"
    }
   ],
   "source": [
    "lgbm.score(X_train2,y_train2)"
   ]
  },
  {
   "cell_type": "code",
   "execution_count": 434,
   "metadata": {
    "ExecuteTime": {
     "end_time": "2020-12-16T19:26:36.672910Z",
     "start_time": "2020-12-16T19:26:36.658136Z"
    }
   },
   "outputs": [
    {
     "data": {
      "text/plain": [
       "0.8492063492063492"
      ]
     },
     "execution_count": 434,
     "metadata": {},
     "output_type": "execute_result"
    }
   ],
   "source": [
    "lgbm.score(X_test2,y_test2)"
   ]
  },
  {
   "cell_type": "code",
   "execution_count": 435,
   "metadata": {
    "ExecuteTime": {
     "end_time": "2020-12-16T19:26:45.804533Z",
     "start_time": "2020-12-16T19:26:45.772858Z"
    }
   },
   "outputs": [
    {
     "data": {
      "text/plain": [
       "0.7857142857142857"
      ]
     },
     "execution_count": 435,
     "metadata": {},
     "output_type": "execute_result"
    }
   ],
   "source": [
    "precision_score(y_test2,lgbm.predict(X_test2))"
   ]
  },
  {
   "cell_type": "code",
   "execution_count": 436,
   "metadata": {
    "ExecuteTime": {
     "end_time": "2020-12-16T19:26:54.520264Z",
     "start_time": "2020-12-16T19:26:54.486791Z"
    }
   },
   "outputs": [
    {
     "data": {
      "text/plain": [
       "0.9322033898305084"
      ]
     },
     "execution_count": 436,
     "metadata": {},
     "output_type": "execute_result"
    }
   ],
   "source": [
    "recall_score(y_test2,lgbm.predict(X_test2))"
   ]
  },
  {
   "cell_type": "code",
   "execution_count": 437,
   "metadata": {
    "ExecuteTime": {
     "end_time": "2020-12-16T19:27:26.031157Z",
     "start_time": "2020-12-16T19:27:25.416233Z"
    }
   },
   "outputs": [
    {
     "data": {
      "text/plain": [
       "<sklearn.metrics._plot.confusion_matrix.ConfusionMatrixDisplay at 0x127339d30>"
      ]
     },
     "execution_count": 437,
     "metadata": {},
     "output_type": "execute_result"
    },
    {
     "data": {
      "image/png": "[encoded data removed]",
      "text/plain": [
       "<Figure size 432x288 with 2 Axes>"
      ]
     },
     "metadata": {
      "needs_background": "light"
     },
     "output_type": "display_data"
    }
   ],
   "source": [
    "plot_confusion_matrix(lgbm, X_test2, y_test2, values_format='.0f')"
   ]
  },
  {
   "cell_type": "code",
   "execution_count": 438,
   "metadata": {
    "ExecuteTime": {
     "end_time": "2020-12-16T19:27:46.548246Z",
     "start_time": "2020-12-16T19:27:46.018944Z"
    }
   },
   "outputs": [
    {
     "data": {
      "text/plain": [
       "<sklearn.metrics._plot.roc_curve.RocCurveDisplay at 0x1273dd370>"
      ]
     },
     "execution_count": 438,
     "metadata": {},
     "output_type": "execute_result"
    },
    {
     "data": {
      "image/png": "[encoded data removed]",
      "text/plain": [
       "<Figure size 432x288 with 1 Axes>"
      ]
     },
     "metadata": {
      "needs_background": "light"
     },
     "output_type": "display_data"
    }
   ],
   "source": [
    "fig, ax = plt.subplots()\n",
    "\n",
    "plot_roc_curve(lgbm, X_train2, y_train2, color='red', ax= ax, name='train')\n",
    "plot_roc_curve(lgbm, X_test2, y_test2, color='blue', ax=ax, name='test')"
   ]
  },
  {
   "cell_type": "markdown",
   "metadata": {},
   "source": [
    "## Learning curve : relação entre o tamanho do teste e sua acurácia"
   ]
  },
  {
   "cell_type": "code",
   "execution_count": 439,
   "metadata": {
    "ExecuteTime": {
     "end_time": "2020-12-16T12:47:08.244925Z",
     "start_time": "2020-12-16T12:47:08.217132Z"
    }
   },
   "outputs": [],
   "source": [
    "#train_sizes"
   ]
  },
  {
   "cell_type": "code",
   "execution_count": 440,
   "metadata": {
    "ExecuteTime": {
     "end_time": "2020-12-16T19:28:36.410764Z",
     "start_time": "2020-12-16T19:28:34.390750Z"
    }
   },
   "outputs": [
    {
     "data": {
      "image/png": "[encoded data removed]",
      "text/plain": [
       "<Figure size 432x288 with 1 Axes>"
      ]
     },
     "metadata": {
      "needs_background": "light"
     },
     "output_type": "display_data"
    }
   ],
   "source": [
    "from sklearn.model_selection import learning_curve\n",
    "\n",
    "curve = learning_curve(lgbm, X, y, scoring='accuracy')\n",
    "\n",
    "train_sizes = curve[0]\n",
    "train_scores = curve[1]\n",
    "test_scores = curve[2]\n",
    "\n",
    "plt.plot(train_sizes, train_scores.mean(axis=1), '-o', label='Training AUC')\n",
    "plt.plot(train_sizes, test_scores.mean(axis=1), '-o', label='Test AUC')\n",
    "plt.ylim([0.5, 1])\n",
    "plt.xlabel('Training Sizes')\n",
    "plt.ylabel('Scores')\n",
    "plt.legend(loc=4)\n",
    "plt.grid()"
   ]
  },
  {
   "cell_type": "markdown",
   "metadata": {},
   "source": [
    "## Outra forma de teste: cross_validate"
   ]
  },
  {
   "cell_type": "code",
   "execution_count": 441,
   "metadata": {
    "ExecuteTime": {
     "end_time": "2020-12-16T19:29:00.521204Z",
     "start_time": "2020-12-16T19:29:00.516486Z"
    }
   },
   "outputs": [],
   "source": [
    "from sklearn.model_selection import cross_val_score, cross_validate,KFold"
   ]
  },
  {
   "cell_type": "code",
   "execution_count": 442,
   "metadata": {
    "ExecuteTime": {
     "end_time": "2020-12-16T19:29:13.172954Z",
     "start_time": "2020-12-16T19:29:08.430726Z"
    }
   },
   "outputs": [
    {
     "data": {
      "text/plain": [
       "{'fit_time': array([0.15943289, 0.1821301 , 0.17841172, 0.19439793, 0.06493592,\n",
       "        0.08332014, 0.0696032 , 0.06894588, 0.06491399, 0.04319715]),\n",
       " 'score_time': array([0.00713396, 0.03970885, 0.01104522, 0.03078508, 0.00698686,\n",
       "        0.00951195, 0.01173091, 0.00803304, 0.00728798, 0.00471091]),\n",
       " 'test_score': array([0.82539683, 0.83333333, 0.82539683, 0.86507937, 0.80952381,\n",
       "        0.85714286, 0.82539683, 0.83333333, 0.84126984, 0.824     ]),\n",
       " 'train_score': array([0.86407767, 0.86231244, 0.85613416, 0.85878199, 0.85436893,\n",
       "        0.85701677, 0.85878199, 0.85701677, 0.85878199, 0.8633157 ])}"
      ]
     },
     "execution_count": 442,
     "metadata": {},
     "output_type": "execute_result"
    }
   ],
   "source": [
    "cross_validate(lgbm, X, y, cv=KFold(n_splits=10), scoring='accuracy', return_train_score=True, n_jobs=-1)"
   ]
  },
  {
   "cell_type": "code",
   "execution_count": null,
   "metadata": {},
   "outputs": [],
   "source": []
  },
  {
   "cell_type": "code",
   "execution_count": null,
   "metadata": {},
   "outputs": [],
   "source": []
  }
 ],
 "metadata": {
  "kernelspec": {
   "display_name": "Python 3",
   "language": "python",
   "name": "python3"
  },
  "language_info": {
   "codemirror_mode": {
    "name": "ipython",
    "version": 3
   },
   "file_extension": ".py",
   "mimetype": "text/x-python",
   "name": "python",
   "nbconvert_exporter": "python",
   "pygments_lexer": "ipython3",
   "version": "3.8.5"
  },
  "toc": {
   "base_numbering": 1,
   "nav_menu": {},
   "number_sections": true,
   "sideBar": true,
   "skip_h1_title": false,
   "title_cell": "Table of Contents",
   "title_sidebar": "Contents",
   "toc_cell": false,
   "toc_position": {},
   "toc_section_display": true,
   "toc_window_display": false
  },
  "varInspector": {
   "cols": {
    "lenName": 16,
    "lenType": 16,
    "lenVar": 40
   },
   "kernels_config": {
    "python": {
     "delete_cmd_postfix": "",
     "delete_cmd_prefix": "del ",
     "library": "var_list.py",
     "varRefreshCmd": "print(var_dic_list())"
    },
    "r": {
     "delete_cmd_postfix": ") ",
     "delete_cmd_prefix": "rm(",
     "library": "var_list.r",
     "varRefreshCmd": "cat(var_dic_list()) "
    }
   },
   "types_to_exclude": [
    "module",
    "function",
    "builtin_function_or_method",
    "instance",
    "_Feature"
   ],
   "window_display": false
  }
 },
 "nbformat": 4,
 "nbformat_minor": 4
}
